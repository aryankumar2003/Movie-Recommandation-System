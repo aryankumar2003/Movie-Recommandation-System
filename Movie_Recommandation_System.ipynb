{
  "nbformat": 4,
  "nbformat_minor": 0,
  "metadata": {
    "colab": {
      "provenance": []
    },
    "kernelspec": {
      "name": "python3",
      "display_name": "Python 3"
    },
    "language_info": {
      "name": "python"
    }
  },
  "cells": [
    {
      "cell_type": "markdown",
      "source": [
        "# **Movie Recommendation System**\n",
        "**Recommendation System** is a system that seeks to predict or filter preferecens according to the user's choices. Recommender System are utilized in a variety of arers including movies, music, news, books, research etc.\n",
        "There are two ways of implimenting recommendation system:\n",
        "\n",
        "\n",
        "**Collaborative filtering** : Collaborative filtering approaches build a model from the user's part behavior.\n",
        "\n",
        "\n",
        "\n",
        "\n",
        "\n",
        "**Content-based-filtering** Content-based filtering approaches uses a series of discrete characteristics of an item in order to recommend additional items with similar properties.Content-based filterig methods are totally based o a description of the item ans a profile of the user's preferences.\n",
        "\n",
        "\n",
        "\n"
      ],
      "metadata": {
        "id": "fDQzbneRQpvH"
      }
    },
    {
      "cell_type": "markdown",
      "source": [
        "# Import Library"
      ],
      "metadata": {
        "id": "GGbZUKKtUyba"
      }
    },
    {
      "cell_type": "code",
      "source": [
        "import pandas as pd"
      ],
      "metadata": {
        "id": "F2GETP9nU6qB"
      },
      "execution_count": null,
      "outputs": []
    },
    {
      "cell_type": "code",
      "source": [
        "import numpy as np"
      ],
      "metadata": {
        "id": "40UgZChkU-q6"
      },
      "execution_count": null,
      "outputs": []
    },
    {
      "cell_type": "markdown",
      "source": [
        "# Import Dataset"
      ],
      "metadata": {
        "id": "outj-6IAVGOR"
      }
    },
    {
      "cell_type": "code",
      "source": [
        "df=pd.read_csv(r'https://github.com/YBIFoundation/Dataset/raw/6ab72b2023205e42943a48584220b22ea8f84a88/Movies%20Recommendation.csv')"
      ],
      "metadata": {
        "id": "KhjrIoLmWDrB"
      },
      "execution_count": 3,
      "outputs": []
    },
    {
      "cell_type": "code",
      "source": [
        "df.head()"
      ],
      "metadata": {
        "colab": {
          "base_uri": "https://localhost:8080/",
          "height": 672
        },
        "id": "VXsWO5vWWR_a",
        "outputId": "c547b852-aed3-4fa9-fe51-1ad6a22c69b3"
      },
      "execution_count": 4,
      "outputs": [
        {
          "output_type": "execute_result",
          "data": {
            "text/plain": [
              "   Movie_ID      Movie_Title                       Movie_Genre Movie_Language  \\\n",
              "0         1       Four Rooms                      Crime Comedy             en   \n",
              "1         2        Star Wars  Adventure Action Science Fiction             en   \n",
              "2         3     Finding Nemo                  Animation Family             en   \n",
              "3         4     Forrest Gump              Comedy Drama Romance             en   \n",
              "4         5  American Beauty                             Drama             en   \n",
              "\n",
              "   Movie_Budget  Movie_Popularity Movie_Release_Date  Movie_Revenue  \\\n",
              "0       4000000         22.876230         09-12-1995        4300000   \n",
              "1      11000000        126.393695         25-05-1977      775398007   \n",
              "2      94000000         85.688789         30-05-2003      940335536   \n",
              "3      55000000        138.133331         06-07-1994      677945399   \n",
              "4      15000000         80.878605         15-09-1999      356296601   \n",
              "\n",
              "   Movie_Runtime  Movie_Vote  ...  \\\n",
              "0           98.0         6.5  ...   \n",
              "1          121.0         8.1  ...   \n",
              "2          100.0         7.6  ...   \n",
              "3          142.0         8.2  ...   \n",
              "4          122.0         7.9  ...   \n",
              "\n",
              "                                      Movie_Homepage  \\\n",
              "0                                                NaN   \n",
              "1  http://www.starwars.com/films/star-wars-episod...   \n",
              "2              http://movies.disney.com/finding-nemo   \n",
              "3                                                NaN   \n",
              "4                      http://www.dreamworks.com/ab/   \n",
              "\n",
              "                                      Movie_Keywords  \\\n",
              "0          hotel new year's eve witch bet hotel room   \n",
              "1        android galaxy hermit death star lightsaber   \n",
              "2  father son relationship harbor underwater fish...   \n",
              "3  vietnam veteran hippie mentally disabled runni...   \n",
              "4  male nudity female nudity adultery midlife cri...   \n",
              "\n",
              "                                      Movie_Overview  \\\n",
              "0  It's Ted the Bellhop's first night on the job....   \n",
              "1  Princess Leia is captured and held hostage by ...   \n",
              "2  Nemo, an adventurous young clownfish, is unexp...   \n",
              "3  A man with a low IQ has accomplished great thi...   \n",
              "4  Lester Burnham, a depressed suburban father in...   \n",
              "\n",
              "                              Movie_Production_House  \\\n",
              "0  [{\"name\": \"Miramax Films\", \"id\": 14}, {\"name\":...   \n",
              "1  [{\"name\": \"Lucasfilm\", \"id\": 1}, {\"name\": \"Twe...   \n",
              "2     [{\"name\": \"Pixar Animation Studios\", \"id\": 3}]   \n",
              "3          [{\"name\": \"Paramount Pictures\", \"id\": 4}]   \n",
              "4  [{\"name\": \"DreamWorks SKG\", \"id\": 27}, {\"name\"...   \n",
              "\n",
              "                            Movie_Production_Country  \\\n",
              "0  [{\"iso_3166_1\": \"US\", \"name\": \"United States o...   \n",
              "1  [{\"iso_3166_1\": \"US\", \"name\": \"United States o...   \n",
              "2  [{\"iso_3166_1\": \"US\", \"name\": \"United States o...   \n",
              "3  [{\"iso_3166_1\": \"US\", \"name\": \"United States o...   \n",
              "4  [{\"iso_3166_1\": \"US\", \"name\": \"United States o...   \n",
              "\n",
              "                      Movie_Spoken_Language  \\\n",
              "0  [{\"iso_639_1\": \"en\", \"name\": \"English\"}]   \n",
              "1  [{\"iso_639_1\": \"en\", \"name\": \"English\"}]   \n",
              "2  [{\"iso_639_1\": \"en\", \"name\": \"English\"}]   \n",
              "3  [{\"iso_639_1\": \"en\", \"name\": \"English\"}]   \n",
              "4  [{\"iso_639_1\": \"en\", \"name\": \"English\"}]   \n",
              "\n",
              "                                       Movie_Tagline  \\\n",
              "0  Twelve outrageous guests. Four scandalous requ...   \n",
              "1       A long time ago in a galaxy far, far away...   \n",
              "2  There are 3.7 trillion fish in the ocean, they...   \n",
              "3  The world will never be the same, once you've ...   \n",
              "4                                       Look closer.   \n",
              "\n",
              "                                          Movie_Cast  \\\n",
              "0  Tim Roth Antonio Banderas Jennifer Beals Madon...   \n",
              "1  Mark Hamill Harrison Ford Carrie Fisher Peter ...   \n",
              "2  Albert Brooks Ellen DeGeneres Alexander Gould ...   \n",
              "3  Tom Hanks Robin Wright Gary Sinise Mykelti Wil...   \n",
              "4  Kevin Spacey Annette Bening Thora Birch Wes Be...   \n",
              "\n",
              "                                          Movie_Crew   Movie_Director  \n",
              "0  [{'name': 'Allison Anders', 'gender': 1, 'depa...   Allison Anders  \n",
              "1  [{'name': 'George Lucas', 'gender': 2, 'depart...     George Lucas  \n",
              "2  [{'name': 'Andrew Stanton', 'gender': 2, 'depa...   Andrew Stanton  \n",
              "3  [{'name': 'Alan Silvestri', 'gender': 2, 'depa...  Robert Zemeckis  \n",
              "4  [{'name': 'Thomas Newman', 'gender': 2, 'depar...       Sam Mendes  \n",
              "\n",
              "[5 rows x 21 columns]"
            ],
            "text/html": [
              "\n",
              "  <div id=\"df-3364d150-a740-49ab-ab4d-d59d78aba56c\" class=\"colab-df-container\">\n",
              "    <div>\n",
              "<style scoped>\n",
              "    .dataframe tbody tr th:only-of-type {\n",
              "        vertical-align: middle;\n",
              "    }\n",
              "\n",
              "    .dataframe tbody tr th {\n",
              "        vertical-align: top;\n",
              "    }\n",
              "\n",
              "    .dataframe thead th {\n",
              "        text-align: right;\n",
              "    }\n",
              "</style>\n",
              "<table border=\"1\" class=\"dataframe\">\n",
              "  <thead>\n",
              "    <tr style=\"text-align: right;\">\n",
              "      <th></th>\n",
              "      <th>Movie_ID</th>\n",
              "      <th>Movie_Title</th>\n",
              "      <th>Movie_Genre</th>\n",
              "      <th>Movie_Language</th>\n",
              "      <th>Movie_Budget</th>\n",
              "      <th>Movie_Popularity</th>\n",
              "      <th>Movie_Release_Date</th>\n",
              "      <th>Movie_Revenue</th>\n",
              "      <th>Movie_Runtime</th>\n",
              "      <th>Movie_Vote</th>\n",
              "      <th>...</th>\n",
              "      <th>Movie_Homepage</th>\n",
              "      <th>Movie_Keywords</th>\n",
              "      <th>Movie_Overview</th>\n",
              "      <th>Movie_Production_House</th>\n",
              "      <th>Movie_Production_Country</th>\n",
              "      <th>Movie_Spoken_Language</th>\n",
              "      <th>Movie_Tagline</th>\n",
              "      <th>Movie_Cast</th>\n",
              "      <th>Movie_Crew</th>\n",
              "      <th>Movie_Director</th>\n",
              "    </tr>\n",
              "  </thead>\n",
              "  <tbody>\n",
              "    <tr>\n",
              "      <th>0</th>\n",
              "      <td>1</td>\n",
              "      <td>Four Rooms</td>\n",
              "      <td>Crime Comedy</td>\n",
              "      <td>en</td>\n",
              "      <td>4000000</td>\n",
              "      <td>22.876230</td>\n",
              "      <td>09-12-1995</td>\n",
              "      <td>4300000</td>\n",
              "      <td>98.0</td>\n",
              "      <td>6.5</td>\n",
              "      <td>...</td>\n",
              "      <td>NaN</td>\n",
              "      <td>hotel new year's eve witch bet hotel room</td>\n",
              "      <td>It's Ted the Bellhop's first night on the job....</td>\n",
              "      <td>[{\"name\": \"Miramax Films\", \"id\": 14}, {\"name\":...</td>\n",
              "      <td>[{\"iso_3166_1\": \"US\", \"name\": \"United States o...</td>\n",
              "      <td>[{\"iso_639_1\": \"en\", \"name\": \"English\"}]</td>\n",
              "      <td>Twelve outrageous guests. Four scandalous requ...</td>\n",
              "      <td>Tim Roth Antonio Banderas Jennifer Beals Madon...</td>\n",
              "      <td>[{'name': 'Allison Anders', 'gender': 1, 'depa...</td>\n",
              "      <td>Allison Anders</td>\n",
              "    </tr>\n",
              "    <tr>\n",
              "      <th>1</th>\n",
              "      <td>2</td>\n",
              "      <td>Star Wars</td>\n",
              "      <td>Adventure Action Science Fiction</td>\n",
              "      <td>en</td>\n",
              "      <td>11000000</td>\n",
              "      <td>126.393695</td>\n",
              "      <td>25-05-1977</td>\n",
              "      <td>775398007</td>\n",
              "      <td>121.0</td>\n",
              "      <td>8.1</td>\n",
              "      <td>...</td>\n",
              "      <td>http://www.starwars.com/films/star-wars-episod...</td>\n",
              "      <td>android galaxy hermit death star lightsaber</td>\n",
              "      <td>Princess Leia is captured and held hostage by ...</td>\n",
              "      <td>[{\"name\": \"Lucasfilm\", \"id\": 1}, {\"name\": \"Twe...</td>\n",
              "      <td>[{\"iso_3166_1\": \"US\", \"name\": \"United States o...</td>\n",
              "      <td>[{\"iso_639_1\": \"en\", \"name\": \"English\"}]</td>\n",
              "      <td>A long time ago in a galaxy far, far away...</td>\n",
              "      <td>Mark Hamill Harrison Ford Carrie Fisher Peter ...</td>\n",
              "      <td>[{'name': 'George Lucas', 'gender': 2, 'depart...</td>\n",
              "      <td>George Lucas</td>\n",
              "    </tr>\n",
              "    <tr>\n",
              "      <th>2</th>\n",
              "      <td>3</td>\n",
              "      <td>Finding Nemo</td>\n",
              "      <td>Animation Family</td>\n",
              "      <td>en</td>\n",
              "      <td>94000000</td>\n",
              "      <td>85.688789</td>\n",
              "      <td>30-05-2003</td>\n",
              "      <td>940335536</td>\n",
              "      <td>100.0</td>\n",
              "      <td>7.6</td>\n",
              "      <td>...</td>\n",
              "      <td>http://movies.disney.com/finding-nemo</td>\n",
              "      <td>father son relationship harbor underwater fish...</td>\n",
              "      <td>Nemo, an adventurous young clownfish, is unexp...</td>\n",
              "      <td>[{\"name\": \"Pixar Animation Studios\", \"id\": 3}]</td>\n",
              "      <td>[{\"iso_3166_1\": \"US\", \"name\": \"United States o...</td>\n",
              "      <td>[{\"iso_639_1\": \"en\", \"name\": \"English\"}]</td>\n",
              "      <td>There are 3.7 trillion fish in the ocean, they...</td>\n",
              "      <td>Albert Brooks Ellen DeGeneres Alexander Gould ...</td>\n",
              "      <td>[{'name': 'Andrew Stanton', 'gender': 2, 'depa...</td>\n",
              "      <td>Andrew Stanton</td>\n",
              "    </tr>\n",
              "    <tr>\n",
              "      <th>3</th>\n",
              "      <td>4</td>\n",
              "      <td>Forrest Gump</td>\n",
              "      <td>Comedy Drama Romance</td>\n",
              "      <td>en</td>\n",
              "      <td>55000000</td>\n",
              "      <td>138.133331</td>\n",
              "      <td>06-07-1994</td>\n",
              "      <td>677945399</td>\n",
              "      <td>142.0</td>\n",
              "      <td>8.2</td>\n",
              "      <td>...</td>\n",
              "      <td>NaN</td>\n",
              "      <td>vietnam veteran hippie mentally disabled runni...</td>\n",
              "      <td>A man with a low IQ has accomplished great thi...</td>\n",
              "      <td>[{\"name\": \"Paramount Pictures\", \"id\": 4}]</td>\n",
              "      <td>[{\"iso_3166_1\": \"US\", \"name\": \"United States o...</td>\n",
              "      <td>[{\"iso_639_1\": \"en\", \"name\": \"English\"}]</td>\n",
              "      <td>The world will never be the same, once you've ...</td>\n",
              "      <td>Tom Hanks Robin Wright Gary Sinise Mykelti Wil...</td>\n",
              "      <td>[{'name': 'Alan Silvestri', 'gender': 2, 'depa...</td>\n",
              "      <td>Robert Zemeckis</td>\n",
              "    </tr>\n",
              "    <tr>\n",
              "      <th>4</th>\n",
              "      <td>5</td>\n",
              "      <td>American Beauty</td>\n",
              "      <td>Drama</td>\n",
              "      <td>en</td>\n",
              "      <td>15000000</td>\n",
              "      <td>80.878605</td>\n",
              "      <td>15-09-1999</td>\n",
              "      <td>356296601</td>\n",
              "      <td>122.0</td>\n",
              "      <td>7.9</td>\n",
              "      <td>...</td>\n",
              "      <td>http://www.dreamworks.com/ab/</td>\n",
              "      <td>male nudity female nudity adultery midlife cri...</td>\n",
              "      <td>Lester Burnham, a depressed suburban father in...</td>\n",
              "      <td>[{\"name\": \"DreamWorks SKG\", \"id\": 27}, {\"name\"...</td>\n",
              "      <td>[{\"iso_3166_1\": \"US\", \"name\": \"United States o...</td>\n",
              "      <td>[{\"iso_639_1\": \"en\", \"name\": \"English\"}]</td>\n",
              "      <td>Look closer.</td>\n",
              "      <td>Kevin Spacey Annette Bening Thora Birch Wes Be...</td>\n",
              "      <td>[{'name': 'Thomas Newman', 'gender': 2, 'depar...</td>\n",
              "      <td>Sam Mendes</td>\n",
              "    </tr>\n",
              "  </tbody>\n",
              "</table>\n",
              "<p>5 rows × 21 columns</p>\n",
              "</div>\n",
              "    <div class=\"colab-df-buttons\">\n",
              "\n",
              "  <div class=\"colab-df-container\">\n",
              "    <button class=\"colab-df-convert\" onclick=\"convertToInteractive('df-3364d150-a740-49ab-ab4d-d59d78aba56c')\"\n",
              "            title=\"Convert this dataframe to an interactive table.\"\n",
              "            style=\"display:none;\">\n",
              "\n",
              "  <svg xmlns=\"http://www.w3.org/2000/svg\" height=\"24px\" viewBox=\"0 -960 960 960\">\n",
              "    <path d=\"M120-120v-720h720v720H120Zm60-500h600v-160H180v160Zm220 220h160v-160H400v160Zm0 220h160v-160H400v160ZM180-400h160v-160H180v160Zm440 0h160v-160H620v160ZM180-180h160v-160H180v160Zm440 0h160v-160H620v160Z\"/>\n",
              "  </svg>\n",
              "    </button>\n",
              "\n",
              "  <style>\n",
              "    .colab-df-container {\n",
              "      display:flex;\n",
              "      gap: 12px;\n",
              "    }\n",
              "\n",
              "    .colab-df-convert {\n",
              "      background-color: #E8F0FE;\n",
              "      border: none;\n",
              "      border-radius: 50%;\n",
              "      cursor: pointer;\n",
              "      display: none;\n",
              "      fill: #1967D2;\n",
              "      height: 32px;\n",
              "      padding: 0 0 0 0;\n",
              "      width: 32px;\n",
              "    }\n",
              "\n",
              "    .colab-df-convert:hover {\n",
              "      background-color: #E2EBFA;\n",
              "      box-shadow: 0px 1px 2px rgba(60, 64, 67, 0.3), 0px 1px 3px 1px rgba(60, 64, 67, 0.15);\n",
              "      fill: #174EA6;\n",
              "    }\n",
              "\n",
              "    .colab-df-buttons div {\n",
              "      margin-bottom: 4px;\n",
              "    }\n",
              "\n",
              "    [theme=dark] .colab-df-convert {\n",
              "      background-color: #3B4455;\n",
              "      fill: #D2E3FC;\n",
              "    }\n",
              "\n",
              "    [theme=dark] .colab-df-convert:hover {\n",
              "      background-color: #434B5C;\n",
              "      box-shadow: 0px 1px 3px 1px rgba(0, 0, 0, 0.15);\n",
              "      filter: drop-shadow(0px 1px 2px rgba(0, 0, 0, 0.3));\n",
              "      fill: #FFFFFF;\n",
              "    }\n",
              "  </style>\n",
              "\n",
              "    <script>\n",
              "      const buttonEl =\n",
              "        document.querySelector('#df-3364d150-a740-49ab-ab4d-d59d78aba56c button.colab-df-convert');\n",
              "      buttonEl.style.display =\n",
              "        google.colab.kernel.accessAllowed ? 'block' : 'none';\n",
              "\n",
              "      async function convertToInteractive(key) {\n",
              "        const element = document.querySelector('#df-3364d150-a740-49ab-ab4d-d59d78aba56c');\n",
              "        const dataTable =\n",
              "          await google.colab.kernel.invokeFunction('convertToInteractive',\n",
              "                                                    [key], {});\n",
              "        if (!dataTable) return;\n",
              "\n",
              "        const docLinkHtml = 'Like what you see? Visit the ' +\n",
              "          '<a target=\"_blank\" href=https://colab.research.google.com/notebooks/data_table.ipynb>data table notebook</a>'\n",
              "          + ' to learn more about interactive tables.';\n",
              "        element.innerHTML = '';\n",
              "        dataTable['output_type'] = 'display_data';\n",
              "        await google.colab.output.renderOutput(dataTable, element);\n",
              "        const docLink = document.createElement('div');\n",
              "        docLink.innerHTML = docLinkHtml;\n",
              "        element.appendChild(docLink);\n",
              "      }\n",
              "    </script>\n",
              "  </div>\n",
              "\n",
              "\n",
              "<div id=\"df-756b6e8b-981f-40dd-ae1f-077fca86b1a1\">\n",
              "  <button class=\"colab-df-quickchart\" onclick=\"quickchart('df-756b6e8b-981f-40dd-ae1f-077fca86b1a1')\"\n",
              "            title=\"Suggest charts\"\n",
              "            style=\"display:none;\">\n",
              "\n",
              "<svg xmlns=\"http://www.w3.org/2000/svg\" height=\"24px\"viewBox=\"0 0 24 24\"\n",
              "     width=\"24px\">\n",
              "    <g>\n",
              "        <path d=\"M19 3H5c-1.1 0-2 .9-2 2v14c0 1.1.9 2 2 2h14c1.1 0 2-.9 2-2V5c0-1.1-.9-2-2-2zM9 17H7v-7h2v7zm4 0h-2V7h2v10zm4 0h-2v-4h2v4z\"/>\n",
              "    </g>\n",
              "</svg>\n",
              "  </button>\n",
              "\n",
              "<style>\n",
              "  .colab-df-quickchart {\n",
              "      --bg-color: #E8F0FE;\n",
              "      --fill-color: #1967D2;\n",
              "      --hover-bg-color: #E2EBFA;\n",
              "      --hover-fill-color: #174EA6;\n",
              "      --disabled-fill-color: #AAA;\n",
              "      --disabled-bg-color: #DDD;\n",
              "  }\n",
              "\n",
              "  [theme=dark] .colab-df-quickchart {\n",
              "      --bg-color: #3B4455;\n",
              "      --fill-color: #D2E3FC;\n",
              "      --hover-bg-color: #434B5C;\n",
              "      --hover-fill-color: #FFFFFF;\n",
              "      --disabled-bg-color: #3B4455;\n",
              "      --disabled-fill-color: #666;\n",
              "  }\n",
              "\n",
              "  .colab-df-quickchart {\n",
              "    background-color: var(--bg-color);\n",
              "    border: none;\n",
              "    border-radius: 50%;\n",
              "    cursor: pointer;\n",
              "    display: none;\n",
              "    fill: var(--fill-color);\n",
              "    height: 32px;\n",
              "    padding: 0;\n",
              "    width: 32px;\n",
              "  }\n",
              "\n",
              "  .colab-df-quickchart:hover {\n",
              "    background-color: var(--hover-bg-color);\n",
              "    box-shadow: 0 1px 2px rgba(60, 64, 67, 0.3), 0 1px 3px 1px rgba(60, 64, 67, 0.15);\n",
              "    fill: var(--button-hover-fill-color);\n",
              "  }\n",
              "\n",
              "  .colab-df-quickchart-complete:disabled,\n",
              "  .colab-df-quickchart-complete:disabled:hover {\n",
              "    background-color: var(--disabled-bg-color);\n",
              "    fill: var(--disabled-fill-color);\n",
              "    box-shadow: none;\n",
              "  }\n",
              "\n",
              "  .colab-df-spinner {\n",
              "    border: 2px solid var(--fill-color);\n",
              "    border-color: transparent;\n",
              "    border-bottom-color: var(--fill-color);\n",
              "    animation:\n",
              "      spin 1s steps(1) infinite;\n",
              "  }\n",
              "\n",
              "  @keyframes spin {\n",
              "    0% {\n",
              "      border-color: transparent;\n",
              "      border-bottom-color: var(--fill-color);\n",
              "      border-left-color: var(--fill-color);\n",
              "    }\n",
              "    20% {\n",
              "      border-color: transparent;\n",
              "      border-left-color: var(--fill-color);\n",
              "      border-top-color: var(--fill-color);\n",
              "    }\n",
              "    30% {\n",
              "      border-color: transparent;\n",
              "      border-left-color: var(--fill-color);\n",
              "      border-top-color: var(--fill-color);\n",
              "      border-right-color: var(--fill-color);\n",
              "    }\n",
              "    40% {\n",
              "      border-color: transparent;\n",
              "      border-right-color: var(--fill-color);\n",
              "      border-top-color: var(--fill-color);\n",
              "    }\n",
              "    60% {\n",
              "      border-color: transparent;\n",
              "      border-right-color: var(--fill-color);\n",
              "    }\n",
              "    80% {\n",
              "      border-color: transparent;\n",
              "      border-right-color: var(--fill-color);\n",
              "      border-bottom-color: var(--fill-color);\n",
              "    }\n",
              "    90% {\n",
              "      border-color: transparent;\n",
              "      border-bottom-color: var(--fill-color);\n",
              "    }\n",
              "  }\n",
              "</style>\n",
              "\n",
              "  <script>\n",
              "    async function quickchart(key) {\n",
              "      const quickchartButtonEl =\n",
              "        document.querySelector('#' + key + ' button');\n",
              "      quickchartButtonEl.disabled = true;  // To prevent multiple clicks.\n",
              "      quickchartButtonEl.classList.add('colab-df-spinner');\n",
              "      try {\n",
              "        const charts = await google.colab.kernel.invokeFunction(\n",
              "            'suggestCharts', [key], {});\n",
              "      } catch (error) {\n",
              "        console.error('Error during call to suggestCharts:', error);\n",
              "      }\n",
              "      quickchartButtonEl.classList.remove('colab-df-spinner');\n",
              "      quickchartButtonEl.classList.add('colab-df-quickchart-complete');\n",
              "    }\n",
              "    (() => {\n",
              "      let quickchartButtonEl =\n",
              "        document.querySelector('#df-756b6e8b-981f-40dd-ae1f-077fca86b1a1 button');\n",
              "      quickchartButtonEl.style.display =\n",
              "        google.colab.kernel.accessAllowed ? 'block' : 'none';\n",
              "    })();\n",
              "  </script>\n",
              "</div>\n",
              "\n",
              "    </div>\n",
              "  </div>\n"
            ],
            "application/vnd.google.colaboratory.intrinsic+json": {
              "type": "dataframe",
              "variable_name": "df"
            }
          },
          "metadata": {},
          "execution_count": 4
        }
      ]
    },
    {
      "cell_type": "code",
      "source": [
        "df.shape"
      ],
      "metadata": {
        "colab": {
          "base_uri": "https://localhost:8080/"
        },
        "id": "S7czTa4YWVt5",
        "outputId": "e68b9f7b-fa1c-4632-e065-8eee8f4e03f6"
      },
      "execution_count": 6,
      "outputs": [
        {
          "output_type": "execute_result",
          "data": {
            "text/plain": [
              "(4760, 21)"
            ]
          },
          "metadata": {},
          "execution_count": 6
        }
      ]
    },
    {
      "cell_type": "code",
      "source": [
        "df_features = df[['Movie_Genre','Movie_Keywords','Movie_Tagline','Movie_Cast','Movie_Director']].fillna('')"
      ],
      "metadata": {
        "id": "fTOXZPpEWoY-"
      },
      "execution_count": 8,
      "outputs": []
    },
    {
      "cell_type": "code",
      "source": [
        "df_features.shape"
      ],
      "metadata": {
        "colab": {
          "base_uri": "https://localhost:8080/"
        },
        "id": "F4vIHiBBXW6i",
        "outputId": "f8cdde0d-ccc8-4e2a-8a14-70570dc6d417"
      },
      "execution_count": 9,
      "outputs": [
        {
          "output_type": "execute_result",
          "data": {
            "text/plain": [
              "(4760, 5)"
            ]
          },
          "metadata": {},
          "execution_count": 9
        }
      ]
    },
    {
      "cell_type": "code",
      "source": [
        "df_features"
      ],
      "metadata": {
        "colab": {
          "base_uri": "https://localhost:8080/",
          "height": 424
        },
        "id": "6oBnrU4PXiyS",
        "outputId": "b3cc36c3-f094-4327-8876-7316a4408ef0"
      },
      "execution_count": 10,
      "outputs": [
        {
          "output_type": "execute_result",
          "data": {
            "text/plain": [
              "                           Movie_Genre  \\\n",
              "0                         Crime Comedy   \n",
              "1     Adventure Action Science Fiction   \n",
              "2                     Animation Family   \n",
              "3                 Comedy Drama Romance   \n",
              "4                                Drama   \n",
              "...                                ...   \n",
              "4755                            Horror   \n",
              "4756               Comedy Family Drama   \n",
              "4757                    Thriller Drama   \n",
              "4758                            Family   \n",
              "4759                       Documentary   \n",
              "\n",
              "                                         Movie_Keywords  \\\n",
              "0             hotel new year's eve witch bet hotel room   \n",
              "1           android galaxy hermit death star lightsaber   \n",
              "2     father son relationship harbor underwater fish...   \n",
              "3     vietnam veteran hippie mentally disabled runni...   \n",
              "4     male nudity female nudity adultery midlife cri...   \n",
              "...                                                 ...   \n",
              "4755                                                      \n",
              "4756                                                      \n",
              "4757                     christian film sex trafficking   \n",
              "4758                                                      \n",
              "4759  music actors legendary perfomer classic hollyw...   \n",
              "\n",
              "                                          Movie_Tagline  \\\n",
              "0     Twelve outrageous guests. Four scandalous requ...   \n",
              "1          A long time ago in a galaxy far, far away...   \n",
              "2     There are 3.7 trillion fish in the ocean, they...   \n",
              "3     The world will never be the same, once you've ...   \n",
              "4                                          Look closer.   \n",
              "...                                                 ...   \n",
              "4755                The hot spot where Satan's waitin'.   \n",
              "4756           It’s better to stand out than to fit in.   \n",
              "4757           She never knew it could happen to her...   \n",
              "4758                                                      \n",
              "4759                                                      \n",
              "\n",
              "                                             Movie_Cast     Movie_Director  \n",
              "0     Tim Roth Antonio Banderas Jennifer Beals Madon...     Allison Anders  \n",
              "1     Mark Hamill Harrison Ford Carrie Fisher Peter ...       George Lucas  \n",
              "2     Albert Brooks Ellen DeGeneres Alexander Gould ...     Andrew Stanton  \n",
              "3     Tom Hanks Robin Wright Gary Sinise Mykelti Wil...    Robert Zemeckis  \n",
              "4     Kevin Spacey Annette Bening Thora Birch Wes Be...         Sam Mendes  \n",
              "...                                                 ...                ...  \n",
              "4755  Lisa Hart Carroll Michael Des Barres Paul Drak...         Pece Dingo  \n",
              "4756  Roni Akurati Brighton Sharbino Jason Lee Anjul...       Frank Lotito  \n",
              "4757  Nicole Smolen Kim Baldwin Ariana Stephens Brys...       Jaco Booyens  \n",
              "4758                                                                        \n",
              "4759                                    Tony Oppedisano  Simon Napier-Bell  \n",
              "\n",
              "[4760 rows x 5 columns]"
            ],
            "text/html": [
              "\n",
              "  <div id=\"df-0b45efec-60b9-4dbe-af04-00ede7cd2b1a\" class=\"colab-df-container\">\n",
              "    <div>\n",
              "<style scoped>\n",
              "    .dataframe tbody tr th:only-of-type {\n",
              "        vertical-align: middle;\n",
              "    }\n",
              "\n",
              "    .dataframe tbody tr th {\n",
              "        vertical-align: top;\n",
              "    }\n",
              "\n",
              "    .dataframe thead th {\n",
              "        text-align: right;\n",
              "    }\n",
              "</style>\n",
              "<table border=\"1\" class=\"dataframe\">\n",
              "  <thead>\n",
              "    <tr style=\"text-align: right;\">\n",
              "      <th></th>\n",
              "      <th>Movie_Genre</th>\n",
              "      <th>Movie_Keywords</th>\n",
              "      <th>Movie_Tagline</th>\n",
              "      <th>Movie_Cast</th>\n",
              "      <th>Movie_Director</th>\n",
              "    </tr>\n",
              "  </thead>\n",
              "  <tbody>\n",
              "    <tr>\n",
              "      <th>0</th>\n",
              "      <td>Crime Comedy</td>\n",
              "      <td>hotel new year's eve witch bet hotel room</td>\n",
              "      <td>Twelve outrageous guests. Four scandalous requ...</td>\n",
              "      <td>Tim Roth Antonio Banderas Jennifer Beals Madon...</td>\n",
              "      <td>Allison Anders</td>\n",
              "    </tr>\n",
              "    <tr>\n",
              "      <th>1</th>\n",
              "      <td>Adventure Action Science Fiction</td>\n",
              "      <td>android galaxy hermit death star lightsaber</td>\n",
              "      <td>A long time ago in a galaxy far, far away...</td>\n",
              "      <td>Mark Hamill Harrison Ford Carrie Fisher Peter ...</td>\n",
              "      <td>George Lucas</td>\n",
              "    </tr>\n",
              "    <tr>\n",
              "      <th>2</th>\n",
              "      <td>Animation Family</td>\n",
              "      <td>father son relationship harbor underwater fish...</td>\n",
              "      <td>There are 3.7 trillion fish in the ocean, they...</td>\n",
              "      <td>Albert Brooks Ellen DeGeneres Alexander Gould ...</td>\n",
              "      <td>Andrew Stanton</td>\n",
              "    </tr>\n",
              "    <tr>\n",
              "      <th>3</th>\n",
              "      <td>Comedy Drama Romance</td>\n",
              "      <td>vietnam veteran hippie mentally disabled runni...</td>\n",
              "      <td>The world will never be the same, once you've ...</td>\n",
              "      <td>Tom Hanks Robin Wright Gary Sinise Mykelti Wil...</td>\n",
              "      <td>Robert Zemeckis</td>\n",
              "    </tr>\n",
              "    <tr>\n",
              "      <th>4</th>\n",
              "      <td>Drama</td>\n",
              "      <td>male nudity female nudity adultery midlife cri...</td>\n",
              "      <td>Look closer.</td>\n",
              "      <td>Kevin Spacey Annette Bening Thora Birch Wes Be...</td>\n",
              "      <td>Sam Mendes</td>\n",
              "    </tr>\n",
              "    <tr>\n",
              "      <th>...</th>\n",
              "      <td>...</td>\n",
              "      <td>...</td>\n",
              "      <td>...</td>\n",
              "      <td>...</td>\n",
              "      <td>...</td>\n",
              "    </tr>\n",
              "    <tr>\n",
              "      <th>4755</th>\n",
              "      <td>Horror</td>\n",
              "      <td></td>\n",
              "      <td>The hot spot where Satan's waitin'.</td>\n",
              "      <td>Lisa Hart Carroll Michael Des Barres Paul Drak...</td>\n",
              "      <td>Pece Dingo</td>\n",
              "    </tr>\n",
              "    <tr>\n",
              "      <th>4756</th>\n",
              "      <td>Comedy Family Drama</td>\n",
              "      <td></td>\n",
              "      <td>It’s better to stand out than to fit in.</td>\n",
              "      <td>Roni Akurati Brighton Sharbino Jason Lee Anjul...</td>\n",
              "      <td>Frank Lotito</td>\n",
              "    </tr>\n",
              "    <tr>\n",
              "      <th>4757</th>\n",
              "      <td>Thriller Drama</td>\n",
              "      <td>christian film sex trafficking</td>\n",
              "      <td>She never knew it could happen to her...</td>\n",
              "      <td>Nicole Smolen Kim Baldwin Ariana Stephens Brys...</td>\n",
              "      <td>Jaco Booyens</td>\n",
              "    </tr>\n",
              "    <tr>\n",
              "      <th>4758</th>\n",
              "      <td>Family</td>\n",
              "      <td></td>\n",
              "      <td></td>\n",
              "      <td></td>\n",
              "      <td></td>\n",
              "    </tr>\n",
              "    <tr>\n",
              "      <th>4759</th>\n",
              "      <td>Documentary</td>\n",
              "      <td>music actors legendary perfomer classic hollyw...</td>\n",
              "      <td></td>\n",
              "      <td>Tony Oppedisano</td>\n",
              "      <td>Simon Napier-Bell</td>\n",
              "    </tr>\n",
              "  </tbody>\n",
              "</table>\n",
              "<p>4760 rows × 5 columns</p>\n",
              "</div>\n",
              "    <div class=\"colab-df-buttons\">\n",
              "\n",
              "  <div class=\"colab-df-container\">\n",
              "    <button class=\"colab-df-convert\" onclick=\"convertToInteractive('df-0b45efec-60b9-4dbe-af04-00ede7cd2b1a')\"\n",
              "            title=\"Convert this dataframe to an interactive table.\"\n",
              "            style=\"display:none;\">\n",
              "\n",
              "  <svg xmlns=\"http://www.w3.org/2000/svg\" height=\"24px\" viewBox=\"0 -960 960 960\">\n",
              "    <path d=\"M120-120v-720h720v720H120Zm60-500h600v-160H180v160Zm220 220h160v-160H400v160Zm0 220h160v-160H400v160ZM180-400h160v-160H180v160Zm440 0h160v-160H620v160ZM180-180h160v-160H180v160Zm440 0h160v-160H620v160Z\"/>\n",
              "  </svg>\n",
              "    </button>\n",
              "\n",
              "  <style>\n",
              "    .colab-df-container {\n",
              "      display:flex;\n",
              "      gap: 12px;\n",
              "    }\n",
              "\n",
              "    .colab-df-convert {\n",
              "      background-color: #E8F0FE;\n",
              "      border: none;\n",
              "      border-radius: 50%;\n",
              "      cursor: pointer;\n",
              "      display: none;\n",
              "      fill: #1967D2;\n",
              "      height: 32px;\n",
              "      padding: 0 0 0 0;\n",
              "      width: 32px;\n",
              "    }\n",
              "\n",
              "    .colab-df-convert:hover {\n",
              "      background-color: #E2EBFA;\n",
              "      box-shadow: 0px 1px 2px rgba(60, 64, 67, 0.3), 0px 1px 3px 1px rgba(60, 64, 67, 0.15);\n",
              "      fill: #174EA6;\n",
              "    }\n",
              "\n",
              "    .colab-df-buttons div {\n",
              "      margin-bottom: 4px;\n",
              "    }\n",
              "\n",
              "    [theme=dark] .colab-df-convert {\n",
              "      background-color: #3B4455;\n",
              "      fill: #D2E3FC;\n",
              "    }\n",
              "\n",
              "    [theme=dark] .colab-df-convert:hover {\n",
              "      background-color: #434B5C;\n",
              "      box-shadow: 0px 1px 3px 1px rgba(0, 0, 0, 0.15);\n",
              "      filter: drop-shadow(0px 1px 2px rgba(0, 0, 0, 0.3));\n",
              "      fill: #FFFFFF;\n",
              "    }\n",
              "  </style>\n",
              "\n",
              "    <script>\n",
              "      const buttonEl =\n",
              "        document.querySelector('#df-0b45efec-60b9-4dbe-af04-00ede7cd2b1a button.colab-df-convert');\n",
              "      buttonEl.style.display =\n",
              "        google.colab.kernel.accessAllowed ? 'block' : 'none';\n",
              "\n",
              "      async function convertToInteractive(key) {\n",
              "        const element = document.querySelector('#df-0b45efec-60b9-4dbe-af04-00ede7cd2b1a');\n",
              "        const dataTable =\n",
              "          await google.colab.kernel.invokeFunction('convertToInteractive',\n",
              "                                                    [key], {});\n",
              "        if (!dataTable) return;\n",
              "\n",
              "        const docLinkHtml = 'Like what you see? Visit the ' +\n",
              "          '<a target=\"_blank\" href=https://colab.research.google.com/notebooks/data_table.ipynb>data table notebook</a>'\n",
              "          + ' to learn more about interactive tables.';\n",
              "        element.innerHTML = '';\n",
              "        dataTable['output_type'] = 'display_data';\n",
              "        await google.colab.output.renderOutput(dataTable, element);\n",
              "        const docLink = document.createElement('div');\n",
              "        docLink.innerHTML = docLinkHtml;\n",
              "        element.appendChild(docLink);\n",
              "      }\n",
              "    </script>\n",
              "  </div>\n",
              "\n",
              "\n",
              "<div id=\"df-53b0c478-e9e9-406b-85c5-3b1545eebc58\">\n",
              "  <button class=\"colab-df-quickchart\" onclick=\"quickchart('df-53b0c478-e9e9-406b-85c5-3b1545eebc58')\"\n",
              "            title=\"Suggest charts\"\n",
              "            style=\"display:none;\">\n",
              "\n",
              "<svg xmlns=\"http://www.w3.org/2000/svg\" height=\"24px\"viewBox=\"0 0 24 24\"\n",
              "     width=\"24px\">\n",
              "    <g>\n",
              "        <path d=\"M19 3H5c-1.1 0-2 .9-2 2v14c0 1.1.9 2 2 2h14c1.1 0 2-.9 2-2V5c0-1.1-.9-2-2-2zM9 17H7v-7h2v7zm4 0h-2V7h2v10zm4 0h-2v-4h2v4z\"/>\n",
              "    </g>\n",
              "</svg>\n",
              "  </button>\n",
              "\n",
              "<style>\n",
              "  .colab-df-quickchart {\n",
              "      --bg-color: #E8F0FE;\n",
              "      --fill-color: #1967D2;\n",
              "      --hover-bg-color: #E2EBFA;\n",
              "      --hover-fill-color: #174EA6;\n",
              "      --disabled-fill-color: #AAA;\n",
              "      --disabled-bg-color: #DDD;\n",
              "  }\n",
              "\n",
              "  [theme=dark] .colab-df-quickchart {\n",
              "      --bg-color: #3B4455;\n",
              "      --fill-color: #D2E3FC;\n",
              "      --hover-bg-color: #434B5C;\n",
              "      --hover-fill-color: #FFFFFF;\n",
              "      --disabled-bg-color: #3B4455;\n",
              "      --disabled-fill-color: #666;\n",
              "  }\n",
              "\n",
              "  .colab-df-quickchart {\n",
              "    background-color: var(--bg-color);\n",
              "    border: none;\n",
              "    border-radius: 50%;\n",
              "    cursor: pointer;\n",
              "    display: none;\n",
              "    fill: var(--fill-color);\n",
              "    height: 32px;\n",
              "    padding: 0;\n",
              "    width: 32px;\n",
              "  }\n",
              "\n",
              "  .colab-df-quickchart:hover {\n",
              "    background-color: var(--hover-bg-color);\n",
              "    box-shadow: 0 1px 2px rgba(60, 64, 67, 0.3), 0 1px 3px 1px rgba(60, 64, 67, 0.15);\n",
              "    fill: var(--button-hover-fill-color);\n",
              "  }\n",
              "\n",
              "  .colab-df-quickchart-complete:disabled,\n",
              "  .colab-df-quickchart-complete:disabled:hover {\n",
              "    background-color: var(--disabled-bg-color);\n",
              "    fill: var(--disabled-fill-color);\n",
              "    box-shadow: none;\n",
              "  }\n",
              "\n",
              "  .colab-df-spinner {\n",
              "    border: 2px solid var(--fill-color);\n",
              "    border-color: transparent;\n",
              "    border-bottom-color: var(--fill-color);\n",
              "    animation:\n",
              "      spin 1s steps(1) infinite;\n",
              "  }\n",
              "\n",
              "  @keyframes spin {\n",
              "    0% {\n",
              "      border-color: transparent;\n",
              "      border-bottom-color: var(--fill-color);\n",
              "      border-left-color: var(--fill-color);\n",
              "    }\n",
              "    20% {\n",
              "      border-color: transparent;\n",
              "      border-left-color: var(--fill-color);\n",
              "      border-top-color: var(--fill-color);\n",
              "    }\n",
              "    30% {\n",
              "      border-color: transparent;\n",
              "      border-left-color: var(--fill-color);\n",
              "      border-top-color: var(--fill-color);\n",
              "      border-right-color: var(--fill-color);\n",
              "    }\n",
              "    40% {\n",
              "      border-color: transparent;\n",
              "      border-right-color: var(--fill-color);\n",
              "      border-top-color: var(--fill-color);\n",
              "    }\n",
              "    60% {\n",
              "      border-color: transparent;\n",
              "      border-right-color: var(--fill-color);\n",
              "    }\n",
              "    80% {\n",
              "      border-color: transparent;\n",
              "      border-right-color: var(--fill-color);\n",
              "      border-bottom-color: var(--fill-color);\n",
              "    }\n",
              "    90% {\n",
              "      border-color: transparent;\n",
              "      border-bottom-color: var(--fill-color);\n",
              "    }\n",
              "  }\n",
              "</style>\n",
              "\n",
              "  <script>\n",
              "    async function quickchart(key) {\n",
              "      const quickchartButtonEl =\n",
              "        document.querySelector('#' + key + ' button');\n",
              "      quickchartButtonEl.disabled = true;  // To prevent multiple clicks.\n",
              "      quickchartButtonEl.classList.add('colab-df-spinner');\n",
              "      try {\n",
              "        const charts = await google.colab.kernel.invokeFunction(\n",
              "            'suggestCharts', [key], {});\n",
              "      } catch (error) {\n",
              "        console.error('Error during call to suggestCharts:', error);\n",
              "      }\n",
              "      quickchartButtonEl.classList.remove('colab-df-spinner');\n",
              "      quickchartButtonEl.classList.add('colab-df-quickchart-complete');\n",
              "    }\n",
              "    (() => {\n",
              "      let quickchartButtonEl =\n",
              "        document.querySelector('#df-53b0c478-e9e9-406b-85c5-3b1545eebc58 button');\n",
              "      quickchartButtonEl.style.display =\n",
              "        google.colab.kernel.accessAllowed ? 'block' : 'none';\n",
              "    })();\n",
              "  </script>\n",
              "</div>\n",
              "\n",
              "  <div id=\"id_f71efaed-a0c6-4bb2-9002-a06cc06e8e14\">\n",
              "    <style>\n",
              "      .colab-df-generate {\n",
              "        background-color: #E8F0FE;\n",
              "        border: none;\n",
              "        border-radius: 50%;\n",
              "        cursor: pointer;\n",
              "        display: none;\n",
              "        fill: #1967D2;\n",
              "        height: 32px;\n",
              "        padding: 0 0 0 0;\n",
              "        width: 32px;\n",
              "      }\n",
              "\n",
              "      .colab-df-generate:hover {\n",
              "        background-color: #E2EBFA;\n",
              "        box-shadow: 0px 1px 2px rgba(60, 64, 67, 0.3), 0px 1px 3px 1px rgba(60, 64, 67, 0.15);\n",
              "        fill: #174EA6;\n",
              "      }\n",
              "\n",
              "      [theme=dark] .colab-df-generate {\n",
              "        background-color: #3B4455;\n",
              "        fill: #D2E3FC;\n",
              "      }\n",
              "\n",
              "      [theme=dark] .colab-df-generate:hover {\n",
              "        background-color: #434B5C;\n",
              "        box-shadow: 0px 1px 3px 1px rgba(0, 0, 0, 0.15);\n",
              "        filter: drop-shadow(0px 1px 2px rgba(0, 0, 0, 0.3));\n",
              "        fill: #FFFFFF;\n",
              "      }\n",
              "    </style>\n",
              "    <button class=\"colab-df-generate\" onclick=\"generateWithVariable('df_features')\"\n",
              "            title=\"Generate code using this dataframe.\"\n",
              "            style=\"display:none;\">\n",
              "\n",
              "  <svg xmlns=\"http://www.w3.org/2000/svg\" height=\"24px\"viewBox=\"0 0 24 24\"\n",
              "       width=\"24px\">\n",
              "    <path d=\"M7,19H8.4L18.45,9,17,7.55,7,17.6ZM5,21V16.75L18.45,3.32a2,2,0,0,1,2.83,0l1.4,1.43a1.91,1.91,0,0,1,.58,1.4,1.91,1.91,0,0,1-.58,1.4L9.25,21ZM18.45,9,17,7.55Zm-12,3A5.31,5.31,0,0,0,4.9,8.1,5.31,5.31,0,0,0,1,6.5,5.31,5.31,0,0,0,4.9,4.9,5.31,5.31,0,0,0,6.5,1,5.31,5.31,0,0,0,8.1,4.9,5.31,5.31,0,0,0,12,6.5,5.46,5.46,0,0,0,6.5,12Z\"/>\n",
              "  </svg>\n",
              "    </button>\n",
              "    <script>\n",
              "      (() => {\n",
              "      const buttonEl =\n",
              "        document.querySelector('#id_f71efaed-a0c6-4bb2-9002-a06cc06e8e14 button.colab-df-generate');\n",
              "      buttonEl.style.display =\n",
              "        google.colab.kernel.accessAllowed ? 'block' : 'none';\n",
              "\n",
              "      buttonEl.onclick = () => {\n",
              "        google.colab.notebook.generateWithVariable('df_features');\n",
              "      }\n",
              "      })();\n",
              "    </script>\n",
              "  </div>\n",
              "\n",
              "    </div>\n",
              "  </div>\n"
            ],
            "application/vnd.google.colaboratory.intrinsic+json": {
              "type": "dataframe",
              "variable_name": "df_features",
              "summary": "{\n  \"name\": \"df_features\",\n  \"rows\": 4760,\n  \"fields\": [\n    {\n      \"column\": \"Movie_Genre\",\n      \"properties\": {\n        \"dtype\": \"category\",\n        \"num_unique_values\": 1164,\n        \"samples\": [\n          \"Family Animation Adventure\",\n          \"Adventure Science Fiction Action\",\n          \"Action Crime Drama Romance Thriller\"\n        ],\n        \"semantic_type\": \"\",\n        \"description\": \"\"\n      }\n    },\n    {\n      \"column\": \"Movie_Keywords\",\n      \"properties\": {\n        \"dtype\": \"string\",\n        \"num_unique_values\": 4203,\n        \"samples\": [\n          \"canada nazis sequel spin off ancient evil\",\n          \"sex professor wedding woman director columbia university\",\n          \"prophecy sea beach gold small town\"\n        ],\n        \"semantic_type\": \"\",\n        \"description\": \"\"\n      }\n    },\n    {\n      \"column\": \"Movie_Tagline\",\n      \"properties\": {\n        \"dtype\": \"string\",\n        \"num_unique_values\": 3928,\n        \"samples\": [\n          \"The messenger must be silenced.\",\n          \"It's not the house that's haunted.\",\n          \"The final hunt begins.\"\n        ],\n        \"semantic_type\": \"\",\n        \"description\": \"\"\n      }\n    },\n    {\n      \"column\": \"Movie_Cast\",\n      \"properties\": {\n        \"dtype\": \"string\",\n        \"num_unique_values\": 4715,\n        \"samples\": [\n          \"Robin Tunney Fairuza Balk Neve Campbell Rachel True Skeet Ulrich\",\n          \"Peter Sellers Christopher Plummer Herbert Lom Catherine Schell Peter Arne\",\n          \"John Wayne Laraine Day Cedric Hardwicke Judith Anderson Anthony Quinn\"\n        ],\n        \"semantic_type\": \"\",\n        \"description\": \"\"\n      }\n    },\n    {\n      \"column\": \"Movie_Director\",\n      \"properties\": {\n        \"dtype\": \"category\",\n        \"num_unique_values\": 2332,\n        \"samples\": [\n          \"Rob McKittrick\",\n          \"Terron R. Parsons\",\n          \"Cyrus Nowrasteh\"\n        ],\n        \"semantic_type\": \"\",\n        \"description\": \"\"\n      }\n    }\n  ]\n}"
            }
          },
          "metadata": {},
          "execution_count": 10
        }
      ]
    },
    {
      "cell_type": "code",
      "source": [
        "x=df_features['Movie_Genre']+' '+df_features['Movie_Keywords']+' '+df_features['Movie_Tagline']+' '+df_features['Movie_Cast']+' '+df_features['Movie_Director']"
      ],
      "metadata": {
        "id": "Br4AudoXXqbo"
      },
      "execution_count": 11,
      "outputs": []
    },
    {
      "cell_type": "code",
      "source": [
        "x"
      ],
      "metadata": {
        "colab": {
          "base_uri": "https://localhost:8080/",
          "height": 458
        },
        "id": "2KjHu1N6ZQKS",
        "outputId": "3f212c59-aea4-407a-945e-f6c2386075de"
      },
      "execution_count": 12,
      "outputs": [
        {
          "output_type": "execute_result",
          "data": {
            "text/plain": [
              "0       Crime Comedy hotel new year's eve witch bet ho...\n",
              "1       Adventure Action Science Fiction android galax...\n",
              "2       Animation Family father son relationship harbo...\n",
              "3       Comedy Drama Romance vietnam veteran hippie me...\n",
              "4       Drama male nudity female nudity adultery midli...\n",
              "                              ...                        \n",
              "4755    Horror  The hot spot where Satan's waitin'. Li...\n",
              "4756    Comedy Family Drama  It’s better to stand out ...\n",
              "4757    Thriller Drama christian film sex trafficking ...\n",
              "4758                                           Family    \n",
              "4759    Documentary music actors legendary perfomer cl...\n",
              "Length: 4760, dtype: object"
            ],
            "text/html": [
              "<div>\n",
              "<style scoped>\n",
              "    .dataframe tbody tr th:only-of-type {\n",
              "        vertical-align: middle;\n",
              "    }\n",
              "\n",
              "    .dataframe tbody tr th {\n",
              "        vertical-align: top;\n",
              "    }\n",
              "\n",
              "    .dataframe thead th {\n",
              "        text-align: right;\n",
              "    }\n",
              "</style>\n",
              "<table border=\"1\" class=\"dataframe\">\n",
              "  <thead>\n",
              "    <tr style=\"text-align: right;\">\n",
              "      <th></th>\n",
              "      <th>0</th>\n",
              "    </tr>\n",
              "  </thead>\n",
              "  <tbody>\n",
              "    <tr>\n",
              "      <th>0</th>\n",
              "      <td>Crime Comedy hotel new year's eve witch bet ho...</td>\n",
              "    </tr>\n",
              "    <tr>\n",
              "      <th>1</th>\n",
              "      <td>Adventure Action Science Fiction android galax...</td>\n",
              "    </tr>\n",
              "    <tr>\n",
              "      <th>2</th>\n",
              "      <td>Animation Family father son relationship harbo...</td>\n",
              "    </tr>\n",
              "    <tr>\n",
              "      <th>3</th>\n",
              "      <td>Comedy Drama Romance vietnam veteran hippie me...</td>\n",
              "    </tr>\n",
              "    <tr>\n",
              "      <th>4</th>\n",
              "      <td>Drama male nudity female nudity adultery midli...</td>\n",
              "    </tr>\n",
              "    <tr>\n",
              "      <th>...</th>\n",
              "      <td>...</td>\n",
              "    </tr>\n",
              "    <tr>\n",
              "      <th>4755</th>\n",
              "      <td>Horror  The hot spot where Satan's waitin'. Li...</td>\n",
              "    </tr>\n",
              "    <tr>\n",
              "      <th>4756</th>\n",
              "      <td>Comedy Family Drama  It’s better to stand out ...</td>\n",
              "    </tr>\n",
              "    <tr>\n",
              "      <th>4757</th>\n",
              "      <td>Thriller Drama christian film sex trafficking ...</td>\n",
              "    </tr>\n",
              "    <tr>\n",
              "      <th>4758</th>\n",
              "      <td>Family</td>\n",
              "    </tr>\n",
              "    <tr>\n",
              "      <th>4759</th>\n",
              "      <td>Documentary music actors legendary perfomer cl...</td>\n",
              "    </tr>\n",
              "  </tbody>\n",
              "</table>\n",
              "<p>4760 rows × 1 columns</p>\n",
              "</div><br><label><b>dtype:</b> object</label>"
            ]
          },
          "metadata": {},
          "execution_count": 12
        }
      ]
    },
    {
      "cell_type": "code",
      "source": [
        "x.shape"
      ],
      "metadata": {
        "colab": {
          "base_uri": "https://localhost:8080/"
        },
        "id": "CSW5KXwwZSqL",
        "outputId": "6d2b6954-93bf-412a-8764-9302eb3fd00f"
      },
      "execution_count": 13,
      "outputs": [
        {
          "output_type": "execute_result",
          "data": {
            "text/plain": [
              "(4760,)"
            ]
          },
          "metadata": {},
          "execution_count": 13
        }
      ]
    },
    {
      "cell_type": "markdown",
      "source": [
        "# Get Feature Text Conversion to tokens"
      ],
      "metadata": {
        "id": "vda198oFZarc"
      }
    },
    {
      "cell_type": "code",
      "source": [
        "from sklearn.feature_extraction.text import TfidfVectorizer"
      ],
      "metadata": {
        "id": "X2bW2rLnZk4B"
      },
      "execution_count": 14,
      "outputs": []
    },
    {
      "cell_type": "code",
      "source": [
        "tfidf=TfidfVectorizer()"
      ],
      "metadata": {
        "id": "BmQhw4VsZr3h"
      },
      "execution_count": 15,
      "outputs": []
    },
    {
      "cell_type": "code",
      "source": [
        "x=tfidf.fit_transform(x)"
      ],
      "metadata": {
        "id": "7eqaw78eZ1rh"
      },
      "execution_count": 16,
      "outputs": []
    },
    {
      "cell_type": "code",
      "source": [
        "x.shape"
      ],
      "metadata": {
        "colab": {
          "base_uri": "https://localhost:8080/"
        },
        "id": "tuIj-7pRZ5ek",
        "outputId": "9f9dcd76-b0e3-400e-cb92-7cd692595790"
      },
      "execution_count": 17,
      "outputs": [
        {
          "output_type": "execute_result",
          "data": {
            "text/plain": [
              "(4760, 17258)"
            ]
          },
          "metadata": {},
          "execution_count": 17
        }
      ]
    },
    {
      "cell_type": "code",
      "source": [
        "print(x)"
      ],
      "metadata": {
        "colab": {
          "base_uri": "https://localhost:8080/"
        },
        "id": "FA4TdpDAZ8rw",
        "outputId": "432ba4d2-44fd-41d6-f34f-2ad1991a8863"
      },
      "execution_count": 18,
      "outputs": [
        {
          "output_type": "stream",
          "name": "stdout",
          "text": [
            "  (0, 3583)\t0.06486754376295062\n",
            "  (0, 3240)\t0.04527089872278055\n",
            "  (0, 7213)\t0.25146675849405775\n",
            "  (0, 10898)\t0.17625708810661284\n",
            "  (0, 17052)\t0.26079573581490934\n",
            "  (0, 5059)\t0.29553419178998613\n",
            "  (0, 16862)\t0.12768803549311025\n",
            "  (0, 1595)\t0.15687561633854538\n",
            "  (0, 13052)\t0.1465525095337543\n",
            "  (0, 15708)\t0.17654247479915475\n",
            "  (0, 11362)\t0.18801785343006192\n",
            "  (0, 6463)\t0.18801785343006192\n",
            "  (0, 5662)\t0.1465525095337543\n",
            "  (0, 13467)\t0.19712637387361423\n",
            "  (0, 12731)\t0.19712637387361423\n",
            "  (0, 614)\t0.07642616241686973\n",
            "  (0, 11244)\t0.08262965296941757\n",
            "  (0, 9206)\t0.15186283580984414\n",
            "  (0, 1495)\t0.19712637387361423\n",
            "  (0, 7454)\t0.14745635785412262\n",
            "  (0, 7071)\t0.19822417598406614\n",
            "  (0, 5499)\t0.11454057510303811\n",
            "  (0, 3878)\t0.11998399582562203\n",
            "  (0, 11242)\t0.07277788238484746\n",
            "  (0, 15219)\t0.09800472886453934\n",
            "  :\t:\n",
            "  (4757, 3485)\t0.199161573117024\n",
            "  (4757, 1184)\t0.18890726729447022\n",
            "  (4757, 14568)\t0.24255077606762876\n",
            "  (4757, 15508)\t0.24255077606762876\n",
            "  (4757, 5802)\t0.24255077606762876\n",
            "  (4757, 819)\t0.27474840155297187\n",
            "  (4757, 14195)\t0.28805858134028367\n",
            "  (4757, 2227)\t0.28805858134028367\n",
            "  (4757, 7691)\t0.28805858134028367\n",
            "  (4757, 1932)\t0.28805858134028367\n",
            "  (4758, 5238)\t1.0\n",
            "  (4759, 10666)\t0.15888268987343043\n",
            "  (4759, 1490)\t0.21197258705292082\n",
            "  (4759, 15431)\t0.19628653185946862\n",
            "  (4759, 5690)\t0.19534291014627303\n",
            "  (4759, 14051)\t0.20084315377640435\n",
            "  (4759, 4358)\t0.18306542312175342\n",
            "  (4759, 10761)\t0.3126617295732147\n",
            "  (4759, 7130)\t0.26419662449963793\n",
            "  (4759, 3058)\t0.2812896191863103\n",
            "  (4759, 14062)\t0.3237911628497312\n",
            "  (4759, 8902)\t0.3040290704566037\n",
            "  (4759, 205)\t0.3237911628497312\n",
            "  (4759, 11708)\t0.33947721804318337\n",
            "  (4759, 11264)\t0.33947721804318337\n"
          ]
        }
      ]
    },
    {
      "cell_type": "markdown",
      "source": [
        "# Get Similarity Score using Cosine Similarity"
      ],
      "metadata": {
        "id": "jNQadm3zaImY"
      }
    },
    {
      "cell_type": "code",
      "source": [
        "from sklearn.metrics.pairwise import cosine_similarity"
      ],
      "metadata": {
        "id": "5vW2Yf9daVKU"
      },
      "execution_count": 19,
      "outputs": []
    },
    {
      "cell_type": "code",
      "source": [
        "Similarity_Score=cosine_similarity(x)"
      ],
      "metadata": {
        "id": "3rB6D0XpaZ3Z"
      },
      "execution_count": 20,
      "outputs": []
    },
    {
      "cell_type": "code",
      "source": [
        "Similarity_Score"
      ],
      "metadata": {
        "colab": {
          "base_uri": "https://localhost:8080/"
        },
        "id": "NlBOd91UafYR",
        "outputId": "e3a87cc7-2574-4a3b-8e32-5e68d8b1c022"
      },
      "execution_count": 21,
      "outputs": [
        {
          "output_type": "execute_result",
          "data": {
            "text/plain": [
              "array([[1.        , 0.01351235, 0.03570468, ..., 0.        , 0.        ,\n",
              "        0.        ],\n",
              "       [0.01351235, 1.        , 0.00806674, ..., 0.        , 0.        ,\n",
              "        0.        ],\n",
              "       [0.03570468, 0.00806674, 1.        , ..., 0.        , 0.08014876,\n",
              "        0.        ],\n",
              "       ...,\n",
              "       [0.        , 0.        , 0.        , ..., 1.        , 0.        ,\n",
              "        0.        ],\n",
              "       [0.        , 0.        , 0.08014876, ..., 0.        , 1.        ,\n",
              "        0.        ],\n",
              "       [0.        , 0.        , 0.        , ..., 0.        , 0.        ,\n",
              "        1.        ]])"
            ]
          },
          "metadata": {},
          "execution_count": 21
        }
      ]
    },
    {
      "cell_type": "code",
      "source": [
        "Similarity_Score.shape"
      ],
      "metadata": {
        "colab": {
          "base_uri": "https://localhost:8080/"
        },
        "id": "1VL4yoUSaigA",
        "outputId": "955fcbe2-f7f5-4be5-8124-414a05b89309"
      },
      "execution_count": 22,
      "outputs": [
        {
          "output_type": "execute_result",
          "data": {
            "text/plain": [
              "(4760, 4760)"
            ]
          },
          "metadata": {},
          "execution_count": 22
        }
      ]
    },
    {
      "cell_type": "markdown",
      "source": [
        "# Get Movie Name as Input From User and Validate For Closest Spelling"
      ],
      "metadata": {
        "id": "L86tKpDaasTC"
      }
    },
    {
      "cell_type": "code",
      "source": [
        "Favourite_Movie_Name=input('Enter your favourite movie name: ')"
      ],
      "metadata": {
        "colab": {
          "base_uri": "https://localhost:8080/"
        },
        "id": "W2rNRNLVa36A",
        "outputId": "68538fc4-99ac-4591-9478-a6c6d04557f9"
      },
      "execution_count": 23,
      "outputs": [
        {
          "name": "stdout",
          "output_type": "stream",
          "text": [
            "Enter your favourite movie name: avenge\n"
          ]
        }
      ]
    },
    {
      "cell_type": "code",
      "source": [
        "All_Movies_title_list=df['Movie_Title'].tolist()"
      ],
      "metadata": {
        "id": "wizKsGt-bJ8C"
      },
      "execution_count": 24,
      "outputs": []
    },
    {
      "cell_type": "code",
      "source": [
        "import difflib"
      ],
      "metadata": {
        "id": "eh3e78NxbZII"
      },
      "execution_count": 25,
      "outputs": []
    },
    {
      "cell_type": "code",
      "source": [
        "Movie_Recommendation=difflib.get_close_matches(Favourite_Movie_Name,All_Movies_title_list)\n",
        "print(Movie_Recommendation)"
      ],
      "metadata": {
        "colab": {
          "base_uri": "https://localhost:8080/"
        },
        "id": "fp4-DUflbcZo",
        "outputId": "e54c6dfb-0066-40cd-8538-63a714b9590e"
      },
      "execution_count": 27,
      "outputs": [
        {
          "output_type": "stream",
          "name": "stdout",
          "text": [
            "['Tangled', 'Savages', 'Carnage']\n"
          ]
        }
      ]
    },
    {
      "cell_type": "code",
      "source": [
        "Close_Match=Movie_Recommendation[0]\n",
        "print(Close_Match)"
      ],
      "metadata": {
        "colab": {
          "base_uri": "https://localhost:8080/"
        },
        "id": "NmSXBSCdbmZR",
        "outputId": "f1644f20-b81b-4b17-de6f-a68d982f24ed"
      },
      "execution_count": 29,
      "outputs": [
        {
          "output_type": "stream",
          "name": "stdout",
          "text": [
            "Tangled\n"
          ]
        }
      ]
    },
    {
      "cell_type": "code",
      "source": [
        "Index_of_Close_Match_Movie=df[df['Movie_Title']==Close_Match].index.values[0]\n",
        "print(Index_of_Close_Match_Movie)"
      ],
      "metadata": {
        "colab": {
          "base_uri": "https://localhost:8080/"
        },
        "id": "ZpeKz3Z3b3ax",
        "outputId": "0a5d0d2f-9d49-4ab2-a88a-bd55e1f7a2f2"
      },
      "execution_count": 31,
      "outputs": [
        {
          "output_type": "stream",
          "name": "stdout",
          "text": [
            "3208\n"
          ]
        }
      ]
    },
    {
      "cell_type": "code",
      "source": [
        "#getting list of similar movies\n",
        "Recommendation_Score=list(enumerate(Similarity_Score[Index_of_Close_Match_Movie]))\n",
        "print(Recommendation_Score)"
      ],
      "metadata": {
        "colab": {
          "base_uri": "https://localhost:8080/"
        },
        "id": "2UmK-WANcD4J",
        "outputId": "f88d8c5d-a536-4c77-e08f-b1833ce09494"
      },
      "execution_count": 32,
      "outputs": [
        {
          "output_type": "stream",
          "name": "stdout",
          "text": [
            "[(0, 0.022721584417971258), (1, 0.007058324671908095), (2, 0.05835877952922548), (3, 0.0), (4, 0.0), (5, 0.009096494957801845), (6, 0.008502299535677863), (7, 0.0), (8, 0.0), (9, 0.015705797273654034), (10, 0.0), (11, 0.009391839510572673), (12, 0.0), (13, 0.0), (14, 0.03185761864211252), (15, 0.0), (16, 0.0), (17, 0.008394333652737935), (18, 0.0), (19, 0.015248691005814705), (20, 0.030286359697542918), (21, 0.0), (22, 0.0), (23, 0.0), (24, 0.0), (25, 0.00750228927860584), (26, 0.0), (27, 0.06864374715532395), (28, 0.0), (29, 0.0), (30, 0.0), (31, 0.0), (32, 0.006929852621823838), (33, 0.0), (34, 0.0), (35, 0.021878739597670525), (36, 0.014442860173421813), (37, 0.007213893987401522), (38, 0.03309047142279048), (39, 0.007934745782148991), (40, 0.03248081888074335), (41, 0.008793063571185542), (42, 0.009276879958357676), (43, 0.0), (44, 0.02022150241048923), (45, 0.02481232640085035), (46, 0.007344775327112245), (47, 0.0), (48, 0.0), (49, 0.008790982014032498), (50, 0.025153338083657443), (51, 0.0), (52, 0.008671764008652109), (53, 0.016179380444905092), (54, 0.017235670923177557), (55, 0.024775440845238854), (56, 0.008045668283932564), (57, 0.020101420528803888), (58, 0.06060457945241703), (59, 0.026767665555309114), (60, 0.0), (61, 0.0), (62, 0.0), (63, 0.0062891853082263135), (64, 0.02139124161243229), (65, 0.015672790152196213), (66, 0.009051818445701982), (67, 0.007165754060612544), (68, 0.0), (69, 0.008676758000816655), (70, 0.0), (71, 0.0), (72, 0.015331720443437691), (73, 0.035813124979825355), (74, 0.0), (75, 0.014254852103526634), (76, 0.007400229660273254), (77, 0.021822876125842113), (78, 0.013285128530858266), (79, 0.007877669465890793), (80, 0.007240647426021097), (81, 0.0), (82, 0.027520228601113805), (83, 0.01601976069739805), (84, 0.0), (85, 0.0), (86, 0.0), (87, 0.0), (88, 0.0), (89, 0.0), (90, 0.007727436888242659), (91, 0.04712515751681077), (92, 0.0), (93, 0.007568749760190495), (94, 0.007256879192914257), (95, 0.008128789083473342), (96, 0.0), (97, 0.0), (98, 0.0), (99, 0.0), (100, 0.0), (101, 0.01752375982697968), (102, 0.0), (103, 0.0), (104, 0.0), (105, 0.008994830541521255), (106, 0.048730875509124874), (107, 0.0), (108, 0.0), (109, 0.0), (110, 0.0), (111, 0.008425071489036623), (112, 0.015219534726640997), (113, 0.0), (114, 0.0), (115, 0.03471223206138556), (116, 0.024039038057795274), (117, 0.009032925492123874), (118, 0.07659748625044027), (119, 0.0077528825703631525), (120, 0.009459258237638723), (121, 0.0), (122, 0.0), (123, 0.0), (124, 0.008281486298372288), (125, 0.0), (126, 0.0), (127, 0.0), (128, 0.0), (129, 0.022078358859576187), (130, 0.01434803921428586), (131, 0.009188681993399513), (132, 0.016027724719004925), (133, 0.0), (134, 0.0), (135, 0.0), (136, 0.0), (137, 0.009337551940840828), (138, 0.0), (139, 0.03248732422113195), (140, 0.0), (141, 0.0), (142, 0.0), (143, 0.0), (144, 0.0), (145, 0.0), (146, 0.009893477712202), (147, 0.0), (148, 0.0), (149, 0.0), (150, 0.015471112385802163), (151, 0.03447394372135627), (152, 0.007674103046510782), (153, 0.020067635536887167), (154, 0.023908000734488122), (155, 0.02030340367076628), (156, 0.0), (157, 0.0), (158, 0.0), (159, 0.0), (160, 0.0), (161, 0.00815215420282695), (162, 0.0), (163, 0.0), (164, 0.0), (165, 0.006831242153366312), (166, 0.0), (167, 0.0), (168, 0.0), (169, 0.0), (170, 0.0), (171, 0.007501148931646401), (172, 0.0), (173, 0.0), (174, 0.015614994521142168), (175, 0.0), (176, 0.0), (177, 0.02186017974221666), (178, 0.0), (179, 0.016411785300397073), (180, 0.0), (181, 0.0), (182, 0.007965323226429784), (183, 0.00841171376492637), (184, 0.0), (185, 0.08298750162129359), (186, 0.0), (187, 0.0), (188, 0.009112054293067018), (189, 0.008183167919339308), (190, 0.013490497976194397), (191, 0.008092034899767042), (192, 0.0), (193, 0.06993785922909941), (194, 0.0), (195, 0.015246431632116938), (196, 0.015235699961050493), (197, 0.0), (198, 0.0), (199, 0.00836310394951909), (200, 0.0), (201, 0.008244727087446078), (202, 0.005951162691308844), (203, 0.0), (204, 0.009475157225446436), (205, 0.009603640084115062), (206, 0.0), (207, 0.0), (208, 0.025173054727894426), (209, 0.0), (210, 0.0), (211, 0.0), (212, 0.014794472820590487), (213, 0.0), (214, 0.0), (215, 0.008910122367332483), (216, 0.0), (217, 0.05891862669120671), (218, 0.007214443836890966), (219, 0.050889385598367566), (220, 0.030258527373270526), (221, 0.0), (222, 0.0), (223, 0.0), (224, 0.0), (225, 0.0), (226, 0.01580648872784398), (227, 0.026587660520964708), (228, 0.035918232966232935), (229, 0.0), (230, 0.0), (231, 0.008286564569781215), (232, 0.008508221734916315), (233, 0.0), (234, 0.006801115089434706), (235, 0.06442505457240323), (236, 0.014849318952734022), (237, 0.013768872499032987), (238, 0.016123712623461753), (239, 0.008381959693979842), (240, 0.008394756159487735), (241, 0.00788289711029786), (242, 0.022635356837069385), (243, 0.006385211342808372), (244, 0.0), (245, 0.02630301718118401), (246, 0.0), (247, 0.015626818753667143), (248, 0.0), (249, 0.046199130357026635), (250, 0.06387056216445673), (251, 0.0), (252, 0.006999738456520411), (253, 0.017283945819232052), (254, 0.0), (255, 0.0), (256, 0.036296712897038674), (257, 0.014907359502617238), (258, 0.007956228572315571), (259, 0.009017579043312992), (260, 0.007495270478745063), (261, 0.007624215810173366), (262, 0.0), (263, 0.007478159697454829), (264, 0.02374360060396181), (265, 0.04247024984289033), (266, 0.0), (267, 0.0), (268, 0.0), (269, 0.0), (270, 0.05379798957758906), (271, 0.0), (272, 0.024487121365355576), (273, 0.01534086148509999), (274, 0.0), (275, 0.0), (276, 0.0), (277, 0.04433408407509456), (278, 0.0), (279, 0.014799411550403443), (280, 0.0), (281, 0.0), (282, 0.0), (283, 0.005782928269412782), (284, 0.007536271841054015), (285, 0.06787129257094032), (286, 0.00678112189854757), (287, 0.0), (288, 0.014413133907118469), (289, 0.006342392664986143), (290, 0.006448415322368693), (291, 0.0), (292, 0.007666943368941957), (293, 0.0), (294, 0.013513336693816113), (295, 0.006444439053086017), (296, 0.0), (297, 0.08082902656264135), (298, 0.04882283535358875), (299, 0.046730340975352926), (300, 0.044527299357639175), (301, 0.049439837509429777), (302, 0.01648632956556666), (303, 0.0), (304, 0.0), (305, 0.007894640911375945), (306, 0.039104394281470466), (307, 0.014828437846440333), (308, 0.01025634402967489), (309, 0.007213637326888945), (310, 0.03206386093642059), (311, 0.0), (312, 0.0092353910924345), (313, 0.0), (314, 0.03557812668044201), (315, 0.042572726891834986), (316, 0.030929646183998932), (317, 0.007941472816993768), (318, 0.0), (319, 0.0), (320, 0.03498640115125519), (321, 0.016472976954104462), (322, 0.016712368724268203), (323, 0.007068658454940171), (324, 0.008359217466722448), (325, 0.00857038563852131), (326, 0.0), (327, 0.007088825375417456), (328, 0.0), (329, 0.0), (330, 0.006266664162721395), (331, 0.0), (332, 0.0), (333, 0.00806715277736391), (334, 0.008160957329833799), (335, 0.046351181519041856), (336, 0.0056674348993035325), (337, 0.0), (338, 0.008274566759942429), (339, 0.0), (340, 0.05021688733840383), (341, 0.009875727592760928), (342, 0.0), (343, 0.02883780012656814), (344, 0.028939598376467684), (345, 0.0471913634575019), (346, 0.01822764742494977), (347, 0.0), (348, 0.028332127106447166), (349, 0.0), (350, 0.0), (351, 0.006997614608295011), (352, 0.0), (353, 0.0), (354, 0.0), (355, 0.0), (356, 0.0), (357, 0.01565284124238156), (358, 0.017582461789078185), (359, 0.0), (360, 0.00860581735662365), (361, 0.1773838470515703), (362, 0.10175731453821768), (363, 0.06829604538296041), (364, 0.03128089095939025), (365, 0.12899589587278817), (366, 0.007396239125887254), (367, 0.0), (368, 0.009485454215932661), (369, 0.0), (370, 0.02841181798307546), (371, 0.017395683475501997), (372, 0.0), (373, 0.02321391332641004), (374, 0.01559723500334553), (375, 0.0), (376, 0.0), (377, 0.058810554848630306), (378, 0.0), (379, 0.007277449001735016), (380, 0.0), (381, 0.05491010499572982), (382, 0.007268280748140125), (383, 0.008174357259892429), (384, 0.009624232723384722), (385, 0.010040006609123525), (386, 0.0), (387, 0.0), (388, 0.0), (389, 0.0), (390, 0.025005673910614687), (391, 0.03284196082788203), (392, 0.027238958695424514), (393, 0.0), (394, 0.007750822511176768), (395, 0.0), (396, 0.0), (397, 0.007225266368288663), (398, 0.024664772497568457), (399, 0.0), (400, 0.0), (401, 0.017304987409017314), (402, 0.031049923160989704), (403, 0.0), (404, 0.01780180576951478), (405, 0.019555685366988457), (406, 0.0), (407, 0.007359247432680087), (408, 0.0), (409, 0.045438310101040894), (410, 0.08713947073078245), (411, 0.0), (412, 0.0), (413, 0.009794019447908899), (414, 0.0), (415, 0.03579255132038704), (416, 0.0), (417, 0.03489390458401799), (418, 0.008358695292750544), (419, 0.052975365595029605), (420, 0.0), (421, 0.025943524181588278), (422, 0.0), (423, 0.02545125716069867), (424, 0.00897254902909163), (425, 0.008964764344874077), (426, 0.007391338268062603), (427, 0.0), (428, 0.007134478766553562), (429, 0.0), (430, 0.0), (431, 0.0), (432, 0.015379558116929265), (433, 0.007418803707781928), (434, 0.0), (435, 0.0), (436, 0.0), (437, 0.008702899003479992), (438, 0.0), (439, 0.009016134541574721), (440, 0.04109865670999332), (441, 0.023927739129771537), (442, 0.0), (443, 0.034310008393422825), (444, 0.03226265062714774), (445, 0.007764131376721459), (446, 0.0), (447, 0.025832759680232867), (448, 0.0), (449, 0.0), (450, 0.0), (451, 0.009108685639317068), (452, 0.005951770658646568), (453, 0.0), (454, 0.08104961011770867), (455, 0.0), (456, 0.00960902016253882), (457, 0.015670907778782783), (458, 0.0), (459, 0.008985630310964604), (460, 0.028820831280317843), (461, 0.05844570987917337), (462, 0.0), (463, 0.008405358950854142), (464, 0.008964766282986977), (465, 0.0), (466, 0.008966532722655584), (467, 0.007789752267168305), (468, 0.007394694396806949), (469, 0.014025741541380296), (470, 0.009673485392246916), (471, 0.014763002442913828), (472, 0.017472539273783314), (473, 0.0), (474, 0.0), (475, 0.019023639550394506), (476, 0.0), (477, 0.012606937936379278), (478, 0.032207086866170596), (479, 0.033846983501970046), (480, 0.03393660981878832), (481, 0.0), (482, 0.0), (483, 0.0), (484, 0.0), (485, 0.009719346357647528), (486, 0.05762913457119358), (487, 0.0), (488, 0.0), (489, 0.0), (490, 0.009082324222349416), (491, 0.009238304015800593), (492, 0.10745860331600357), (493, 0.03149510548016142), (494, 0.0), (495, 0.0), (496, 0.006746595237602738), (497, 0.02926213688042658), (498, 0.016277661416182424), (499, 0.0), (500, 0.0), (501, 0.04566991083414451), (502, 0.03655791906721552), (503, 0.0276828771514133), (504, 0.0), (505, 0.0), (506, 0.007349741791751114), (507, 0.0), (508, 0.010546150273910834), (509, 0.0), (510, 0.02170032383199238), (511, 0.016613169204513077), (512, 0.041505001358339996), (513, 0.0), (514, 0.0), (515, 0.02207898219031112), (516, 0.0), (517, 0.03466961686958967), (518, 0.0), (519, 0.015075647822914758), (520, 0.007924481525945694), (521, 0.0), (522, 0.07048397392378246), (523, 0.0), (524, 0.008414093974078243), (525, 0.0), (526, 0.0), (527, 0.043232340963299525), (528, 0.026620162866059234), (529, 0.0), (530, 0.0), (531, 0.0), (532, 0.0), (533, 0.0), (534, 0.0), (535, 0.037519380194189725), (536, 0.0), (537, 0.008995098308236894), (538, 0.0), (539, 0.007732809123810982), (540, 0.007293310710039084), (541, 0.0), (542, 0.03751591516160514), (543, 0.0), (544, 0.0), (545, 0.014909134335242208), (546, 0.05135943793946002), (547, 0.0), (548, 0.007410346693270778), (549, 0.00850975084856467), (550, 0.00872848500004348), (551, 0.0), (552, 0.0), (553, 0.02331192906273894), (554, 0.0), (555, 0.013002793827449526), (556, 0.008767061561538201), (557, 0.017616892374538458), (558, 0.0), (559, 0.0), (560, 0.036266030112039195), (561, 0.00668789177561907), (562, 0.03214440137943622), (563, 0.01635633504959881), (564, 0.0), (565, 0.022146207626741667), (566, 0.0), (567, 0.07693390169309888), (568, 0.007329158630502509), (569, 0.015550738698161093), (570, 0.032385829952486005), (571, 0.0), (572, 0.02430732824275572), (573, 0.04723523802367343), (574, 0.05923320386667933), (575, 0.0), (576, 0.010339376188232715), (577, 0.008122824454426658), (578, 0.00855975872488567), (579, 0.0), (580, 0.0), (581, 0.0), (582, 0.0), (583, 0.008222007728320043), (584, 0.0), (585, 0.0), (586, 0.00823162826112868), (587, 0.026938545288360764), (588, 0.016427197384032442), (589, 0.0), (590, 0.0), (591, 0.00867826645593084), (592, 0.008026129369188144), (593, 0.0), (594, 0.007063220037919197), (595, 0.0), (596, 0.01771282841769052), (597, 0.008244846508417418), (598, 0.0), (599, 0.01662711197311809), (600, 0.008315131913724162), (601, 0.006741314297554978), (602, 0.006451967199478772), (603, 0.008405071510616072), (604, 0.0), (605, 0.0), (606, 0.0), (607, 0.0), (608, 0.007163222415141098), (609, 0.0071960653611419685), (610, 0.00785690353721539), (611, 0.0), (612, 0.009629337500653031), (613, 0.007789110572787287), (614, 0.0), (615, 0.008185872334311497), (616, 0.0), (617, 0.0), (618, 0.0), (619, 0.0), (620, 0.0), (621, 0.0076735935132350025), (622, 0.019274250151222874), (623, 0.0), (624, 0.042714441359856484), (625, 0.0), (626, 0.0), (627, 0.010700383894286401), (628, 0.0), (629, 0.0), (630, 0.0), (631, 0.008125067152541686), (632, 0.0), (633, 0.0), (634, 0.0), (635, 0.008627567177826805), (636, 0.0), (637, 0.025762431644157202), (638, 0.008359017662546415), (639, 0.006672853152257022), (640, 0.01420803453549584), (641, 0.012226829724528706), (642, 0.00783391430532544), (643, 0.015319011223112517), (644, 0.0), (645, 0.007407446881668391), (646, 0.015839426637662107), (647, 0.0), (648, 0.0), (649, 0.014982352053430523), (650, 0.0806798906186487), (651, 0.0), (652, 0.03571835227960827), (653, 0.0), (654, 0.0), (655, 0.00846936479715975), (656, 0.009528298055254885), (657, 0.029896430538558123), (658, 0.05815834139308297), (659, 0.023173801954986296), (660, 0.0), (661, 0.01482616097131559), (662, 0.03365605990758475), (663, 0.0), (664, 0.0), (665, 0.04380938333951607), (666, 0.008892325257296595), (667, 0.0), (668, 0.0), (669, 0.0), (670, 0.0), (671, 0.0), (672, 0.0), (673, 0.017251380130978038), (674, 0.03983150718404538), (675, 0.0), (676, 0.0), (677, 0.008660295217037853), (678, 0.0509098439769041), (679, 0.01045240121836345), (680, 0.0), (681, 0.01789321357193139), (682, 0.0), (683, 0.017846811365103944), (684, 0.017973683208903097), (685, 0.0), (686, 0.018870613769569312), (687, 0.0), (688, 0.08437093653965752), (689, 0.009019765618142848), (690, 0.04207873933757011), (691, 0.007412944724233504), (692, 0.020493267008462344), (693, 0.0), (694, 0.0), (695, 0.0), (696, 0.02732582802061595), (697, 0.015874741053346714), (698, 0.014956966149389123), (699, 0.0071064310111280836), (700, 0.03607720253081915), (701, 0.0), (702, 0.008485371454709616), (703, 0.02972539218518624), (704, 0.0), (705, 0.0), (706, 0.007284947274180539), (707, 0.0), (708, 0.03730401023916047), (709, 0.12162866781079573), (710, 0.008425593741445045), (711, 0.0), (712, 0.030668252876721293), (713, 0.10376057924728163), (714, 0.02466166869493256), (715, 0.03628600618116834), (716, 0.044905619384259986), (717, 0.009564788862416363), (718, 0.05032539487249517), (719, 0.019986587489531873), (720, 0.016421519405221206), (721, 0.0), (722, 0.0), (723, 0.0), (724, 0.032656143457839015), (725, 0.01452469945987174), (726, 0.06794893463224898), (727, 0.0), (728, 0.01949867741296638), (729, 0.0), (730, 0.009444083059398537), (731, 0.0), (732, 0.0), (733, 0.007847185857488158), (734, 0.0), (735, 0.0), (736, 0.05746139061563053), (737, 0.0), (738, 0.014942902514991818), (739, 0.0), (740, 0.04511316794732856), (741, 0.015010892416426584), (742, 0.0), (743, 0.009319750555977085), (744, 0.0), (745, 0.015786477927615165), (746, 0.0), (747, 0.0), (748, 0.0), (749, 0.0), (750, 0.0184177691525147), (751, 0.009535812104225596), (752, 0.009598037690174739), (753, 0.028838834348400025), (754, 0.0), (755, 0.0), (756, 0.013878261744444306), (757, 0.0), (758, 0.0), (759, 0.0), (760, 0.0), (761, 0.0), (762, 0.0), (763, 0.0), (764, 0.0), (765, 0.0), (766, 0.0), (767, 0.008603370240838336), (768, 0.0), (769, 0.0), (770, 0.0), (771, 0.0), (772, 0.08377854382644678), (773, 0.008872721602338063), (774, 0.016380084262326036), (775, 0.006045541844334601), (776, 0.022356297707556445), (777, 0.0), (778, 0.0), (779, 0.0), (780, 0.0), (781, 0.05925587886628408), (782, 0.0), (783, 0.0), (784, 0.025397545381985905), (785, 0.00907488391885895), (786, 0.06359922338887501), (787, 0.005547555174306821), (788, 0.0), (789, 0.023097248192172466), (790, 0.0), (791, 0.0), (792, 0.0), (793, 0.008206831792712855), (794, 0.02771232282352705), (795, 0.0), (796, 0.0), (797, 0.05323716748624951), (798, 0.017252170819446314), (799, 0.0), (800, 0.0), (801, 0.008307862964639178), (802, 0.027946130982873033), (803, 0.025879544203950437), (804, 0.0), (805, 0.049239450334975815), (806, 0.009359517474718387), (807, 0.03803528867206647), (808, 0.0), (809, 0.06790983249615792), (810, 0.03116950315637276), (811, 0.0), (812, 0.0), (813, 0.03252105662536975), (814, 0.025555872560825733), (815, 0.0323021785847924), (816, 0.012866832155198479), (817, 0.0), (818, 0.024062026402952397), (819, 0.015611591411082672), (820, 0.008011448249118694), (821, 0.022322024952890155), (822, 0.009107884049361387), (823, 0.0), (824, 0.032633298174061194), (825, 0.0), (826, 0.00842774462630465), (827, 0.008603991611732833), (828, 0.0), (829, 0.008331512312891969), (830, 0.0), (831, 0.0), (832, 0.0), (833, 0.0), (834, 0.0), (835, 0.0), (836, 0.02402319063808709), (837, 0.0), (838, 0.0), (839, 0.0), (840, 0.0), (841, 0.0), (842, 0.009662549472927528), (843, 0.013000550749142943), (844, 0.0), (845, 0.009494938029276504), (846, 0.009286781486682391), (847, 0.0), (848, 0.02568692711130683), (849, 0.007897097677454362), (850, 0.039839909587929566), (851, 0.013848955761001366), (852, 0.007559157114779647), (853, 0.05420307849049416), (854, 0.008655516737022516), (855, 0.04837940586260893), (856, 0.007053724716084821), (857, 0.0), (858, 0.0), (859, 0.11123426693930952), (860, 0.0), (861, 0.015567715120130216), (862, 0.0), (863, 0.0), (864, 0.0), (865, 0.009312559536898331), (866, 0.0), (867, 0.015580144807200286), (868, 0.0), (869, 0.0), (870, 0.027985904469101795), (871, 0.03328706213097914), (872, 0.08502688831919214), (873, 0.0), (874, 0.0), (875, 0.008673156529470476), (876, 0.0), (877, 0.0), (878, 0.02687886724038125), (879, 0.0), (880, 0.0), (881, 0.0427828049638818), (882, 0.021605396510057585), (883, 0.0), (884, 0.0), (885, 0.0), (886, 0.0), (887, 0.0), (888, 0.0), (889, 0.020345221795512153), (890, 0.0), (891, 0.028596716378365757), (892, 0.00785710017230706), (893, 0.03820658795070267), (894, 0.008984311549513048), (895, 0.032179392236355873), (896, 0.009907776865546903), (897, 0.0), (898, 0.008170176150563882), (899, 0.02638303871997781), (900, 0.0), (901, 0.0), (902, 0.008106213734476496), (903, 0.007407372915481285), (904, 0.0), (905, 0.0), (906, 0.0), (907, 0.0), (908, 0.009265320561381366), (909, 0.0339044357337148), (910, 0.0), (911, 0.05172847975979346), (912, 0.1123180183626538), (913, 0.0), (914, 0.009784341721046991), (915, 0.032113047763356245), (916, 0.0), (917, 0.021924794202332707), (918, 0.01756366432537344), (919, 0.008030580494276497), (920, 0.03912107750349248), (921, 0.00735455142482172), (922, 0.01773629290122818), (923, 0.023588695204214905), (924, 0.0), (925, 0.0), (926, 0.013237236866667714), (927, 0.0), (928, 0.0), (929, 0.006542424046583053), (930, 0.030378418718813326), (931, 0.009165595230785487), (932, 0.0), (933, 0.0), (934, 0.0), (935, 0.007350146916766327), (936, 0.02337658055378494), (937, 0.0), (938, 0.009091010100182208), (939, 0.03257847409028264), (940, 0.006419034318609938), (941, 0.0), (942, 0.0), (943, 0.0), (944, 0.014728608952328285), (945, 0.00800157994435631), (946, 0.06818040923384978), (947, 0.0), (948, 0.0), (949, 0.03444133351484415), (950, 0.0), (951, 0.0066710354362768225), (952, 0.0), (953, 0.02185824928103624), (954, 0.0070626236335780395), (955, 0.028880737641830436), (956, 0.018594704838977086), (957, 0.03546148540996473), (958, 0.1591132572414367), (959, 0.024739473526689124), (960, 0.0), (961, 0.026531160881548145), (962, 0.023226026952026226), (963, 0.0), (964, 0.0), (965, 0.007885029442101024), (966, 0.0074611779021433264), (967, 0.0), (968, 0.03285120352624181), (969, 0.0), (970, 0.0), (971, 0.02560730161841435), (972, 0.0), (973, 0.0), (974, 0.0), (975, 0.014799325492214771), (976, 0.0), (977, 0.03586368511722581), (978, 0.008388852846955916), (979, 0.0), (980, 0.02958029250833128), (981, 0.008165070849084553), (982, 0.0), (983, 0.0), (984, 0.02366425687733064), (985, 0.0), (986, 0.0), (987, 0.009407024106779559), (988, 0.0), (989, 0.0), (990, 0.04994773658277313), (991, 0.019405771717462713), (992, 0.0), (993, 0.0), (994, 0.0), (995, 0.01771020524996148), (996, 0.0), (997, 0.0), (998, 0.0), (999, 0.0), (1000, 0.0), (1001, 0.024761557606764167), (1002, 0.0), (1003, 0.0), (1004, 0.0), (1005, 0.0), (1006, 0.0), (1007, 0.033280916266261645), (1008, 0.021973149500058492), (1009, 0.01618245776841979), (1010, 0.051127083553646493), (1011, 0.046808691071409794), (1012, 0.023488890135568395), (1013, 0.018041227931824985), (1014, 0.0212525414314302), (1015, 0.0), (1016, 0.030131773130005896), (1017, 0.0), (1018, 0.01576479564038112), (1019, 0.0), (1020, 0.0), (1021, 0.028842011887629745), (1022, 0.00786616734064589), (1023, 0.0177700149983781), (1024, 0.0), (1025, 0.06647283318583266), (1026, 0.008899676482442375), (1027, 0.0), (1028, 0.0), (1029, 0.0), (1030, 0.0), (1031, 0.0), (1032, 0.0), (1033, 0.0), (1034, 0.008685467957353818), (1035, 0.008810803976074384), (1036, 0.00855389353395664), (1037, 0.01285976522618265), (1038, 0.01443800820865424), (1039, 0.014371927718154123), (1040, 0.012347239012430773), (1041, 0.008513320152409081), (1042, 0.0075747086847852835), (1043, 0.0), (1044, 0.03345951725700888), (1045, 0.024313274481749594), (1046, 0.028782343464840224), (1047, 0.0), (1048, 0.016427792136051382), (1049, 0.0), (1050, 0.006732173996360262), (1051, 0.009664464435336221), (1052, 0.0), (1053, 0.0), (1054, 0.0), (1055, 0.0), (1056, 0.0), (1057, 0.08193832280218369), (1058, 0.0), (1059, 0.0), (1060, 0.0), (1061, 0.022397011446226307), (1062, 0.015166805477757742), (1063, 0.007635216767248818), (1064, 0.0), (1065, 0.0), (1066, 0.0), (1067, 0.02503260803503521), (1068, 0.0), (1069, 0.008841423771426167), (1070, 0.0), (1071, 0.0), (1072, 0.0), (1073, 0.0), (1074, 0.0), (1075, 0.0), (1076, 0.053757693843025325), (1077, 0.0), (1078, 0.0), (1079, 0.03238188416098608), (1080, 0.043737240463833274), (1081, 0.0), (1082, 0.0355103598872636), (1083, 0.02650086295203757), (1084, 0.017874230154518), (1085, 0.03419791174107877), (1086, 0.023236492323657643), (1087, 0.008033900097205806), (1088, 0.007840527488242823), (1089, 0.0), (1090, 0.014889507595500088), (1091, 0.008651258008957422), (1092, 0.0), (1093, 0.016339673350006443), (1094, 0.0), (1095, 0.0), (1096, 0.0), (1097, 0.0), (1098, 0.0), (1099, 0.07611186747317228), (1100, 0.0), (1101, 0.0), (1102, 0.0), (1103, 0.0), (1104, 0.0), (1105, 0.0), (1106, 0.0), (1107, 0.0), (1108, 0.024193204353155272), (1109, 0.0), (1110, 0.027972305369392735), (1111, 0.008075253173444012), (1112, 0.029545036961786664), (1113, 0.007628589522481146), (1114, 0.03089732130852823), (1115, 0.020875970540908596), (1116, 0.01932486771669211), (1117, 0.0), (1118, 0.016307003368101133), (1119, 0.009683211318889896), (1120, 0.0), (1121, 0.019805764475981064), (1122, 0.009233576901525181), (1123, 0.0), (1124, 0.01638958076280906), (1125, 0.027346586058754438), (1126, 0.007803199427768743), (1127, 0.017793540728090695), (1128, 0.0), (1129, 0.0), (1130, 0.026601985213860056), (1131, 0.0), (1132, 0.050368274347066935), (1133, 0.0), (1134, 0.007123085401594791), (1135, 0.007333103747516665), (1136, 0.0), (1137, 0.045654100662675424), (1138, 0.015991560045625196), (1139, 0.0), (1140, 0.009710945930765538), (1141, 0.009801783129124624), (1142, 0.009608705767907745), (1143, 0.03417295703882032), (1144, 0.007312473595519704), (1145, 0.0), (1146, 0.0), (1147, 0.0), (1148, 0.028757735807890792), (1149, 0.01457361022884342), (1150, 0.025574361141289637), (1151, 0.007923787337486483), (1152, 0.03352087792557468), (1153, 0.012675432316744626), (1154, 0.0), (1155, 0.08510847676327038), (1156, 0.0), (1157, 0.02282651622629879), (1158, 0.0), (1159, 0.0), (1160, 0.0), (1161, 0.04055700466127789), (1162, 0.0), (1163, 0.0), (1164, 0.0), (1165, 0.0347479318692881), (1166, 0.026139107330524332), (1167, 0.0), (1168, 0.011013916882497345), (1169, 0.0), (1170, 0.0), (1171, 0.014920059756561176), (1172, 0.0), (1173, 0.007151306218729817), (1174, 0.0), (1175, 0.007975010016911067), (1176, 0.0), (1177, 0.0), (1178, 0.04414435827199446), (1179, 0.007901214250283903), (1180, 0.023172838762925637), (1181, 0.0), (1182, 0.03890023011627623), (1183, 0.0), (1184, 0.02905735772711591), (1185, 0.008325460302281072), (1186, 0.007963580748945601), (1187, 0.0), (1188, 0.0), (1189, 0.0), (1190, 0.0), (1191, 0.009105278530603177), (1192, 0.0), (1193, 0.0), (1194, 0.020716319220821254), (1195, 0.06427088573204037), (1196, 0.03858207349959627), (1197, 0.00833888349788852), (1198, 0.033205359975925386), (1199, 0.013945525362238382), (1200, 0.014369079044118084), (1201, 0.0), (1202, 0.03593964127961722), (1203, 0.0), (1204, 0.009305826893417697), (1205, 0.01682068082985805), (1206, 0.023348428749679902), (1207, 0.016213946136013936), (1208, 0.0), (1209, 0.0), (1210, 0.06284799840089719), (1211, 0.0), (1212, 0.0), (1213, 0.0), (1214, 0.0), (1215, 0.007763168237756533), (1216, 0.01433527412686134), (1217, 0.015925451384219688), (1218, 0.14298219544172142), (1219, 0.015225492422282251), (1220, 0.0), (1221, 0.021650140939393298), (1222, 0.007688868938185424), (1223, 0.0686613487080381), (1224, 0.0), (1225, 0.017904298724342377), (1226, 0.04809522753878867), (1227, 0.0), (1228, 0.008480005246870584), (1229, 0.04592538563093453), (1230, 0.01517372178822347), (1231, 0.03786976013755582), (1232, 0.0), (1233, 0.009502750296255871), (1234, 0.04144034661081714), (1235, 0.008907781254358147), (1236, 0.01437686008407062), (1237, 0.016410770481172732), (1238, 0.00784844107593271), (1239, 0.0), (1240, 0.008757929231894845), (1241, 0.0), (1242, 0.00722910566085361), (1243, 0.0), (1244, 0.008151086252556903), (1245, 0.0), (1246, 0.02770215353497519), (1247, 0.0), (1248, 0.0), (1249, 0.015725848306404153), (1250, 0.0), (1251, 0.10907696746841643), (1252, 0.0), (1253, 0.0), (1254, 0.008098956379061684), (1255, 0.008617420639955742), (1256, 0.0359025254300158), (1257, 0.008937173961502372), (1258, 0.00955969302658655), (1259, 0.0), (1260, 0.0), (1261, 0.0), (1262, 0.007881246753786948), (1263, 0.007792742453803704), (1264, 0.0), (1265, 0.0), (1266, 0.016124157026803785), (1267, 0.0), (1268, 0.007342752491377632), (1269, 0.007889566556515182), (1270, 0.008314587341837118), (1271, 0.0), (1272, 0.007786134437551353), (1273, 0.007520771634905983), (1274, 0.04203925151142047), (1275, 0.0), (1276, 0.0), (1277, 0.0), (1278, 0.0), (1279, 0.007635963599910632), (1280, 0.008414742598195801), (1281, 0.0), (1282, 0.04529745427531706), (1283, 0.006949403800373209), (1284, 0.008828726958894093), (1285, 0.015769201484967212), (1286, 0.0), (1287, 0.0076135319880735065), (1288, 0.02157371650733332), (1289, 0.0), (1290, 0.0), (1291, 0.023753058100030637), (1292, 0.0), (1293, 0.007595486186652925), (1294, 0.0), (1295, 0.02405406296610112), (1296, 0.0074542424558332225), (1297, 0.0), (1298, 0.018242228006340833), (1299, 0.0), (1300, 0.015424477577108874), (1301, 0.022697974151433556), (1302, 0.0), (1303, 0.0), (1304, 0.00907252327981488), (1305, 0.0), (1306, 0.0396249979345933), (1307, 0.05461892783072572), (1308, 0.023985857904537243), (1309, 0.014525370214325473), (1310, 0.015410365642518173), (1311, 0.0), (1312, 0.007653738323041162), (1313, 0.0), (1314, 0.08633446041516037), (1315, 0.007686474554361965), (1316, 0.022040657861572936), (1317, 0.007348353072618247), (1318, 0.008088558639971218), (1319, 0.0), (1320, 0.023286010675887255), (1321, 0.009094728398108664), (1322, 0.0), (1323, 0.014151775111453763), (1324, 0.00842943679234302), (1325, 0.0), (1326, 0.0064509153410795056), (1327, 0.031899086713518154), (1328, 0.01800542669070796), (1329, 0.0), (1330, 0.026649715459107378), (1331, 0.0), (1332, 0.0), (1333, 0.03577239831540702), (1334, 0.0), (1335, 0.009159816119285812), (1336, 0.026925104301139063), (1337, 0.0), (1338, 0.0), (1339, 0.0), (1340, 0.0), (1341, 0.0064857791651531495), (1342, 0.0), (1343, 0.0), (1344, 0.03290021829878892), (1345, 0.0), (1346, 0.007947455403426677), (1347, 0.0), (1348, 0.0), (1349, 0.0), (1350, 0.007697539793376409), (1351, 0.0066885099471773474), (1352, 0.006712522020613426), (1353, 0.031019683756109112), (1354, 0.040699977527326674), (1355, 0.0), (1356, 0.0), (1357, 0.008357980987187805), (1358, 0.016827637534769742), (1359, 0.0), (1360, 0.0), (1361, 0.009316799629398747), (1362, 0.01174777465446437), (1363, 0.0), (1364, 0.0), (1365, 0.007658680235078093), (1366, 0.032798518878455876), (1367, 0.020455097689480704), (1368, 0.045094557819046505), (1369, 0.0), (1370, 0.007908462653486496), (1371, 0.03179272553542349), (1372, 0.02716194591380021), (1373, 0.016541495077482225), (1374, 0.06132121537648483), (1375, 0.0), (1376, 0.0), (1377, 0.0), (1378, 0.0), (1379, 0.02257144308351715), (1380, 0.008334036995366258), (1381, 0.009068361775682132), (1382, 0.025678854493255462), (1383, 0.028751682720564473), (1384, 0.008071964358294144), (1385, 0.007912248574012506), (1386, 0.008033952507484317), (1387, 0.11672552598436237), (1388, 0.00793671901594026), (1389, 0.02763801173273154), (1390, 0.019449830298982177), (1391, 0.03174884548898029), (1392, 0.0), (1393, 0.0), (1394, 0.008126130725031681), (1395, 0.0), (1396, 0.008264067248595467), (1397, 0.021077223528716334), (1398, 0.00914784891644012), (1399, 0.0), (1400, 0.016664074411043263), (1401, 0.02503761424663821), (1402, 0.009510384570700069), (1403, 0.0), (1404, 0.0), (1405, 0.007973450989819907), (1406, 0.0), (1407, 0.0), (1408, 0.01539258486165151), (1409, 0.0), (1410, 0.015977602506717675), (1411, 0.008962198047476324), (1412, 0.04039718274586966), (1413, 0.02584935676574425), (1414, 0.0), (1415, 0.0), (1416, 0.008666942845388381), (1417, 0.0), (1418, 0.006074210744019444), (1419, 0.0), (1420, 0.0), (1421, 0.00874331709597406), (1422, 0.02819256468691856), (1423, 0.008140004789419964), (1424, 0.0), (1425, 0.018556848777536238), (1426, 0.0), (1427, 0.0), (1428, 0.017194669257988175), (1429, 0.0), (1430, 0.02661273556908833), (1431, 0.02547484586243975), (1432, 0.0), (1433, 0.0), (1434, 0.0), (1435, 0.00927235083924764), (1436, 0.008361191960501944), (1437, 0.00895439028467606), (1438, 0.01565595583335701), (1439, 0.0), (1440, 0.008024303457449552), (1441, 0.0), (1442, 0.03457181015961669), (1443, 0.03602839044949835), (1444, 0.0), (1445, 0.016517405754411938), (1446, 0.0), (1447, 0.0), (1448, 0.0), (1449, 0.0), (1450, 0.06231674251313227), (1451, 0.023464595763055332), (1452, 0.016709556159919734), (1453, 0.0), (1454, 0.04653850068024457), (1455, 0.0), (1456, 0.008418214104918123), (1457, 0.023168425806953972), (1458, 0.03624412849492683), (1459, 0.03226655462664994), (1460, 0.037136413195560936), (1461, 0.009170989940042583), (1462, 0.0), (1463, 0.041204162252010304), (1464, 0.0), (1465, 0.0), (1466, 0.05307982596178142), (1467, 0.0), (1468, 0.08102225986102907), (1469, 0.0), (1470, 0.008179500390409449), (1471, 0.0), (1472, 0.03395417395089692), (1473, 0.04601174912422207), (1474, 0.037410097570644), (1475, 0.00823801564830275), (1476, 0.009188632714487308), (1477, 0.008459810422864948), (1478, 0.0), (1479, 0.0), (1480, 0.031009021478314032), (1481, 0.042149186247848844), (1482, 0.015944545514976538), (1483, 0.0), (1484, 0.0), (1485, 0.0), (1486, 0.0), (1487, 0.008696043671179775), (1488, 0.0), (1489, 0.010191085646654547), (1490, 0.0075503226462393545), (1491, 0.0), (1492, 0.050912712193447056), (1493, 0.0), (1494, 0.0), (1495, 0.03412832191978714), (1496, 0.032715331936389244), (1497, 0.051087865565578386), (1498, 0.0), (1499, 0.0), (1500, 0.0), (1501, 0.015788643859510797), (1502, 0.0), (1503, 0.00716476865819296), (1504, 0.0), (1505, 0.05007971003413886), (1506, 0.006210918443689084), (1507, 0.0), (1508, 0.0), (1509, 0.0), (1510, 0.03191882769027781), (1511, 0.01716635395898352), (1512, 0.0), (1513, 0.009554422060816508), (1514, 0.007313333359919745), (1515, 0.03781073093259542), (1516, 0.0), (1517, 0.0), (1518, 0.009767874498211678), (1519, 0.0), (1520, 0.009845888902224821), (1521, 0.028971916499961052), (1522, 0.017241731574470603), (1523, 0.015584148715548104), (1524, 0.04009791879610578), (1525, 0.009403985179603952), (1526, 0.06411488185440248), (1527, 0.0), (1528, 0.0), (1529, 0.07219802128818642), (1530, 0.006471545265248476), (1531, 0.009691006936169299), (1532, 0.0), (1533, 0.0), (1534, 0.009438859990223992), (1535, 0.0), (1536, 0.0), (1537, 0.029349595202433), (1538, 0.032917874677390144), (1539, 0.008178498110442507), (1540, 0.0), (1541, 0.02437514961671056), (1542, 0.01871740765129031), (1543, 0.008355871260999107), (1544, 0.08134663672042618), (1545, 0.0), (1546, 0.015604592679782205), (1547, 0.0092037521583647), (1548, 0.0), (1549, 0.0), (1550, 0.04588783872936447), (1551, 0.0), (1552, 0.016324680469905036), (1553, 0.04687732008040685), (1554, 0.0186860171123788), (1555, 0.008538393344424784), (1556, 0.0), (1557, 0.018744174072410247), (1558, 0.016805243585925337), (1559, 0.0), (1560, 0.0), (1561, 0.026094211038516293), (1562, 0.022500730163412714), (1563, 0.0), (1564, 0.0), (1565, 0.0), (1566, 0.007908655170346796), (1567, 0.007158308506757587), (1568, 0.03866560715705086), (1569, 0.014194079828126403), (1570, 0.008310641735818554), (1571, 0.007498336618396729), (1572, 0.008408409117286181), (1573, 0.0), (1574, 0.0), (1575, 0.0), (1576, 0.01266232051143639), (1577, 0.0663876779196803), (1578, 0.03666790956834938), (1579, 0.00742792574907648), (1580, 0.0), (1581, 0.07835088126818773), (1582, 0.023321512766465137), (1583, 0.0), (1584, 0.0), (1585, 0.016177061396940164), (1586, 0.01956900203610992), (1587, 0.01727586223483904), (1588, 0.0), (1589, 0.008884154214174851), (1590, 0.0), (1591, 0.0), (1592, 0.025256220734001758), (1593, 0.0), (1594, 0.0), (1595, 0.0), (1596, 0.026019029532829623), (1597, 0.008736565446258377), (1598, 0.016854743788567522), (1599, 0.0), (1600, 0.04472421407811453), (1601, 0.05547739072807274), (1602, 0.07992597595990489), (1603, 0.02488283941375298), (1604, 0.016928677414833372), (1605, 0.0), (1606, 0.06565059827418689), (1607, 0.03266751433920326), (1608, 0.0), (1609, 0.0), (1610, 0.03362692239315015), (1611, 0.023962143832141493), (1612, 0.0), (1613, 0.009540236103823487), (1614, 0.0), (1615, 0.05411271257035405), (1616, 0.0), (1617, 0.0), (1618, 0.02755543706240407), (1619, 0.0), (1620, 0.0), (1621, 0.0), (1622, 0.0), (1623, 0.0), (1624, 0.05819978931171062), (1625, 0.0), (1626, 0.0), (1627, 0.015453508624054774), (1628, 0.04213581701376341), (1629, 0.0), (1630, 0.0), (1631, 0.0), (1632, 0.015157133301919184), (1633, 0.0), (1634, 0.008988981187530718), (1635, 0.0), (1636, 0.0), (1637, 0.0), (1638, 0.015747341966842243), (1639, 0.0076779211578660855), (1640, 0.036231108291804856), (1641, 0.0), (1642, 0.0), (1643, 0.0), (1644, 0.0), (1645, 0.007634100579612973), (1646, 0.007297401218439095), (1647, 0.022962908554029913), (1648, 0.0), (1649, 0.015817102374121646), (1650, 0.014655330937621296), (1651, 0.0), (1652, 0.016035548085376376), (1653, 0.0), (1654, 0.008657170357317777), (1655, 0.0), (1656, 0.0), (1657, 0.008191181762614639), (1658, 0.0), (1659, 0.0), (1660, 0.0), (1661, 0.0), (1662, 0.0), (1663, 0.008640623240495898), (1664, 0.03177051482663388), (1665, 0.0), (1666, 0.0), (1667, 0.0), (1668, 0.027556753220929004), (1669, 0.0), (1670, 0.009653545252301037), (1671, 0.015305465479026625), (1672, 0.0), (1673, 0.008443334315054932), (1674, 0.0), (1675, 0.0071989809533864624), (1676, 0.050627478967344486), (1677, 0.014270668178060405), (1678, 0.018035385391315696), (1679, 0.0), (1680, 0.0), (1681, 0.0), (1682, 0.040311052250890524), (1683, 0.036026075401872346), (1684, 0.0080342017579541), (1685, 0.0), (1686, 0.00807892236390506), (1687, 0.0), (1688, 0.0), (1689, 0.0), (1690, 0.036749688449471046), (1691, 0.02442090054582363), (1692, 0.0), (1693, 0.02671955885683699), (1694, 0.03761922249480906), (1695, 0.022105475170813082), (1696, 0.0), (1697, 0.025709182666708727), (1698, 0.007833965151759265), (1699, 0.015641261618133194), (1700, 0.11125534553475297), (1701, 0.012483235872720301), (1702, 0.0), (1703, 0.0), (1704, 0.026139491646137818), (1705, 0.040226931677830854), (1706, 0.06772045715420982), (1707, 0.021761463671667754), (1708, 0.0), (1709, 0.0), (1710, 0.0), (1711, 0.06409729763090073), (1712, 0.0), (1713, 0.01938827427202408), (1714, 0.031736817337657014), (1715, 0.0), (1716, 0.017729280857568874), (1717, 0.016281172287145707), (1718, 0.0), (1719, 0.0), (1720, 0.04194575297439016), (1721, 0.01691676102470042), (1722, 0.01596394983092121), (1723, 0.0), (1724, 0.0), (1725, 0.00873622188029772), (1726, 0.009411909338102374), (1727, 0.0), (1728, 0.0), (1729, 0.0), (1730, 0.026093203649217075), (1731, 0.018305560067632468), (1732, 0.0), (1733, 0.0), (1734, 0.02566560179086094), (1735, 0.0), (1736, 0.0), (1737, 0.009674490447628128), (1738, 0.0075018716597577825), (1739, 0.008154843277495855), (1740, 0.0), (1741, 0.0), (1742, 0.0), (1743, 0.01345616535135314), (1744, 0.01740196923202928), (1745, 0.01452655646830477), (1746, 0.0), (1747, 0.0), (1748, 0.0), (1749, 0.0), (1750, 0.0), (1751, 0.015994448245741196), (1752, 0.0), (1753, 0.0), (1754, 0.0), (1755, 0.08278340522237529), (1756, 0.0), (1757, 0.008934418776829243), (1758, 0.038790289919665356), (1759, 0.0), (1760, 0.0), (1761, 0.0), (1762, 0.0), (1763, 0.024509266546969263), (1764, 0.014711373858120732), (1765, 0.0), (1766, 0.04207374628990654), (1767, 0.01742478163037616), (1768, 0.03551185277876705), (1769, 0.025913196993531906), (1770, 0.0), (1771, 0.00894204879182547), (1772, 0.006857339187419678), (1773, 0.0), (1774, 0.012070583354074746), (1775, 0.0), (1776, 0.0), (1777, 0.01863521419574582), (1778, 0.0), (1779, 0.0), (1780, 0.017749129990757066), (1781, 0.0), (1782, 0.0), (1783, 0.10114388903850272), (1784, 0.06988594595158508), (1785, 0.0), (1786, 0.03147800915401178), (1787, 0.008590038863170649), (1788, 0.014861775347431248), (1789, 0.007297100306430847), (1790, 0.03411859585292772), (1791, 0.0), (1792, 0.028785232894016313), (1793, 0.026825243745279236), (1794, 0.0), (1795, 0.0), (1796, 0.0), (1797, 0.022777115953213765), (1798, 0.016966830231421884), (1799, 0.0), (1800, 0.09000286752840383), (1801, 0.0), (1802, 0.006730660284975547), (1803, 0.0), (1804, 0.1099808373124734), (1805, 0.02775043975375738), (1806, 0.0), (1807, 0.015506358139596806), (1808, 0.0), (1809, 0.007141699321726707), (1810, 0.0478182906943964), (1811, 0.0), (1812, 0.008441571513935882), (1813, 0.0), (1814, 0.0), (1815, 0.0), (1816, 0.016296366413197882), (1817, 0.0), (1818, 0.008594485312823962), (1819, 0.0), (1820, 0.08739799648100993), (1821, 0.0), (1822, 0.04131077616065059), (1823, 0.0), (1824, 0.04835279440245174), (1825, 0.0), (1826, 0.0), (1827, 0.008201392399980452), (1828, 0.0), (1829, 0.0), (1830, 0.02983055035802832), (1831, 0.015630810284155545), (1832, 0.0), (1833, 0.0067666524702189165), (1834, 0.0), (1835, 0.0), (1836, 0.0), (1837, 0.025391294263578418), (1838, 0.0), (1839, 0.008758914460009752), (1840, 0.01650386119930036), (1841, 0.0348896541720701), (1842, 0.008974029350213884), (1843, 0.010402898527601474), (1844, 0.04689873587494529), (1845, 0.00766959523797372), (1846, 0.016533162042932134), (1847, 0.0), (1848, 0.0), (1849, 0.04238945247249558), (1850, 0.03046077270587634), (1851, 0.0), (1852, 0.0), (1853, 0.0), (1854, 0.008757048310505744), (1855, 0.05811960248861283), (1856, 0.0), (1857, 0.008928579889932052), (1858, 0.0), (1859, 0.0), (1860, 0.0), (1861, 0.011982819652649851), (1862, 0.0), (1863, 0.007921269001486056), (1864, 0.0), (1865, 0.01434149874131375), (1866, 0.0), (1867, 0.03755312161327296), (1868, 0.0), (1869, 0.0), (1870, 0.0), (1871, 0.02304607488380107), (1872, 0.028782915738419092), (1873, 0.0), (1874, 0.0), (1875, 0.030915787188026914), (1876, 0.0), (1877, 0.0), (1878, 0.01732008598687531), (1879, 0.0), (1880, 0.0), (1881, 0.026640445289533864), (1882, 0.0), (1883, 0.029200247518781898), (1884, 0.0), (1885, 0.0), (1886, 0.006280927227893766), (1887, 0.0), (1888, 0.0), (1889, 0.04220245643308981), (1890, 0.0), (1891, 0.008990816411385988), (1892, 0.0), (1893, 0.0), (1894, 0.008563238059483273), (1895, 0.015987776276881537), (1896, 0.0), (1897, 0.0), (1898, 0.015965391024424975), (1899, 0.008455006121334109), (1900, 0.0), (1901, 0.02430045093545706), (1902, 0.08830253587439793), (1903, 0.033822756720307275), (1904, 0.008357046566690533), (1905, 0.0), (1906, 0.0), (1907, 0.0), (1908, 0.08471345648299353), (1909, 0.0), (1910, 0.0), (1911, 0.08063412416789922), (1912, 0.007565752770475494), (1913, 0.018001440999897134), (1914, 0.01699044652844682), (1915, 0.01725038037750738), (1916, 0.0), (1917, 0.0), (1918, 0.02627829518780024), (1919, 0.017388332987418775), (1920, 0.0), (1921, 0.0), (1922, 0.0), (1923, 0.050348858570946536), (1924, 0.0), (1925, 0.01583466905431777), (1926, 0.03991740033895723), (1927, 0.0), (1928, 0.03273520623488349), (1929, 0.0), (1930, 0.009168361608672479), (1931, 0.008073926966297674), (1932, 0.02714712471237598), (1933, 0.041301084301463745), (1934, 0.01411194575241582), (1935, 0.0), (1936, 0.017450603757298004), (1937, 0.0), (1938, 0.047589344855289775), (1939, 0.04825417878031507), (1940, 0.0106000689708338), (1941, 0.0), (1942, 0.03552797073285186), (1943, 0.007983295196200668), (1944, 0.0502058083171145), (1945, 0.007962296737118457), (1946, 0.016244817758221487), (1947, 0.0), (1948, 0.005414812383634546), (1949, 0.03620283966791278), (1950, 0.05922660956094859), (1951, 0.0), (1952, 0.0), (1953, 0.0), (1954, 0.03338705181942633), (1955, 0.017934781245310356), (1956, 0.0), (1957, 0.0), (1958, 0.027876862253778018), (1959, 0.0), (1960, 0.0), (1961, 0.017589594301378672), (1962, 0.07115911750227871), (1963, 0.007337919410799058), (1964, 0.03015754044929514), (1965, 0.008254112360567814), (1966, 0.0), (1967, 0.0), (1968, 0.010650939637495338), (1969, 0.055083832511068645), (1970, 0.0), (1971, 0.0408572807981174), (1972, 0.04247897609150309), (1973, 0.02974287064178213), (1974, 0.03664730166236207), (1975, 0.0), (1976, 0.0), (1977, 0.0), (1978, 0.008083490940742788), (1979, 0.03193980264324288), (1980, 0.0), (1981, 0.01514808749963628), (1982, 0.0072380923014204014), (1983, 0.0), (1984, 0.0), (1985, 0.0), (1986, 0.11011728644304747), (1987, 0.015578971537722537), (1988, 0.0), (1989, 0.006347031120967241), (1990, 0.0), (1991, 0.0), (1992, 0.008473044907077213), (1993, 0.0), (1994, 0.0), (1995, 0.0), (1996, 0.0), (1997, 0.0), (1998, 0.0), (1999, 0.03789277253319934), (2000, 0.0), (2001, 0.0), (2002, 0.0), (2003, 0.023663981969708568), (2004, 0.0), (2005, 0.008155200650604941), (2006, 0.014561239449717368), (2007, 0.008278375888113454), (2008, 0.0), (2009, 0.0), (2010, 0.006240568508152725), (2011, 0.0), (2012, 0.0), (2013, 0.13599192276436245), (2014, 0.007859613615537012), (2015, 0.008251545367622222), (2016, 0.008203589859407154), (2017, 0.0), (2018, 0.01474574941743243), (2019, 0.03331520264025496), (2020, 0.0), (2021, 0.06214620234540734), (2022, 0.0071927529725919264), (2023, 0.0), (2024, 0.0), (2025, 0.007481567314929799), (2026, 0.018063970198886305), (2027, 0.0), (2028, 0.00641857350100223), (2029, 0.0), (2030, 0.026169169830074425), (2031, 0.0), (2032, 0.0), (2033, 0.0), (2034, 0.013982625554770485), (2035, 0.015366544182767394), (2036, 0.01439073666835362), (2037, 0.0), (2038, 0.015332958799361704), (2039, 0.0), (2040, 0.0), (2041, 0.02600605553642673), (2042, 0.0), (2043, 0.008212912647951844), (2044, 0.0), (2045, 0.03391595586023641), (2046, 0.009160493712343204), (2047, 0.008014406463981574), (2048, 0.06468359420816477), (2049, 0.03711532688670333), (2050, 0.016280732924777483), (2051, 0.01796117616592161), (2052, 0.008553715294074364), (2053, 0.0), (2054, 0.009523252032798992), (2055, 0.04618383521216646), (2056, 0.03977804513192382), (2057, 0.0), (2058, 0.0), (2059, 0.0), (2060, 0.03354290196988305), (2061, 0.0), (2062, 0.0), (2063, 0.0), (2064, 0.013315796566087897), (2065, 0.007099597519246754), (2066, 0.008889711755867946), (2067, 0.00794982104171319), (2068, 0.015021921887097984), (2069, 0.0), (2070, 0.023220808478281053), (2071, 0.0), (2072, 0.0), (2073, 0.0), (2074, 0.008006691738292864), (2075, 0.07682486308975932), (2076, 0.055007305259388836), (2077, 0.0), (2078, 0.007213043752357407), (2079, 0.04340774296420979), (2080, 0.0), (2081, 0.0), (2082, 0.009950216917464819), (2083, 0.0), (2084, 0.031249068109008696), (2085, 0.0), (2086, 0.04060775044762932), (2087, 0.008970790549695762), (2088, 0.0), (2089, 0.0), (2090, 0.0), (2091, 0.0), (2092, 0.018571318341683147), (2093, 0.01569645126071321), (2094, 0.0), (2095, 0.0552965219800747), (2096, 0.0), (2097, 0.01720296373303443), (2098, 0.03624319066662724), (2099, 0.02547024834991271), (2100, 0.048498377964396475), (2101, 0.07137221963217577), (2102, 0.0), (2103, 0.007694691922562146), (2104, 0.025943294400843846), (2105, 0.0), (2106, 0.0), (2107, 0.0), (2108, 0.0), (2109, 0.0), (2110, 0.0), (2111, 0.008984281310397805), (2112, 0.010010207499819231), (2113, 0.0), (2114, 0.007635443681188898), (2115, 0.0), (2116, 0.0), (2117, 0.01637783647365347), (2118, 0.0056406344797538845), (2119, 0.0), (2120, 0.008451265826622227), (2121, 0.0), (2122, 0.0), (2123, 0.016362972459515245), (2124, 0.0), (2125, 0.015615872654803478), (2126, 0.0), (2127, 0.00663394073220956), (2128, 0.0), (2129, 0.008403864144017047), (2130, 0.0171559021330287), (2131, 0.023898955804205917), (2132, 0.007576959751403065), (2133, 0.0), (2134, 0.0), (2135, 0.03165504466603576), (2136, 0.008564419654686585), (2137, 0.0), (2138, 0.0), (2139, 0.007416597494167745), (2140, 0.0), (2141, 0.0), (2142, 0.0), (2143, 0.008671300589780061), (2144, 0.0), (2145, 0.025274108946584904), (2146, 0.0), (2147, 0.009626685108888517), (2148, 0.0), (2149, 0.0), (2150, 0.03248466984617392), (2151, 0.0), (2152, 0.0), (2153, 0.03372863990954503), (2154, 0.011748281705803772), (2155, 0.018394365626480863), (2156, 0.0), (2157, 0.028222652528165346), (2158, 0.0), (2159, 0.017432176368651436), (2160, 0.0), (2161, 0.0), (2162, 0.0), (2163, 0.008092587622193366), (2164, 0.008845015970591816), (2165, 0.027018103107925268), (2166, 0.0), (2167, 0.0), (2168, 0.0), (2169, 0.0), (2170, 0.016906288173653007), (2171, 0.03623940734860927), (2172, 0.008092549857836952), (2173, 0.0), (2174, 0.0), (2175, 0.0), (2176, 0.09652679130396956), (2177, 0.006793642959924462), (2178, 0.008821717535560826), (2179, 0.0), (2180, 0.0), (2181, 0.03963738946632624), (2182, 0.028613410627547214), (2183, 0.03961238899584063), (2184, 0.0), (2185, 0.007079294997098423), (2186, 0.0), (2187, 0.010408990400680534), (2188, 0.01106860453187054), (2189, 0.0), (2190, 0.0), (2191, 0.0), (2192, 0.015920170230314303), (2193, 0.0), (2194, 0.0), (2195, 0.0), (2196, 0.019290255715192446), (2197, 0.035836236051350466), (2198, 0.04086290942029386), (2199, 0.011939274953241817), (2200, 0.016831737224370598), (2201, 0.008532150035009796), (2202, 0.0), (2203, 0.00829897609742412), (2204, 0.0), (2205, 0.008489455338096157), (2206, 0.0), (2207, 0.023476387718646526), (2208, 0.017988064988230138), (2209, 0.07962351399784745), (2210, 0.01865072660347897), (2211, 0.0), (2212, 0.01577438519310796), (2213, 0.0), (2214, 0.0), (2215, 0.0), (2216, 0.045667497198416215), (2217, 0.0), (2218, 0.05588982066429345), (2219, 0.0), (2220, 0.0), (2221, 0.0), (2222, 0.0), (2223, 0.010428552417461321), (2224, 0.0), (2225, 0.0), (2226, 0.0), (2227, 0.020185557887208206), (2228, 0.0), (2229, 0.0), (2230, 0.0), (2231, 0.06307567522143556), (2232, 0.0), (2233, 0.06124363061844862), (2234, 0.0), (2235, 0.02940966071985682), (2236, 0.008322876971029574), (2237, 0.006934152132447894), (2238, 0.0), (2239, 0.04702021967954023), (2240, 0.007958947372386288), (2241, 0.0), (2242, 0.0), (2243, 0.0), (2244, 0.0), (2245, 0.0087599448517887), (2246, 0.0), (2247, 0.060077442946493115), (2248, 0.0), (2249, 0.008264086213817056), (2250, 0.033289684862842145), (2251, 0.0), (2252, 0.0), (2253, 0.0), (2254, 0.03107193792229893), (2255, 0.0), (2256, 0.0), (2257, 0.011808695747840934), (2258, 0.031035327954367014), (2259, 0.025964942774813128), (2260, 0.03601436477662776), (2261, 0.010631450477217391), (2262, 0.008263080028630077), (2263, 0.0444885592457523), (2264, 0.045699869816021775), (2265, 0.008326462544649131), (2266, 0.0), (2267, 0.02923842287549394), (2268, 0.0), (2269, 0.02117126957760366), (2270, 0.0), (2271, 0.008583163699172284), (2272, 0.0), (2273, 0.010704708023628887), (2274, 0.008345041363049257), (2275, 0.012282060089810339), (2276, 0.0), (2277, 0.008010473417582454), (2278, 0.0), (2279, 0.036723376231644164), (2280, 0.0), (2281, 0.024200702672369276), (2282, 0.06154915769565175), (2283, 0.01819558892896247), (2284, 0.07021790584568255), (2285, 0.014221332181328475), (2286, 0.0), (2287, 0.028318829955261707), (2288, 0.0), (2289, 0.0), (2290, 0.009359593694974848), (2291, 0.01354383966483341), (2292, 0.0), (2293, 0.0), (2294, 0.0), (2295, 0.0), (2296, 0.014342918754437245), (2297, 0.0238110086055369), (2298, 0.007797972596227329), (2299, 0.025279748061378657), (2300, 0.0), (2301, 0.0415637463990603), (2302, 0.0), (2303, 0.0), (2304, 0.0), (2305, 0.0), (2306, 0.0), (2307, 0.0), (2308, 0.10928994085712519), (2309, 0.0), (2310, 0.052323300701761985), (2311, 0.02395955126122488), (2312, 0.0), (2313, 0.0), (2314, 0.0), (2315, 0.008359565821119595), (2316, 0.026752891017478728), (2317, 0.008391738712287123), (2318, 0.0), (2319, 0.009528199349411843), (2320, 0.029609886444524308), (2321, 0.029237814559987692), (2322, 0.10924971503414993), (2323, 0.030288906128777375), (2324, 0.010195808998470508), (2325, 0.0), (2326, 0.007121648802825025), (2327, 0.01700730082890266), (2328, 0.0), (2329, 0.04905880536134998), (2330, 0.017944265730582633), (2331, 0.03546307031705908), (2332, 0.05154235949514513), (2333, 0.0), (2334, 0.025606410751707703), (2335, 0.00925296759938191), (2336, 0.0), (2337, 0.018076947246168228), (2338, 0.0), (2339, 0.0), (2340, 0.0), (2341, 0.0), (2342, 0.0), (2343, 0.0), (2344, 0.0), (2345, 0.0), (2346, 0.0), (2347, 0.0), (2348, 0.0), (2349, 0.0), (2350, 0.0), (2351, 0.010947786509219853), (2352, 0.0364197621054386), (2353, 0.033146942728493556), (2354, 0.0), (2355, 0.0), (2356, 0.008833901691843863), (2357, 0.0), (2358, 0.013216479423981383), (2359, 0.0), (2360, 0.053423213406055894), (2361, 0.0), (2362, 0.0), (2363, 0.0), (2364, 0.013728022746231515), (2365, 0.045605008254753096), (2366, 0.016032473508705264), (2367, 0.008779618497235636), (2368, 0.0), (2369, 0.0), (2370, 0.0), (2371, 0.08396395995368187), (2372, 0.028514139084397858), (2373, 0.0), (2374, 0.0), (2375, 0.00996374140772684), (2376, 0.0), (2377, 0.03885799414086791), (2378, 0.0), (2379, 0.013236816296373048), (2380, 0.0), (2381, 0.019036626640505074), (2382, 0.0), (2383, 0.0), (2384, 0.03187599774362419), (2385, 0.0), (2386, 0.0), (2387, 0.0), (2388, 0.0), (2389, 0.015230187056702026), (2390, 0.010054741154188357), (2391, 0.009686722352646795), (2392, 0.0), (2393, 0.01946683836574644), (2394, 0.0), (2395, 0.0), (2396, 0.009151939236177601), (2397, 0.03816655023235757), (2398, 0.013649105841151433), (2399, 0.0), (2400, 0.010258096329221115), (2401, 0.017728239531921236), (2402, 0.008213549369180869), (2403, 0.0), (2404, 0.0), (2405, 0.03490859541500832), (2406, 0.010653241871163678), (2407, 0.0), (2408, 0.02539221972197691), (2409, 0.06811789098683556), (2410, 0.0729336738878107), (2411, 0.0), (2412, 0.0), (2413, 0.06388193349487044), (2414, 0.05850487837290658), (2415, 0.0), (2416, 0.0), (2417, 0.0), (2418, 0.0), (2419, 0.009636047435201515), (2420, 0.0), (2421, 0.025448135066833848), (2422, 0.0), (2423, 0.011558898642081667), (2424, 0.0), (2425, 0.0), (2426, 0.007122672770549742), (2427, 0.00917908537547245), (2428, 0.008720875799592609), (2429, 0.03627625660504072), (2430, 0.034157138019112056), (2431, 0.0), (2432, 0.0), (2433, 0.029375898654353465), (2434, 0.0), (2435, 0.009057014096314217), (2436, 0.0), (2437, 0.0), (2438, 0.030339984731821566), (2439, 0.0), (2440, 0.03725879953655512), (2441, 0.02560291430278816), (2442, 0.007349320263165469), (2443, 0.01595374124013593), (2444, 0.008060651815985549), (2445, 0.0639843761027735), (2446, 0.014683009525427016), (2447, 0.023336048902436873), (2448, 0.011978276348820155), (2449, 0.01835957355067753), (2450, 0.0636468172669791), (2451, 0.03602816901147736), (2452, 0.0), (2453, 0.0), (2454, 0.0), (2455, 0.0), (2456, 0.00946648327537277), (2457, 0.008158399640566857), (2458, 0.0), (2459, 0.0), (2460, 0.007903957354214551), (2461, 0.017686623926181023), (2462, 0.027475306695497775), (2463, 0.028132988625632994), (2464, 0.0), (2465, 0.0), (2466, 0.009419434976021657), (2467, 0.0), (2468, 0.010596880232337456), (2469, 0.0), (2470, 0.0), (2471, 0.0), (2472, 0.01585477135609379), (2473, 0.0162609695387223), (2474, 0.006062786572191669), (2475, 0.0), (2476, 0.0), (2477, 0.0), (2478, 0.0), (2479, 0.027217046280967154), (2480, 0.0), (2481, 0.02039813703209714), (2482, 0.0), (2483, 0.0), (2484, 0.03428641318587073), (2485, 0.0618018608770428), (2486, 0.0), (2487, 0.009191529277450868), (2488, 0.011083938245123473), (2489, 0.0), (2490, 0.041251498769241446), (2491, 0.027349417779337967), (2492, 0.02562978371394669), (2493, 0.010009646354556053), (2494, 0.029269178863708133), (2495, 0.0), (2496, 0.01690641147694431), (2497, 0.0), (2498, 0.0), (2499, 0.0), (2500, 0.0), (2501, 0.007940317443237246), (2502, 0.00800194360546094), (2503, 0.0), (2504, 0.0327520745659971), (2505, 0.0), (2506, 0.007927969219952449), (2507, 0.039853817439656464), (2508, 0.02027487422720174), (2509, 0.0), (2510, 0.0), (2511, 0.009400798805083054), (2512, 0.025854465536112918), (2513, 0.0), (2514, 0.0), (2515, 0.0), (2516, 0.027170340411683053), (2517, 0.008719033966120589), (2518, 0.0), (2519, 0.0), (2520, 0.0), (2521, 0.03338481095555613), (2522, 0.008422065007301891), (2523, 0.0), (2524, 0.0), (2525, 0.03262070516357751), (2526, 0.02004115750806874), (2527, 0.0), (2528, 0.0), (2529, 0.0), (2530, 0.021701216388977845), (2531, 0.019010857164042917), (2532, 0.05646520754986411), (2533, 0.0), (2534, 0.0), (2535, 0.0), (2536, 0.0), (2537, 0.0), (2538, 0.0), (2539, 0.03699366762585629), (2540, 0.0), (2541, 0.007696410038488148), (2542, 0.0), (2543, 0.0), (2544, 0.0), (2545, 0.03016706033056504), (2546, 0.0), (2547, 0.0), (2548, 0.02244611466860227), (2549, 0.025296850999741192), (2550, 0.0), (2551, 0.008029290320596813), (2552, 0.0), (2553, 0.0), (2554, 0.017224624544084355), (2555, 0.01941619468535439), (2556, 0.0), (2557, 0.0), (2558, 0.0), (2559, 0.010388120574096115), (2560, 0.0), (2561, 0.0), (2562, 0.04232075841447322), (2563, 0.033165280366992345), (2564, 0.03043027840314016), (2565, 0.02598387858460646), (2566, 0.0), (2567, 0.009377424914071947), (2568, 0.011217574204228116), (2569, 0.007808426710942557), (2570, 0.08417762651353025), (2571, 0.008762470137762808), (2572, 0.0), (2573, 0.06259575871009643), (2574, 0.03146203595122459), (2575, 0.00863709987941616), (2576, 0.0), (2577, 0.028695843376978822), (2578, 0.0), (2579, 0.01028080812748042), (2580, 0.04038854341334176), (2581, 0.0), (2582, 0.025484661784458008), (2583, 0.025713190831876544), (2584, 0.046579795137950325), (2585, 0.027042465845869054), (2586, 0.0), (2587, 0.0), (2588, 0.019364096867062325), (2589, 0.068131740176938), (2590, 0.07951030607571821), (2591, 0.00822862900882662), (2592, 0.020307828186968815), (2593, 0.0799161457538961), (2594, 0.016933111686597852), (2595, 0.01786498929746188), (2596, 0.0), (2597, 0.047261661332251105), (2598, 0.0), (2599, 0.03774257464384416), (2600, 0.0), (2601, 0.02554519782750788), (2602, 0.0), (2603, 0.0358929435372251), (2604, 0.009981530946427543), (2605, 0.008249161967240131), (2606, 0.0159178362107979), (2607, 0.0), (2608, 0.0), (2609, 0.008428775558688515), (2610, 0.0), (2611, 0.0), (2612, 0.01761736863321621), (2613, 0.0), (2614, 0.009959037681062924), (2615, 0.047134534684814766), (2616, 0.016694381363097113), (2617, 0.016082686119097005), (2618, 0.01721776739337584), (2619, 0.0), (2620, 0.027155380448188514), (2621, 0.057888946533683566), (2622, 0.015389380471918816), (2623, 0.0), (2624, 0.0), (2625, 0.0), (2626, 0.019841041478682767), (2627, 0.0), (2628, 0.0), (2629, 0.0), (2630, 0.0), (2631, 0.0), (2632, 0.0), (2633, 0.0), (2634, 0.0), (2635, 0.018523388468395595), (2636, 0.00680905535284009), (2637, 0.12344309341077975), (2638, 0.0), (2639, 0.0), (2640, 0.008268271169719827), (2641, 0.007572432697895069), (2642, 0.007613535396478692), (2643, 0.01186208862891984), (2644, 0.0), (2645, 0.0), (2646, 0.032771004308228824), (2647, 0.02631394081509191), (2648, 0.0), (2649, 0.0), (2650, 0.018952353867065168), (2651, 0.0), (2652, 0.025924144672819862), (2653, 0.023636808626750466), (2654, 0.07082791842851768), (2655, 0.0), (2656, 0.011580420279109088), (2657, 0.0), (2658, 0.0), (2659, 0.0), (2660, 0.005922191175016596), (2661, 0.009736140728203224), (2662, 0.01742353611423889), (2663, 0.0), (2664, 0.0), (2665, 0.014886045889134395), (2666, 0.02357283529363991), (2667, 0.0), (2668, 0.025703169355940764), (2669, 0.0), (2670, 0.0), (2671, 0.025368955583126802), (2672, 0.019137497569566838), (2673, 0.0), (2674, 0.0), (2675, 0.03986126685621013), (2676, 0.0), (2677, 0.0), (2678, 0.0), (2679, 0.0), (2680, 0.0), (2681, 0.0), (2682, 0.0), (2683, 0.0), (2684, 0.0), (2685, 0.0), (2686, 0.0), (2687, 0.0), (2688, 0.028779534668029523), (2689, 0.0), (2690, 0.0), (2691, 0.00822143113148103), (2692, 0.0), (2693, 0.0), (2694, 0.033927947188708694), (2695, 0.0), (2696, 0.0), (2697, 0.0148000078101947), (2698, 0.0), (2699, 0.008461269445622824), (2700, 0.0), (2701, 0.0), (2702, 0.029110828580107037), (2703, 0.0), (2704, 0.02733323009960059), (2705, 0.0), (2706, 0.03190914121680562), (2707, 0.009274609609563477), (2708, 0.026137876987706164), (2709, 0.0), (2710, 0.06683811206110638), (2711, 0.01725960864435196), (2712, 0.0), (2713, 0.0077414667141536405), (2714, 0.0), (2715, 0.032086736297212065), (2716, 0.0), (2717, 0.02805377604611009), (2718, 0.006896121161848879), (2719, 0.04668010616422763), (2720, 0.06028893016762147), (2721, 0.00796962307053143), (2722, 0.039950040752353366), (2723, 0.0), (2724, 0.01404753409279718), (2725, 0.008451250159093055), (2726, 0.0), (2727, 0.0), (2728, 0.008255311288346074), (2729, 0.03578812002855835), (2730, 0.0), (2731, 0.0), (2732, 0.0), (2733, 0.0), (2734, 0.007208481096115214), (2735, 0.0), (2736, 0.0), (2737, 0.0), (2738, 0.0), (2739, 0.0), (2740, 0.01779498266607631), (2741, 0.015373449966806894), (2742, 0.0), (2743, 0.0), (2744, 0.0), (2745, 0.0), (2746, 0.02469951228061601), (2747, 0.07342734119029745), (2748, 0.0), (2749, 0.015446034075296164), (2750, 0.0), (2751, 0.014991296769546955), (2752, 0.008772500104998249), (2753, 0.031852685371705235), (2754, 0.0), (2755, 0.027472268838851864), (2756, 0.021959550835452153), (2757, 0.0), (2758, 0.007789639524816042), (2759, 0.023670681502551884), (2760, 0.0139224228777003), (2761, 0.0), (2762, 0.04310891063792677), (2763, 0.016674681441417892), (2764, 0.0), (2765, 0.0), (2766, 0.00727773163720996), (2767, 0.022329130014144632), (2768, 0.0), (2769, 0.0), (2770, 0.007584582778369162), (2771, 0.024569525429086102), (2772, 0.010864841961782353), (2773, 0.0), (2774, 0.006314581296702539), (2775, 0.0), (2776, 0.0), (2777, 0.008391961761271067), (2778, 0.0), (2779, 0.0), (2780, 0.0), (2781, 0.041833126857962054), (2782, 0.010209863156617243), (2783, 0.0), (2784, 0.0), (2785, 0.0), (2786, 0.0), (2787, 0.0), (2788, 0.0), (2789, 0.0), (2790, 0.00953584949494128), (2791, 0.0), (2792, 0.0), (2793, 0.0), (2794, 0.0), (2795, 0.0618184299368842), (2796, 0.0), (2797, 0.0), (2798, 0.009209806183882624), (2799, 0.010265614068714495), (2800, 0.0), (2801, 0.0), (2802, 0.0), (2803, 0.007191427110873842), (2804, 0.007904727105303433), (2805, 0.0), (2806, 0.05758305386283049), (2807, 0.0), (2808, 0.008788187329379209), (2809, 0.016639943943340344), (2810, 0.010279376161208154), (2811, 0.0), (2812, 0.04662630891594938), (2813, 0.15539697694437174), (2814, 0.006561824534840871), (2815, 0.0), (2816, 0.0), (2817, 0.009670880574955578), (2818, 0.0), (2819, 0.0), (2820, 0.0), (2821, 0.0), (2822, 0.028862067184591153), (2823, 0.0), (2824, 0.04127932515310043), (2825, 0.015617058553542352), (2826, 0.00794450606380881), (2827, 0.0), (2828, 0.0), (2829, 0.0), (2830, 0.008794788711568111), (2831, 0.050195024390091984), (2832, 0.0), (2833, 0.06806724339160654), (2834, 0.0), (2835, 0.08582279115090977), (2836, 0.0), (2837, 0.0), (2838, 0.03255055529228057), (2839, 0.009099113634955018), (2840, 0.0), (2841, 0.025329180416339993), (2842, 0.007841374919685014), (2843, 0.017550479990841517), (2844, 0.039896416716498975), (2845, 0.03089265334329591), (2846, 0.0), (2847, 0.007802068745153489), (2848, 0.06967175984505135), (2849, 0.0), (2850, 0.023565977402022934), (2851, 0.022443201860150988), (2852, 0.027127862923474147), (2853, 0.0), (2854, 0.030150301112211102), (2855, 0.0), (2856, 0.051497502826500514), (2857, 0.03351095607932522), (2858, 0.0), (2859, 0.0), (2860, 0.02572545119620259), (2861, 0.0), (2862, 0.0), (2863, 0.0), (2864, 0.0), (2865, 0.0), (2866, 0.0), (2867, 0.03241777660058165), (2868, 0.00839097572571135), (2869, 0.0), (2870, 0.0), (2871, 0.0), (2872, 0.0), (2873, 0.010417270377777564), (2874, 0.0), (2875, 0.0), (2876, 0.015098744449291926), (2877, 0.015228497388769373), (2878, 0.0), (2879, 0.0), (2880, 0.05724660975079715), (2881, 0.0), (2882, 0.0), (2883, 0.0), (2884, 0.031339010653987205), (2885, 0.023850487089510958), (2886, 0.0), (2887, 0.017300661466908708), (2888, 0.008560059977745161), (2889, 0.0), (2890, 0.0), (2891, 0.0), (2892, 0.008609160369257204), (2893, 0.03363919661639788), (2894, 0.0), (2895, 0.009458832805710417), (2896, 0.009314045430259838), (2897, 0.0), (2898, 0.008611536879301837), (2899, 0.0), (2900, 0.0), (2901, 0.011775925706836936), (2902, 0.0), (2903, 0.0), (2904, 0.016442726588857908), (2905, 0.0), (2906, 0.0), (2907, 0.0), (2908, 0.0), (2909, 0.008945222743917005), (2910, 0.0), (2911, 0.0), (2912, 0.0), (2913, 0.0), (2914, 0.0), (2915, 0.0), (2916, 0.01027357779142144), (2917, 0.0), (2918, 0.0), (2919, 0.0), (2920, 0.021694643768468806), (2921, 0.010148331458789057), (2922, 0.0), (2923, 0.0), (2924, 0.0), (2925, 0.0), (2926, 0.0), (2927, 0.04065073979606351), (2928, 0.0), (2929, 0.008088887374977798), (2930, 0.0), (2931, 0.024704979625499737), (2932, 0.0), (2933, 0.007702132709947525), (2934, 0.0), (2935, 0.0), (2936, 0.05422929450189612), (2937, 0.011347390172360297), (2938, 0.047850003230498685), (2939, 0.0), (2940, 0.040152000809795606), (2941, 0.0), (2942, 0.0), (2943, 0.0), (2944, 0.008179415900320208), (2945, 0.0), (2946, 0.0), (2947, 0.0), (2948, 0.0), (2949, 0.0), (2950, 0.007509600536399934), (2951, 0.0), (2952, 0.04351785678374148), (2953, 0.0), (2954, 0.0), (2955, 0.008069652584767772), (2956, 0.008844932329104303), (2957, 0.0), (2958, 0.0), (2959, 0.0), (2960, 0.00805979624844634), (2961, 0.0), (2962, 0.0), (2963, 0.009683741561737725), (2964, 0.0), (2965, 0.048864285281448996), (2966, 0.0), (2967, 0.0), (2968, 0.0), (2969, 0.0), (2970, 0.0), (2971, 0.0), (2972, 0.02354664699113978), (2973, 0.0), (2974, 0.0), (2975, 0.00796791660244692), (2976, 0.016432521154120083), (2977, 0.0), (2978, 0.0), (2979, 0.048092969830821924), (2980, 0.008995324333078552), (2981, 0.0372531206916564), (2982, 0.010321435538492183), (2983, 0.0), (2984, 0.0), (2985, 0.031437888122034845), (2986, 0.028973113270346094), (2987, 0.03285355411060843), (2988, 0.018708322067184875), (2989, 0.0), (2990, 0.0), (2991, 0.0), (2992, 0.0), (2993, 0.0), (2994, 0.0), (2995, 0.0), (2996, 0.0), (2997, 0.0), (2998, 0.025632880350528575), (2999, 0.02532594382893577), (3000, 0.0), (3001, 0.010050606739876533), (3002, 0.0), (3003, 0.010188841751613316), (3004, 0.0), (3005, 0.0), (3006, 0.0), (3007, 0.0), (3008, 0.0), (3009, 0.0), (3010, 0.0), (3011, 0.008757920324932075), (3012, 0.0), (3013, 0.0), (3014, 0.0), (3015, 0.0), (3016, 0.0), (3017, 0.0), (3018, 0.009471531284180745), (3019, 0.0), (3020, 0.0), (3021, 0.0), (3022, 0.0), (3023, 0.0), (3024, 0.022457530027204804), (3025, 0.0), (3026, 0.0), (3027, 0.008253449378288421), (3028, 0.0), (3029, 0.0), (3030, 0.0), (3031, 0.0), (3032, 0.0), (3033, 0.024966426410658018), (3034, 0.0), (3035, 0.0), (3036, 0.0), (3037, 0.0), (3038, 0.0), (3039, 0.06875558587055071), (3040, 0.0), (3041, 0.0), (3042, 0.0), (3043, 0.0), (3044, 0.0), (3045, 0.0), (3046, 0.0), (3047, 0.038475953119649506), (3048, 0.0), (3049, 0.0), (3050, 0.0), (3051, 0.0), (3052, 0.0), (3053, 0.0), (3054, 0.0), (3055, 0.0), (3056, 0.028123096374303574), (3057, 0.0), (3058, 0.016921272218416272), (3059, 0.0), (3060, 0.0184382047649092), (3061, 0.0), (3062, 0.008760984268684414), (3063, 0.016040984844971407), (3064, 0.0), (3065, 0.006712183165405776), (3066, 0.055765554975873946), (3067, 0.0), (3068, 0.0), (3069, 0.023920050851991503), (3070, 0.01412149311697138), (3071, 0.016989988719581496), (3072, 0.0), (3073, 0.0), (3074, 0.0), (3075, 0.0), (3076, 0.0), (3077, 0.0), (3078, 0.011785939941912993), (3079, 0.0), (3080, 0.0102233213914303), (3081, 0.010794106280967433), (3082, 0.00806645421315841), (3083, 0.0), (3084, 0.0097278412172634), (3085, 0.0), (3086, 0.009797494060178383), (3087, 0.0), (3088, 0.0), (3089, 0.011143823250042177), (3090, 0.017837062470028045), (3091, 0.039120281788751925), (3092, 0.04577379526670601), (3093, 0.0), (3094, 0.02980243509193336), (3095, 0.0), (3096, 0.08122245897245542), (3097, 0.0), (3098, 0.0), (3099, 0.015096013664318484), (3100, 0.007381598855882141), (3101, 0.026838030825405982), (3102, 0.0), (3103, 0.051759346885945384), (3104, 0.0), (3105, 0.00754587837751377), (3106, 0.01802109560974447), (3107, 0.0), (3108, 0.0), (3109, 0.05478467703763172), (3110, 0.0), (3111, 0.030567137784466483), (3112, 0.009862672993456171), (3113, 0.0), (3114, 0.0073053328145193264), (3115, 0.0), (3116, 0.010078845061573851), (3117, 0.010397206594007467), (3118, 0.0), (3119, 0.0), (3120, 0.0), (3121, 0.02441561416258168), (3122, 0.0), (3123, 0.0), (3124, 0.008204352628244153), (3125, 0.0), (3126, 0.07313066705185667), (3127, 0.0), (3128, 0.0), (3129, 0.02037142091088871), (3130, 0.0), (3131, 0.008454429946962886), (3132, 0.008378176777009212), (3133, 0.01595242808770543), (3134, 0.00824774458709942), (3135, 0.007401419416406433), (3136, 0.0073702794026372425), (3137, 0.017025587757683362), (3138, 0.023021182641310645), (3139, 0.03467952022016447), (3140, 0.0), (3141, 0.04502875451582658), (3142, 0.02522050721577327), (3143, 0.0), (3144, 0.013582170308520703), (3145, 0.0), (3146, 0.02739823870707474), (3147, 0.008443230058318773), (3148, 0.0), (3149, 0.00874813888402418), (3150, 0.0), (3151, 0.008736911266149847), (3152, 0.006166572232786428), (3153, 0.009339224108123363), (3154, 0.0), (3155, 0.0), (3156, 0.007611115648610256), (3157, 0.0), (3158, 0.0), (3159, 0.0), (3160, 0.0), (3161, 0.0), (3162, 0.0), (3163, 0.008601150527257784), (3164, 0.0), (3165, 0.0), (3166, 0.0), (3167, 0.0081222222236191), (3168, 0.0), (3169, 0.0), (3170, 0.0), (3171, 0.0), (3172, 0.009201470879175153), (3173, 0.0), (3174, 0.0), (3175, 0.0), (3176, 0.0), (3177, 0.0), (3178, 0.0), (3179, 0.0), (3180, 0.0), (3181, 0.0279430824256995), (3182, 0.0), (3183, 0.0), (3184, 0.0), (3185, 0.0), (3186, 0.03283153173730188), (3187, 0.00965188679907463), (3188, 0.009059172558038628), (3189, 0.019165075948629276), (3190, 0.0), (3191, 0.0), (3192, 0.0), (3193, 0.0074232333520254734), (3194, 0.0), (3195, 0.0), (3196, 0.0), (3197, 0.0), (3198, 0.02530371900474106), (3199, 0.014046726734193484), (3200, 0.0), (3201, 0.0), (3202, 0.008591852526690666), (3203, 0.0), (3204, 0.01227784255216879), (3205, 0.005878052937155396), (3206, 0.009560991365509062), (3207, 0.0), (3208, 1.0), (3209, 0.009275583350259794), (3210, 0.0), (3211, 0.03817610226693981), (3212, 0.0076034867548104915), (3213, 0.030308347244808548), (3214, 0.0), (3215, 0.02177874270958769), (3216, 0.0), (3217, 0.0), (3218, 0.0), (3219, 0.02383879141423896), (3220, 0.0), (3221, 0.010258419295084668), (3222, 0.013180727727479188), (3223, 0.0), (3224, 0.0), (3225, 0.0), (3226, 0.0), (3227, 0.0), (3228, 0.0), (3229, 0.009525713588451246), (3230, 0.04517985199688831), (3231, 0.007076448751938036), (3232, 0.014838793598452018), (3233, 0.0), (3234, 0.010025430859667225), (3235, 0.0), (3236, 0.009755030999608125), (3237, 0.026814139018155103), (3238, 0.045370472933202524), (3239, 0.0), (3240, 0.0), (3241, 0.0), (3242, 0.00952203278625686), (3243, 0.0), (3244, 0.008308178621647056), (3245, 0.0), (3246, 0.008694613897662079), (3247, 0.0082026571281621), (3248, 0.0), (3249, 0.01977208586655535), (3250, 0.0), (3251, 0.0), (3252, 0.0), (3253, 0.0), (3254, 0.007415636367787573), (3255, 0.0), (3256, 0.029891999775500104), (3257, 0.0), (3258, 0.0), (3259, 0.009564870139182675), (3260, 0.0369792451918436), (3261, 0.0), (3262, 0.0), (3263, 0.0), (3264, 0.0), (3265, 0.025242615151107782), (3266, 0.0), (3267, 0.026273414465696136), (3268, 0.0), (3269, 0.009810581154846598), (3270, 0.017960792135296232), (3271, 0.0), (3272, 0.04337226062224114), (3273, 0.027269689760138677), (3274, 0.0), (3275, 0.0), (3276, 0.011928854028300328), (3277, 0.0), (3278, 0.0), (3279, 0.0), (3280, 0.0), (3281, 0.035122816641661246), (3282, 0.0), (3283, 0.11225849886809175), (3284, 0.0), (3285, 0.0), (3286, 0.0773596924283864), (3287, 0.034678660398523506), (3288, 0.0), (3289, 0.009294676364430212), (3290, 0.0), (3291, 0.032916292513182975), (3292, 0.0), (3293, 0.0), (3294, 0.0), (3295, 0.0), (3296, 0.0), (3297, 0.03555805388994618), (3298, 0.017463235957277754), (3299, 0.0), (3300, 0.03154163384775195), (3301, 0.0), (3302, 0.0), (3303, 0.018458951216641283), (3304, 0.0), (3305, 0.0), (3306, 0.01657388904795902), (3307, 0.0), (3308, 0.0), (3309, 0.0), (3310, 0.0), (3311, 0.0), (3312, 0.0), (3313, 0.0), (3314, 0.0), (3315, 0.008663938539933969), (3316, 0.0), (3317, 0.0), (3318, 0.008174046299187207), (3319, 0.04580341016445996), (3320, 0.0), (3321, 0.0319581943552987), (3322, 0.0), (3323, 0.0), (3324, 0.0), (3325, 0.0), (3326, 0.0), (3327, 0.015223133886355066), (3328, 0.03712792098015637), (3329, 0.0), (3330, 0.009038622905662222), (3331, 0.07063936075496471), (3332, 0.0), (3333, 0.0), (3334, 0.0), (3335, 0.009267103092744108), (3336, 0.0), (3337, 0.0), (3338, 0.0), (3339, 0.0), (3340, 0.0), (3341, 0.0), (3342, 0.02309769453358513), (3343, 0.01806005592078382), (3344, 0.0), (3345, 0.0), (3346, 0.007881303553530748), (3347, 0.0), (3348, 0.008777104670341717), (3349, 0.0), (3350, 0.009048535426859837), (3351, 0.059571982094047626), (3352, 0.0), (3353, 0.0297551387617714), (3354, 0.0), (3355, 0.0), (3356, 0.006840516929546622), (3357, 0.0), (3358, 0.019192307091948985), (3359, 0.0), (3360, 0.022185994025321034), (3361, 0.0074804972333477986), (3362, 0.0), (3363, 0.0), (3364, 0.0), (3365, 0.0), (3366, 0.03239740980560758), (3367, 0.00791473980231759), (3368, 0.0), (3369, 0.0), (3370, 0.017706389587704336), (3371, 0.0), (3372, 0.0), (3373, 0.0), (3374, 0.0), (3375, 0.0), (3376, 0.0), (3377, 0.009247058082795486), (3378, 0.0), (3379, 0.008992233980969535), (3380, 0.0), (3381, 0.0), (3382, 0.0), (3383, 0.0), (3384, 0.0), (3385, 0.0), (3386, 0.0), (3387, 0.008726399704517178), (3388, 0.009555727330201996), (3389, 0.008435493177396489), (3390, 0.017380232285174935), (3391, 0.0), (3392, 0.024173001313394102), (3393, 0.0), (3394, 0.006891600188113599), (3395, 0.05331791166302834), (3396, 0.0), (3397, 0.03010486944457312), (3398, 0.0), (3399, 0.03262499620388689), (3400, 0.02395431500379594), (3401, 0.0), (3402, 0.023869325407483787), (3403, 0.0), (3404, 0.008040000111894546), (3405, 0.00671646101562774), (3406, 0.0), (3407, 0.0), (3408, 0.0), (3409, 0.0), (3410, 0.0), (3411, 0.0), (3412, 0.0), (3413, 0.0), (3414, 0.0), (3415, 0.08868726099165665), (3416, 0.0), (3417, 0.0), (3418, 0.0), (3419, 0.00911951684370681), (3420, 0.0), (3421, 0.006274592917261635), (3422, 0.0), (3423, 0.0), (3424, 0.0), (3425, 0.0), (3426, 0.007351048298067431), (3427, 0.03518255412066323), (3428, 0.0), (3429, 0.017317368569436886), (3430, 0.0), (3431, 0.0), (3432, 0.0), (3433, 0.0), (3434, 0.0), (3435, 0.0), (3436, 0.0), (3437, 0.01654958099522391), (3438, 0.00843619774895368), (3439, 0.010249679508853714), (3440, 0.0), (3441, 0.0), (3442, 0.0), (3443, 0.0), (3444, 0.036976927842246175), (3445, 0.0), (3446, 0.0), (3447, 0.0), (3448, 0.009586242227575214), (3449, 0.017082764251934404), (3450, 0.0), (3451, 0.0), (3452, 0.0), (3453, 0.0), (3454, 0.007729987315712324), (3455, 0.0), (3456, 0.006194195629357966), (3457, 0.027337945564326754), (3458, 0.006213565152744972), (3459, 0.008334158631210497), (3460, 0.0), (3461, 0.04553376509442853), (3462, 0.0), (3463, 0.008151715261706539), (3464, 0.009612074284705218), (3465, 0.015015692607746751), (3466, 0.014882393336942659), (3467, 0.008003323450530734), (3468, 0.03120660377744659), (3469, 0.008849598735842417), (3470, 0.08411608787598572), (3471, 0.0), (3472, 0.011619904688693724), (3473, 0.11135729290224927), (3474, 0.0), (3475, 0.0), (3476, 0.025289498849655003), (3477, 0.008993294511801326), (3478, 0.02862082239735924), (3479, 0.0), (3480, 0.0), (3481, 0.021581505590247154), (3482, 0.033750666295941895), (3483, 0.0), (3484, 0.00754245708192824), (3485, 0.02278670659836693), (3486, 0.008068482067301649), (3487, 0.0), (3488, 0.0), (3489, 0.0), (3490, 0.0), (3491, 0.0), (3492, 0.00789258645143656), (3493, 0.02665876983928921), (3494, 0.0), (3495, 0.032151038458842436), (3496, 0.0), (3497, 0.06225108117981032), (3498, 0.0), (3499, 0.04706167098567966), (3500, 0.0), (3501, 0.09391877163877581), (3502, 0.0), (3503, 0.02458909066182776), (3504, 0.0), (3505, 0.028657300597577706), (3506, 0.028693095902291146), (3507, 0.0), (3508, 0.0), (3509, 0.0), (3510, 0.030854916951022625), (3511, 0.0), (3512, 0.025256921052729264), (3513, 0.0), (3514, 0.0), (3515, 0.01790767317055325), (3516, 0.00986372463390427), (3517, 0.017054251681644716), (3518, 0.0), (3519, 0.0), (3520, 0.024003210158248155), (3521, 0.0), (3522, 0.0), (3523, 0.0), (3524, 0.010791278257728805), (3525, 0.00788481309783248), (3526, 0.0), (3527, 0.0), (3528, 0.0), (3529, 0.0), (3530, 0.03964629495931953), (3531, 0.0), (3532, 0.06425437638340968), (3533, 0.008712952666122275), (3534, 0.0), (3535, 0.04135052424595635), (3536, 0.009516718174511399), (3537, 0.022423427428267473), (3538, 0.0), (3539, 0.02731959383317138), (3540, 0.010697605470618531), (3541, 0.0), (3542, 0.0), (3543, 0.0), (3544, 0.0), (3545, 0.009103748386278093), (3546, 0.005895729207480486), (3547, 0.0), (3548, 0.0), (3549, 0.0), (3550, 0.0), (3551, 0.0), (3552, 0.0), (3553, 0.0), (3554, 0.011102835662423307), (3555, 0.007658889286635412), (3556, 0.03122353692694173), (3557, 0.017988471103458935), (3558, 0.0), (3559, 0.07102841231316849), (3560, 0.06387967960250134), (3561, 0.0), (3562, 0.07781664757952245), (3563, 0.024891455361294897), (3564, 0.009104697272843519), (3565, 0.0), (3566, 0.00742290430088555), (3567, 0.007571136555844451), (3568, 0.045109576669815625), (3569, 0.03355255234174042), (3570, 0.0), (3571, 0.0), (3572, 0.0), (3573, 0.0), (3574, 0.03183279809905286), (3575, 0.0), (3576, 0.0), (3577, 0.0), (3578, 0.01994842518925483), (3579, 0.0077415502472447505), (3580, 0.0), (3581, 0.010082609715939507), (3582, 0.00761269027282444), (3583, 0.0), (3584, 0.0), (3585, 0.0), (3586, 0.008504442277937405), (3587, 0.12673441349661754), (3588, 0.0), (3589, 0.03697949877856897), (3590, 0.0), (3591, 0.030220457776276938), (3592, 0.0), (3593, 0.01023863047599683), (3594, 0.009033679348659961), (3595, 0.0), (3596, 0.008975800000761312), (3597, 0.00808747960743161), (3598, 0.006995316189205156), (3599, 0.0), (3600, 0.007125683548810454), (3601, 0.0), (3602, 0.0), (3603, 0.0), (3604, 0.07362172680755374), (3605, 0.0), (3606, 0.009351716768036788), (3607, 0.030811333814728642), (3608, 0.0), (3609, 0.07685729912875511), (3610, 0.07812443892183109), (3611, 0.0), (3612, 0.0), (3613, 0.011312964280453421), (3614, 0.0), (3615, 0.0), (3616, 0.0430790919127455), (3617, 0.0), (3618, 0.0), (3619, 0.0), (3620, 0.011168588568826176), (3621, 0.0), (3622, 0.0), (3623, 0.0), (3624, 0.0), (3625, 0.0), (3626, 0.013916395476576351), (3627, 0.0), (3628, 0.03668291624686665), (3629, 0.07915508093750168), (3630, 0.013640992706983213), (3631, 0.04443201546102413), (3632, 0.009374978756951173), (3633, 0.02296601648729095), (3634, 0.0), (3635, 0.01068398774771433), (3636, 0.0), (3637, 0.0), (3638, 0.009852386628618787), (3639, 0.02803316515289227), (3640, 0.0), (3641, 0.10865573337355598), (3642, 0.009834881094386173), (3643, 0.009317732536533903), (3644, 0.015531986116754113), (3645, 0.0), (3646, 0.017248476186908467), (3647, 0.0), (3648, 0.0), (3649, 0.0), (3650, 0.07704526664496597), (3651, 0.0), (3652, 0.0), (3653, 0.0), (3654, 0.0), (3655, 0.007892949359540541), (3656, 0.0), (3657, 0.006668641020145569), (3658, 0.03800389992029125), (3659, 0.026475699833249294), (3660, 0.0), (3661, 0.0), (3662, 0.0), (3663, 0.0), (3664, 0.024482452143057797), (3665, 0.0), (3666, 0.018770965105619392), (3667, 0.02566102805201982), (3668, 0.0), (3669, 0.02075790272868558), (3670, 0.0), (3671, 0.06240987065314724), (3672, 0.0), (3673, 0.009134781607921886), (3674, 0.0), (3675, 0.03036178246083024), (3676, 0.0), (3677, 0.0), (3678, 0.0), (3679, 0.0), (3680, 0.0), (3681, 0.0), (3682, 0.010183805836793814), (3683, 0.0), (3684, 0.007871055479166689), (3685, 0.04180676291795726), (3686, 0.0), (3687, 0.0), (3688, 0.0), (3689, 0.0), (3690, 0.008075770194026265), (3691, 0.0), (3692, 0.0), (3693, 0.07963516945329834), (3694, 0.0), (3695, 0.051121766384674444), (3696, 0.0), (3697, 0.04138520372838337), (3698, 0.047482272511721414), (3699, 0.01614688939723229), (3700, 0.007506046462717047), (3701, 0.00940293347413364), (3702, 0.0), (3703, 0.0), (3704, 0.009911672544552694), (3705, 0.0), (3706, 0.0), (3707, 0.0), (3708, 0.0), (3709, 0.007702189719597633), (3710, 0.019219361629718545), (3711, 0.0), (3712, 0.0), (3713, 0.0), (3714, 0.0), (3715, 0.0), (3716, 0.00824344795563679), (3717, 0.0), (3718, 0.01573759278227178), (3719, 0.0), (3720, 0.0), (3721, 0.0), (3722, 0.009430256865772242), (3723, 0.0), (3724, 0.0), (3725, 0.0), (3726, 0.015400801851468374), (3727, 0.0), (3728, 0.04023901251892061), (3729, 0.0), (3730, 0.0), (3731, 0.0244078953460083), (3732, 0.008449708401901818), (3733, 0.015056255963719485), (3734, 0.0), (3735, 0.03712032803971051), (3736, 0.0), (3737, 0.0), (3738, 0.0), (3739, 0.03844297279769502), (3740, 0.0), (3741, 0.0), (3742, 0.03336098162010938), (3743, 0.008176541620479365), (3744, 0.009617235426577773), (3745, 0.0), (3746, 0.009028893853719952), (3747, 0.008346306834165668), (3748, 0.0), (3749, 0.0), (3750, 0.006133097690258768), (3751, 0.022447533403056927), (3752, 0.029014230217883), (3753, 0.016898695673410475), (3754, 0.0), (3755, 0.0), (3756, 0.0), (3757, 0.0), (3758, 0.0), (3759, 0.0), (3760, 0.0), (3761, 0.0), (3762, 0.0), (3763, 0.010809378154937746), (3764, 0.0), (3765, 0.0), (3766, 0.0), (3767, 0.0), (3768, 0.0), (3769, 0.0), (3770, 0.029929246502360805), (3771, 0.0), (3772, 0.0), (3773, 0.007728868252468652), (3774, 0.0407177890210813), (3775, 0.0), (3776, 0.0), (3777, 0.0), (3778, 0.0), (3779, 0.0), (3780, 0.009683723822736166), (3781, 0.016938250435941576), (3782, 0.008464548240694718), (3783, 0.007453172432966459), (3784, 0.0), (3785, 0.015090818574673386), (3786, 0.007582201791973071), (3787, 0.008651353773970256), (3788, 0.0), (3789, 0.0), (3790, 0.06691059845781461), (3791, 0.0), (3792, 0.009223245054400841), (3793, 0.0), (3794, 0.03307527477991568), (3795, 0.007068837718651785), (3796, 0.01268546680265797), (3797, 0.0), (3798, 0.008196847435483807), (3799, 0.0), (3800, 0.0), (3801, 0.016196938151239484), (3802, 0.0), (3803, 0.029349687067525825), (3804, 0.0), (3805, 0.033447730032775326), (3806, 0.0), (3807, 0.01814579250631889), (3808, 0.0), (3809, 0.0), (3810, 0.0), (3811, 0.0), (3812, 0.05209579389922808), (3813, 0.019903289755928498), (3814, 0.0), (3815, 0.02952090612639271), (3816, 0.028082024995048277), (3817, 0.04610664821947329), (3818, 0.0), (3819, 0.008563325479191022), (3820, 0.0), (3821, 0.0), (3822, 0.030597258282890186), (3823, 0.0), (3824, 0.0), (3825, 0.0), (3826, 0.016414741831297118), (3827, 0.0), (3828, 0.0), (3829, 0.014695087294625306), (3830, 0.00799034977898682), (3831, 0.0), (3832, 0.0), (3833, 0.0), (3834, 0.008455181191473947), (3835, 0.0), (3836, 0.0), (3837, 0.0), (3838, 0.0), (3839, 0.023493060045176345), (3840, 0.008100900861347774), (3841, 0.008225238439568698), (3842, 0.0), (3843, 0.05684532858028547), (3844, 0.0), (3845, 0.02554889846631376), (3846, 0.09805490087251013), (3847, 0.06661380077642148), (3848, 0.0), (3849, 0.017627685325815205), (3850, 0.0), (3851, 0.0), (3852, 0.0), (3853, 0.0), (3854, 0.0), (3855, 0.0076955922906092695), (3856, 0.0), (3857, 0.0), (3858, 0.06545209101939851), (3859, 0.0), (3860, 0.05480729681081401), (3861, 0.0), (3862, 0.0), (3863, 0.0), (3864, 0.0), (3865, 0.05263075977711125), (3866, 0.0), (3867, 0.0), (3868, 0.04573903494893261), (3869, 0.00866258417810399), (3870, 0.02548091764747608), (3871, 0.03501216854902456), (3872, 0.0), (3873, 0.0), (3874, 0.0), (3875, 0.012849349812065187), (3876, 0.008325215810838843), (3877, 0.008798376498522494), (3878, 0.0), (3879, 0.0), (3880, 0.0), (3881, 0.0), (3882, 0.0), (3883, 0.0), (3884, 0.0), (3885, 0.0), (3886, 0.0), (3887, 0.0), (3888, 0.0), (3889, 0.0), (3890, 0.0), (3891, 0.0), (3892, 0.01192318430137576), (3893, 0.0), (3894, 0.0080439787173916), (3895, 0.0), (3896, 0.0), (3897, 0.0), (3898, 0.0), (3899, 0.0), (3900, 0.0), (3901, 0.0), (3902, 0.01644850653205248), (3903, 0.009051443688437414), (3904, 0.0), (3905, 0.019122936017188397), (3906, 0.017786844494557506), (3907, 0.008198605554247066), (3908, 0.0), (3909, 0.0), (3910, 0.0), (3911, 0.0), (3912, 0.018636281102066957), (3913, 0.0), (3914, 0.0), (3915, 0.0), (3916, 0.0), (3917, 0.007601625456806543), (3918, 0.0), (3919, 0.0), (3920, 0.0), (3921, 0.0), (3922, 0.0), (3923, 0.01568853361053021), (3924, 0.0), (3925, 0.0), (3926, 0.018270748500989566), (3927, 0.0), (3928, 0.0237712702595252), (3929, 0.0), (3930, 0.0), (3931, 0.0), (3932, 0.0), (3933, 0.0), (3934, 0.0), (3935, 0.0), (3936, 0.0), (3937, 0.00779900807061749), (3938, 0.00994467862483534), (3939, 0.0), (3940, 0.0), (3941, 0.0), (3942, 0.09141410841725117), (3943, 0.027563167988213295), (3944, 0.0), (3945, 0.0), (3946, 0.0), (3947, 0.0), (3948, 0.008109428276412948), (3949, 0.0), (3950, 0.0), (3951, 0.0), (3952, 0.0), (3953, 0.05193354053909658), (3954, 0.0), (3955, 0.0), (3956, 0.021651572917091938), (3957, 0.0), (3958, 0.0), (3959, 0.0), (3960, 0.0), (3961, 0.0), (3962, 0.0), (3963, 0.007843157320718282), (3964, 0.0), (3965, 0.007547042394685561), (3966, 0.008458564130132164), (3967, 0.0), (3968, 0.024899554771954442), (3969, 0.0), (3970, 0.0), (3971, 0.0), (3972, 0.009051069155618879), (3973, 0.016831389778279936), (3974, 0.008163090949134744), (3975, 0.0), (3976, 0.0), (3977, 0.00853475459236706), (3978, 0.04237769615551695), (3979, 0.008389913210957133), (3980, 0.1940538170184954), (3981, 0.0), (3982, 0.007900328849811997), (3983, 0.006794569811071988), (3984, 0.019012506369341424), (3985, 0.008670097125287506), (3986, 0.0), (3987, 0.0), (3988, 0.0), (3989, 0.0), (3990, 0.012659900769345686), (3991, 0.03163509026265615), (3992, 0.0), (3993, 0.008379586229278198), (3994, 0.0), (3995, 0.0), (3996, 0.0), (3997, 0.0), (3998, 0.0), (3999, 0.0), (4000, 0.0), (4001, 0.0), (4002, 0.02844632902755046), (4003, 0.06677447752504384), (4004, 0.0), (4005, 0.0), (4006, 0.0), (4007, 0.0), (4008, 0.0), (4009, 0.05362782038234276), (4010, 0.029588399328457353), (4011, 0.036376302629314586), (4012, 0.0), (4013, 0.0), (4014, 0.0), (4015, 0.0), (4016, 0.00788055378782094), (4017, 0.0), (4018, 0.0), (4019, 0.0), (4020, 0.008998077169931817), (4021, 0.012819119683877946), (4022, 0.0), (4023, 0.0), (4024, 0.0), (4025, 0.0), (4026, 0.0), (4027, 0.026895281065640396), (4028, 0.0), (4029, 0.0), (4030, 0.0), (4031, 0.019959499271784392), (4032, 0.0), (4033, 0.0095680635923256), (4034, 0.037215794800228165), (4035, 0.021646781552303186), (4036, 0.007721268382028661), (4037, 0.03989541595467337), (4038, 0.0), (4039, 0.0), (4040, 0.0), (4041, 0.00799275458290152), (4042, 0.0), (4043, 0.0), (4044, 0.0), (4045, 0.019163164629079455), (4046, 0.0), (4047, 0.0), (4048, 0.0), (4049, 0.0), (4050, 0.0), (4051, 0.0), (4052, 0.0), (4053, 0.0), (4054, 0.0), (4055, 0.007127565050513939), (4056, 0.007859609076806337), (4057, 0.01606898852752493), (4058, 0.03689672695810717), (4059, 0.008481502586327003), (4060, 0.015706175909402244), (4061, 0.0), (4062, 0.0), (4063, 0.01668394307774481), (4064, 0.0), (4065, 0.0), (4066, 0.022519437249441807), (4067, 0.0), (4068, 0.0), (4069, 0.0), (4070, 0.03505661244565905), (4071, 0.0), (4072, 0.0), (4073, 0.00883981986620375), (4074, 0.007111524229450491), (4075, 0.0), (4076, 0.008513223371879203), (4077, 0.008707246639706864), (4078, 0.0), (4079, 0.0), (4080, 0.0), (4081, 0.0), (4082, 0.0), (4083, 0.0), (4084, 0.0), (4085, 0.024242052005020717), (4086, 0.04611391699470731), (4087, 0.0), (4088, 0.0), (4089, 0.009443376740082391), (4090, 0.0), (4091, 0.04013079983158359), (4092, 0.0), (4093, 0.0), (4094, 0.0), (4095, 0.0), (4096, 0.030253200696898835), (4097, 0.009932050379910068), (4098, 0.0), (4099, 0.03353642740477279), (4100, 0.0), (4101, 0.0), (4102, 0.0), (4103, 0.05562767816623006), (4104, 0.022576653292495738), (4105, 0.0), (4106, 0.02547801111799658), (4107, 0.0), (4108, 0.0), (4109, 0.008206339470367847), (4110, 0.008049315811637103), (4111, 0.0), (4112, 0.032743342993245154), (4113, 0.018294541515601646), (4114, 0.02216633019603905), (4115, 0.0), (4116, 0.0), (4117, 0.0), (4118, 0.09761408254134021), (4119, 0.0), (4120, 0.0), (4121, 0.0), (4122, 0.0), (4123, 0.0), (4124, 0.0), (4125, 0.02523040395743445), (4126, 0.0), (4127, 0.03474100730912618), (4128, 0.016909843774747867), (4129, 0.0), (4130, 0.00863717511908516), (4131, 0.0), (4132, 0.0), (4133, 0.017237581182735037), (4134, 0.0), (4135, 0.05201339324212506), (4136, 0.11852368558068396), (4137, 0.009152757724228985), (4138, 0.05040279551194442), (4139, 0.0), (4140, 0.020042803212633253), (4141, 0.0), (4142, 0.010103132194489594), (4143, 0.0), (4144, 0.020493549052815238), (4145, 0.0), (4146, 0.026256063449947013), (4147, 0.0), (4148, 0.034783896336257385), (4149, 0.0), (4150, 0.0), (4151, 0.02104240871458522), (4152, 0.016192490817397584), (4153, 0.0072012243934272925), (4154, 0.0), (4155, 0.008664490990094437), (4156, 0.0), (4157, 0.008988015318480418), (4158, 0.0), (4159, 0.008499894742643434), (4160, 0.019143444188276133), (4161, 0.0), (4162, 0.0), (4163, 0.0), (4164, 0.0), (4165, 0.0), (4166, 0.0), (4167, 0.027322766571488084), (4168, 0.017462456706514376), (4169, 0.0193219297128568), (4170, 0.0), (4171, 0.006409783050283789), (4172, 0.0), (4173, 0.11421067013254428), (4174, 0.06189697587537667), (4175, 0.0), (4176, 0.0), (4177, 0.015139150777211443), (4178, 0.0), (4179, 0.0), (4180, 0.0), (4181, 0.00871051201099026), (4182, 0.0), (4183, 0.0), (4184, 0.0), (4185, 0.0), (4186, 0.008302185171519063), (4187, 0.010290832591601939), (4188, 0.007851712347433445), (4189, 0.016170487732983924), (4190, 0.01093882545521243), (4191, 0.02322765988379994), (4192, 0.0), (4193, 0.007186490368803271), (4194, 0.02091274212073463), (4195, 0.033524902987189825), (4196, 0.04513043602231872), (4197, 0.03825714042966316), (4198, 0.0), (4199, 0.05286651676040599), (4200, 0.0), (4201, 0.0), (4202, 0.0), (4203, 0.0), (4204, 0.0), (4205, 0.06563530733335184), (4206, 0.0), (4207, 0.03767226847303846), (4208, 0.0), (4209, 0.0), (4210, 0.03402515680236597), (4211, 0.007757111290180001), (4212, 0.0), (4213, 0.0), (4214, 0.018311807642323347), (4215, 0.03499350433253667), (4216, 0.0), (4217, 0.015268817987596255), (4218, 0.025572796682721454), (4219, 0.0), (4220, 0.0), (4221, 0.0), (4222, 0.0), (4223, 0.0), (4224, 0.007728320704873254), (4225, 0.0), (4226, 0.0), (4227, 0.0), (4228, 0.0), (4229, 0.0), (4230, 0.0), (4231, 0.0), (4232, 0.0), (4233, 0.04487707386541051), (4234, 0.0), (4235, 0.0), (4236, 0.007308218217864123), (4237, 0.0699111505479192), (4238, 0.06512299446380485), (4239, 0.0), (4240, 0.009900796713981752), (4241, 0.0), (4242, 0.011394530830444415), (4243, 0.0), (4244, 0.0), (4245, 0.0), (4246, 0.0), (4247, 0.007971406369564865), (4248, 0.0), (4249, 0.0), (4250, 0.017165023715257827), (4251, 0.0), (4252, 0.00872606909785247), (4253, 0.0), (4254, 0.0), (4255, 0.0), (4256, 0.0), (4257, 0.014892206464547073), (4258, 0.019986919482114864), (4259, 0.03739557221721522), (4260, 0.0), (4261, 0.0), (4262, 0.01883181715092198), (4263, 0.02675565120180572), (4264, 0.0), (4265, 0.0), (4266, 0.0), (4267, 0.0), (4268, 0.0), (4269, 0.008476287856086433), (4270, 0.06634004061269105), (4271, 0.011222421442655364), (4272, 0.007496827537039582), (4273, 0.0), (4274, 0.008316242819674847), (4275, 0.0), (4276, 0.0), (4277, 0.008307265214412923), (4278, 0.0), (4279, 0.0), (4280, 0.0), (4281, 0.0), (4282, 0.0), (4283, 0.09575351545487344), (4284, 0.0), (4285, 0.0), (4286, 0.009588929816226437), (4287, 0.034675748167034025), (4288, 0.008039773833151421), (4289, 0.008410787138695855), (4290, 0.0), (4291, 0.0), (4292, 0.007445393761349362), (4293, 0.0), (4294, 0.008093509149502224), (4295, 0.0), (4296, 0.0), (4297, 0.0), (4298, 0.0), (4299, 0.0), (4300, 0.007964078991024075), (4301, 0.0), (4302, 0.0), (4303, 0.04957239722115914), (4304, 0.02180243454335076), (4305, 0.0), (4306, 0.0), (4307, 0.0), (4308, 0.0), (4309, 0.0), (4310, 0.00907869798463035), (4311, 0.03179433477524185), (4312, 0.0), (4313, 0.0), (4314, 0.008843914206251845), (4315, 0.0), (4316, 0.0), (4317, 0.0), (4318, 0.0), (4319, 0.0), (4320, 0.0), (4321, 0.008634571015560024), (4322, 0.035831504574754605), (4323, 0.025672972836481674), (4324, 0.11023107502834803), (4325, 0.0), (4326, 0.0), (4327, 0.0), (4328, 0.023794145279700692), (4329, 0.03729271389037551), (4330, 0.009177042299685186), (4331, 0.0), (4332, 0.0), (4333, 0.010205457280554817), (4334, 0.0), (4335, 0.018006531906420462), (4336, 0.0), (4337, 0.026972764579479263), (4338, 0.053178760919397265), (4339, 0.0), (4340, 0.009486112550667409), (4341, 0.03979193930291988), (4342, 0.023629828822679486), (4343, 0.0), (4344, 0.0), (4345, 0.0), (4346, 0.029750097776782194), (4347, 0.03589672164445659), (4348, 0.008434713221844605), (4349, 0.0), (4350, 0.032687705184995794), (4351, 0.03597386104836072), (4352, 0.0), (4353, 0.007876215925408662), (4354, 0.008266659213565604), (4355, 0.0), (4356, 0.016964697604677434), (4357, 0.0), (4358, 0.016184431599995677), (4359, 0.0), (4360, 0.0), (4361, 0.0), (4362, 0.0), (4363, 0.0), (4364, 0.017090453823704096), (4365, 0.0), (4366, 0.008154830449676742), (4367, 0.0), (4368, 0.0), (4369, 0.0), (4370, 0.0), (4371, 0.009835546705622302), (4372, 0.02044959310539663), (4373, 0.0), (4374, 0.008609128163727182), (4375, 0.0), (4376, 0.0), (4377, 0.0), (4378, 0.0), (4379, 0.0), (4380, 0.03880135520541071), (4381, 0.0), (4382, 0.0), (4383, 0.0), (4384, 0.0), (4385, 0.0), (4386, 0.0), (4387, 0.0), (4388, 0.009326734310576425), (4389, 0.0), (4390, 0.0), (4391, 0.0), (4392, 0.0), (4393, 0.0), (4394, 0.0), (4395, 0.06546718844008134), (4396, 0.027948473294356756), (4397, 0.010207684293418146), (4398, 0.0), (4399, 0.03208300171413747), (4400, 0.0), (4401, 0.008829004278439589), (4402, 0.02510277219650498), (4403, 0.0), (4404, 0.0), (4405, 0.015517600823523877), (4406, 0.0), (4407, 0.03551008573621559), (4408, 0.0), (4409, 0.0), (4410, 0.0), (4411, 0.0), (4412, 0.0), (4413, 0.0), (4414, 0.0), (4415, 0.0), (4416, 0.05269169955330645), (4417, 0.0), (4418, 0.010378558000044032), (4419, 0.008238167676670124), (4420, 0.0), (4421, 0.0), (4422, 0.0), (4423, 0.0), (4424, 0.0), (4425, 0.0), (4426, 0.0), (4427, 0.018220963639500643), (4428, 0.007503651992134782), (4429, 0.0), (4430, 0.0), (4431, 0.0), (4432, 0.0), (4433, 0.025344294682752417), (4434, 0.0), (4435, 0.0), (4436, 0.0), (4437, 0.008158146531259593), (4438, 0.017488437330584194), (4439, 0.007262920033622551), (4440, 0.0), (4441, 0.0), (4442, 0.0), (4443, 0.0), (4444, 0.0), (4445, 0.02042570358275946), (4446, 0.0), (4447, 0.022663636312832004), (4448, 0.0), (4449, 0.0), (4450, 0.0), (4451, 0.0), (4452, 0.0), (4453, 0.0), (4454, 0.05392066031096118), (4455, 0.04036843310954065), (4456, 0.008138140546548935), (4457, 0.033421642113929464), (4458, 0.0), (4459, 0.0), (4460, 0.028200124006151055), (4461, 0.0), (4462, 0.0), (4463, 0.0), (4464, 0.03681676513593395), (4465, 0.0), (4466, 0.008228599848223639), (4467, 0.008162699036983523), (4468, 0.0079187540585897), (4469, 0.0), (4470, 0.0), (4471, 0.0), (4472, 0.008767062587175694), (4473, 0.007898950701566087), (4474, 0.0), (4475, 0.0), (4476, 0.0), (4477, 0.0), (4478, 0.1979141279601574), (4479, 0.0), (4480, 0.0), (4481, 0.0), (4482, 0.01693458153237285), (4483, 0.010941218074676747), (4484, 0.0), (4485, 0.0), (4486, 0.0), (4487, 0.024132207359315084), (4488, 0.0), (4489, 0.0), (4490, 0.010755746911380981), (4491, 0.008598367897771126), (4492, 0.03603538286736081), (4493, 0.008558112799119758), (4494, 0.0), (4495, 0.0), (4496, 0.0), (4497, 0.018990690149085776), (4498, 0.0), (4499, 0.0), (4500, 0.012121290095463342), (4501, 0.017250287538921313), (4502, 0.0), (4503, 0.00914686322878109), (4504, 0.0), (4505, 0.0808303542838523), (4506, 0.0), (4507, 0.0), (4508, 0.0), (4509, 0.023470561679466068), (4510, 0.0), (4511, 0.0), (4512, 0.0), (4513, 0.0), (4514, 0.0), (4515, 0.020298468247867907), (4516, 0.01957902933895092), (4517, 0.0), (4518, 0.0219460507264771), (4519, 0.03276792114762858), (4520, 0.0), (4521, 0.0), (4522, 0.0), (4523, 0.007559409378920063), (4524, 0.0), (4525, 0.0), (4526, 0.0382611571485306), (4527, 0.0), (4528, 0.08042338222596035), (4529, 0.03415056707843324), (4530, 0.0), (4531, 0.0), (4532, 0.02144139466273141), (4533, 0.00808758164620785), (4534, 0.0), (4535, 0.008844816798711519), (4536, 0.0), (4537, 0.0), (4538, 0.0), (4539, 0.0), (4540, 0.0), (4541, 0.0), (4542, 0.008966826457586344), (4543, 0.0), (4544, 0.0), (4545, 0.0), (4546, 0.0), (4547, 0.0), (4548, 0.0), (4549, 0.0), (4550, 0.1090675804397457), (4551, 0.0), (4552, 0.0), (4553, 0.0), (4554, 0.04310880979523312), (4555, 0.02482426134449791), (4556, 0.0), (4557, 0.039848317821767607), (4558, 0.0), (4559, 0.04302748245921044), (4560, 0.0), (4561, 0.0), (4562, 0.020461832156448104), (4563, 0.0), (4564, 0.007608826230509877), (4565, 0.0), (4566, 0.0), (4567, 0.0), (4568, 0.0), (4569, 0.051408532064631744), (4570, 0.04009975791476742), (4571, 0.0), (4572, 0.0), (4573, 0.0), (4574, 0.009710917892581224), (4575, 0.0), (4576, 0.0), (4577, 0.0), (4578, 0.0), (4579, 0.0), (4580, 0.0), (4581, 0.007975914941601612), (4582, 0.0), (4583, 0.0), (4584, 0.0), (4585, 0.0), (4586, 0.0), (4587, 0.01728787942191), (4588, 0.007653125975254795), (4589, 0.009249326434864273), (4590, 0.008121222454690474), (4591, 0.0), (4592, 0.0), (4593, 0.0), (4594, 0.0), (4595, 0.0), (4596, 0.0), (4597, 0.0), (4598, 0.09477254263823295), (4599, 0.010520854566568287), (4600, 0.008299879805695165), (4601, 0.03822208565650369), (4602, 0.0), (4603, 0.0), (4604, 0.06674293239753037), (4605, 0.045852017949569786), (4606, 0.0), (4607, 0.0), (4608, 0.0), (4609, 0.007956631920249984), (4610, 0.021376454506913962), (4611, 0.0), (4612, 0.0), (4613, 0.0341673864346254), (4614, 0.0), (4615, 0.015399594154158557), (4616, 0.0), (4617, 0.0), (4618, 0.0), (4619, 0.0), (4620, 0.0), (4621, 0.0), (4622, 0.0), (4623, 0.0), (4624, 0.0), (4625, 0.0), (4626, 0.006388952816218735), (4627, 0.0), (4628, 0.0), (4629, 0.0), (4630, 0.0), (4631, 0.0), (4632, 0.0), (4633, 0.0), (4634, 0.0), (4635, 0.0), (4636, 0.0), (4637, 0.0), (4638, 0.0), (4639, 0.009490221002560749), (4640, 0.0), (4641, 0.0), (4642, 0.0), (4643, 0.008128566552386994), (4644, 0.0), (4645, 0.0), (4646, 0.0), (4647, 0.0), (4648, 0.0), (4649, 0.0), (4650, 0.0), (4651, 0.0), (4652, 0.0), (4653, 0.0), (4654, 0.0), (4655, 0.016733133583973825), (4656, 0.0), (4657, 0.0), (4658, 0.0), (4659, 0.009787069604465081), (4660, 0.0), (4661, 0.06768958002918327), (4662, 0.046260401165541976), (4663, 0.008086099002152437), (4664, 0.0), (4665, 0.0), (4666, 0.0), (4667, 0.0), (4668, 0.0), (4669, 0.03803314410729808), (4670, 0.0), (4671, 0.0), (4672, 0.0), (4673, 0.0), (4674, 0.0), (4675, 0.03654977324064447), (4676, 0.02645582654282644), (4677, 0.0), (4678, 0.01615744727883329), (4679, 0.007973536434646909), (4680, 0.0), (4681, 0.0), (4682, 0.0), (4683, 0.0), (4684, 0.009255313422498825), (4685, 0.0), (4686, 0.0), (4687, 0.0), (4688, 0.017950634334475527), (4689, 0.0), (4690, 0.0), (4691, 0.0), (4692, 0.0), (4693, 0.0), (4694, 0.0), (4695, 0.0), (4696, 0.0), (4697, 0.0), (4698, 0.0), (4699, 0.010232964512397559), (4700, 0.0), (4701, 0.0), (4702, 0.0), (4703, 0.008469608401434797), (4704, 0.03479565120839704), (4705, 0.0), (4706, 0.0), (4707, 0.0), (4708, 0.03724078665552781), (4709, 0.0), (4710, 0.0), (4711, 0.010825199137147083), (4712, 0.0), (4713, 0.0), (4714, 0.0), (4715, 0.0), (4716, 0.0), (4717, 0.0), (4718, 0.010286611231663514), (4719, 0.0), (4720, 0.0), (4721, 0.0), (4722, 0.01713825659369748), (4723, 0.0), (4724, 0.0), (4725, 0.011071449349432605), (4726, 0.01987863999151802), (4727, 0.0), (4728, 0.0), (4729, 0.0), (4730, 0.010925960028370051), (4731, 0.0), (4732, 0.03158187399008664), (4733, 0.0), (4734, 0.0), (4735, 0.0), (4736, 0.0), (4737, 0.010399651012021602), (4738, 0.0), (4739, 0.018494627905083362), (4740, 0.011907338984074489), (4741, 0.0), (4742, 0.008772972354579757), (4743, 0.015424823676867492), (4744, 0.0), (4745, 0.020326898077501182), (4746, 0.0), (4747, 0.0), (4748, 0.0), (4749, 0.03885920663231283), (4750, 0.0), (4751, 0.0), (4752, 0.019446187835722793), (4753, 0.0), (4754, 0.11460320755202641), (4755, 0.0), (4756, 0.02834773843872844), (4757, 0.009524310863620327), (4758, 0.09819171639848895), (4759, 0.0)]\n"
          ]
        }
      ]
    },
    {
      "cell_type": "code",
      "source": [
        "len(Recommendation_Score)"
      ],
      "metadata": {
        "colab": {
          "base_uri": "https://localhost:8080/"
        },
        "id": "gM4VxFfGcVGR",
        "outputId": "12536d68-b222-4c63-8123-7acea1897887"
      },
      "execution_count": 33,
      "outputs": [
        {
          "output_type": "execute_result",
          "data": {
            "text/plain": [
              "4760"
            ]
          },
          "metadata": {},
          "execution_count": 33
        }
      ]
    },
    {
      "cell_type": "markdown",
      "source": [
        "#Get All Movies Sort Based On Recommendation Score Wrt Favourite Movie"
      ],
      "metadata": {
        "id": "S46CAiEacbzV"
      }
    },
    {
      "cell_type": "code",
      "source": [
        "#sorting the movies based on their similarity scores\n",
        "\n",
        "Sorted_Similar_Score=sorted(Recommendation_Score,key=lambda x:x[1],reverse=True)\n",
        "print(Sorted_Similar_Score)"
      ],
      "metadata": {
        "colab": {
          "base_uri": "https://localhost:8080/"
        },
        "id": "P0P53-mDcryi",
        "outputId": "b0aa24b2-3672-403b-a880-7fcda3fca391"
      },
      "execution_count": 34,
      "outputs": [
        {
          "output_type": "stream",
          "name": "stdout",
          "text": [
            "[(3208, 1.0), (4478, 0.1979141279601574), (3980, 0.1940538170184954), (361, 0.1773838470515703), (958, 0.1591132572414367), (2813, 0.15539697694437174), (1218, 0.14298219544172142), (2013, 0.13599192276436245), (365, 0.12899589587278817), (3587, 0.12673441349661754), (2637, 0.12344309341077975), (709, 0.12162866781079573), (4136, 0.11852368558068396), (1387, 0.11672552598436237), (4754, 0.11460320755202641), (4173, 0.11421067013254428), (912, 0.1123180183626538), (3283, 0.11225849886809175), (3473, 0.11135729290224927), (1700, 0.11125534553475297), (859, 0.11123426693930952), (4324, 0.11023107502834803), (1986, 0.11011728644304747), (1804, 0.1099808373124734), (2308, 0.10928994085712519), (2322, 0.10924971503414993), (1251, 0.10907696746841643), (4550, 0.1090675804397457), (3641, 0.10865573337355598), (492, 0.10745860331600357), (713, 0.10376057924728163), (362, 0.10175731453821768), (1783, 0.10114388903850272), (4758, 0.09819171639848895), (3846, 0.09805490087251013), (4118, 0.09761408254134021), (2176, 0.09652679130396956), (4283, 0.09575351545487344), (4598, 0.09477254263823295), (3501, 0.09391877163877581), (3942, 0.09141410841725117), (1800, 0.09000286752840383), (3415, 0.08868726099165665), (1902, 0.08830253587439793), (1820, 0.08739799648100993), (410, 0.08713947073078245), (1314, 0.08633446041516037), (2835, 0.08582279115090977), (1155, 0.08510847676327038), (872, 0.08502688831919214), (1908, 0.08471345648299353), (688, 0.08437093653965752), (2570, 0.08417762651353025), (3470, 0.08411608787598572), (2371, 0.08396395995368187), (772, 0.08377854382644678), (185, 0.08298750162129359), (1755, 0.08278340522237529), (1057, 0.08193832280218369), (1544, 0.08134663672042618), (3096, 0.08122245897245542), (454, 0.08104961011770867), (1468, 0.08102225986102907), (4505, 0.0808303542838523), (297, 0.08082902656264135), (650, 0.0806798906186487), (1911, 0.08063412416789922), (4528, 0.08042338222596035), (1602, 0.07992597595990489), (2593, 0.0799161457538961), (3693, 0.07963516945329834), (2209, 0.07962351399784745), (2590, 0.07951030607571821), (3629, 0.07915508093750168), (1581, 0.07835088126818773), (3610, 0.07812443892183109), (3562, 0.07781664757952245), (3286, 0.0773596924283864), (3650, 0.07704526664496597), (567, 0.07693390169309888), (3609, 0.07685729912875511), (2075, 0.07682486308975932), (118, 0.07659748625044027), (1099, 0.07611186747317228), (3604, 0.07362172680755374), (2747, 0.07342734119029745), (3126, 0.07313066705185667), (2410, 0.0729336738878107), (1529, 0.07219802128818642), (2101, 0.07137221963217577), (1962, 0.07115911750227871), (3559, 0.07102841231316849), (2654, 0.07082791842851768), (3331, 0.07063936075496471), (522, 0.07048397392378246), (2284, 0.07021790584568255), (193, 0.06993785922909941), (4237, 0.0699111505479192), (1784, 0.06988594595158508), (2848, 0.06967175984505135), (3039, 0.06875558587055071), (1223, 0.0686613487080381), (27, 0.06864374715532395), (363, 0.06829604538296041), (946, 0.06818040923384978), (2589, 0.068131740176938), (2409, 0.06811789098683556), (2833, 0.06806724339160654), (726, 0.06794893463224898), (809, 0.06790983249615792), (285, 0.06787129257094032), (1706, 0.06772045715420982), (4661, 0.06768958002918327), (3790, 0.06691059845781461), (2710, 0.06683811206110638), (4003, 0.06677447752504384), (4604, 0.06674293239753037), (3847, 0.06661380077642148), (1025, 0.06647283318583266), (1577, 0.0663876779196803), (4270, 0.06634004061269105), (1606, 0.06565059827418689), (4205, 0.06563530733335184), (4395, 0.06546718844008134), (3858, 0.06545209101939851), (4238, 0.06512299446380485), (2048, 0.06468359420816477), (235, 0.06442505457240323), (1195, 0.06427088573204037), (3532, 0.06425437638340968), (1526, 0.06411488185440248), (1711, 0.06409729763090073), (2445, 0.0639843761027735), (2413, 0.06388193349487044), (3560, 0.06387967960250134), (250, 0.06387056216445673), (2450, 0.0636468172669791), (786, 0.06359922338887501), (2231, 0.06307567522143556), (1210, 0.06284799840089719), (2573, 0.06259575871009643), (3671, 0.06240987065314724), (1450, 0.06231674251313227), (3497, 0.06225108117981032), (2021, 0.06214620234540734), (4174, 0.06189697587537667), (2795, 0.0618184299368842), (2485, 0.0618018608770428), (2282, 0.06154915769565175), (1374, 0.06132121537648483), (2233, 0.06124363061844862), (58, 0.06060457945241703), (2720, 0.06028893016762147), (2247, 0.060077442946493115), (3351, 0.059571982094047626), (781, 0.05925587886628408), (574, 0.05923320386667933), (1950, 0.05922660956094859), (217, 0.05891862669120671), (377, 0.058810554848630306), (2414, 0.05850487837290658), (461, 0.05844570987917337), (2, 0.05835877952922548), (1624, 0.05819978931171062), (658, 0.05815834139308297), (1855, 0.05811960248861283), (2621, 0.057888946533683566), (486, 0.05762913457119358), (2806, 0.05758305386283049), (736, 0.05746139061563053), (2880, 0.05724660975079715), (3843, 0.05684532858028547), (2532, 0.05646520754986411), (2218, 0.05588982066429345), (3066, 0.055765554975873946), (4103, 0.05562767816623006), (1601, 0.05547739072807274), (2095, 0.0552965219800747), (1969, 0.055083832511068645), (2076, 0.055007305259388836), (381, 0.05491010499572982), (3860, 0.05480729681081401), (3109, 0.05478467703763172), (1307, 0.05461892783072572), (2936, 0.05422929450189612), (853, 0.05420307849049416), (1615, 0.05411271257035405), (4454, 0.05392066031096118), (270, 0.05379798957758906), (1076, 0.053757693843025325), (4009, 0.05362782038234276), (2360, 0.053423213406055894), (3395, 0.05331791166302834), (797, 0.05323716748624951), (4338, 0.053178760919397265), (1466, 0.05307982596178142), (419, 0.052975365595029605), (4199, 0.05286651676040599), (4416, 0.05269169955330645), (3865, 0.05263075977711125), (2310, 0.052323300701761985), (3812, 0.05209579389922808), (4135, 0.05201339324212506), (3953, 0.05193354053909658), (3103, 0.051759346885945384), (911, 0.05172847975979346), (2332, 0.05154235949514513), (2856, 0.051497502826500514), (4569, 0.051408532064631744), (546, 0.05135943793946002), (1010, 0.051127083553646493), (3695, 0.051121766384674444), (1497, 0.051087865565578386), (1492, 0.050912712193447056), (678, 0.0509098439769041), (219, 0.050889385598367566), (1676, 0.050627478967344486), (4138, 0.05040279551194442), (1132, 0.050368274347066935), (1923, 0.050348858570946536), (718, 0.05032539487249517), (340, 0.05021688733840383), (1944, 0.0502058083171145), (2831, 0.050195024390091984), (1505, 0.05007971003413886), (990, 0.04994773658277313), (4303, 0.04957239722115914), (301, 0.049439837509429777), (805, 0.049239450334975815), (2329, 0.04905880536134998), (2965, 0.048864285281448996), (298, 0.04882283535358875), (106, 0.048730875509124874), (2100, 0.048498377964396475), (855, 0.04837940586260893), (1824, 0.04835279440245174), (1939, 0.04825417878031507), (1226, 0.04809522753878867), (2979, 0.048092969830821924), (2938, 0.047850003230498685), (1810, 0.0478182906943964), (1938, 0.047589344855289775), (3698, 0.047482272511721414), (2597, 0.047261661332251105), (573, 0.04723523802367343), (345, 0.0471913634575019), (2615, 0.047134534684814766), (91, 0.04712515751681077), (3499, 0.04706167098567966), (2239, 0.04702021967954023), (1844, 0.04689873587494529), (1553, 0.04687732008040685), (1011, 0.046808691071409794), (299, 0.046730340975352926), (2719, 0.04668010616422763), (2812, 0.04662630891594938), (2584, 0.046579795137950325), (1454, 0.04653850068024457), (335, 0.046351181519041856), (4662, 0.046260401165541976), (249, 0.046199130357026635), (2055, 0.04618383521216646), (4086, 0.04611391699470731), (3817, 0.04610664821947329), (1473, 0.04601174912422207), (1229, 0.04592538563093453), (1550, 0.04588783872936447), (4605, 0.045852017949569786), (3319, 0.04580341016445996), (3092, 0.04577379526670601), (3868, 0.04573903494893261), (2264, 0.045699869816021775), (501, 0.04566991083414451), (2216, 0.045667497198416215), (1137, 0.045654100662675424), (2365, 0.045605008254753096), (3461, 0.04553376509442853), (409, 0.045438310101040894), (3238, 0.045370472933202524), (1282, 0.04529745427531706), (3230, 0.04517985199688831), (4196, 0.04513043602231872), (740, 0.04511316794732856), (3568, 0.045109576669815625), (1368, 0.045094557819046505), (3141, 0.04502875451582658), (716, 0.044905619384259986), (4233, 0.04487707386541051), (1600, 0.04472421407811453), (300, 0.044527299357639175), (2263, 0.0444885592457523), (3631, 0.04443201546102413), (277, 0.04433408407509456), (1178, 0.04414435827199446), (665, 0.04380938333951607), (1080, 0.043737240463833274), (2952, 0.04351785678374148), (2079, 0.04340774296420979), (3272, 0.04337226062224114), (527, 0.043232340963299525), (2762, 0.04310891063792677), (4554, 0.04310880979523312), (3616, 0.0430790919127455), (4559, 0.04302748245921044), (881, 0.0427828049638818), (624, 0.042714441359856484), (315, 0.042572726891834986), (1972, 0.04247897609150309), (265, 0.04247024984289033), (1849, 0.04238945247249558), (3978, 0.04237769615551695), (2562, 0.04232075841447322), (1889, 0.04220245643308981), (1481, 0.042149186247848844), (1628, 0.04213581701376341), (690, 0.04207873933757011), (1766, 0.04207374628990654), (1274, 0.04203925151142047), (1720, 0.04194575297439016), (2781, 0.041833126857962054), (3685, 0.04180676291795726), (2301, 0.0415637463990603), (512, 0.041505001358339996), (1234, 0.04144034661081714), (3697, 0.04138520372838337), (3535, 0.04135052424595635), (1822, 0.04131077616065059), (1933, 0.041301084301463745), (2824, 0.04127932515310043), (2490, 0.041251498769241446), (1463, 0.041204162252010304), (440, 0.04109865670999332), (2198, 0.04086290942029386), (1971, 0.0408572807981174), (3774, 0.0407177890210813), (1354, 0.040699977527326674), (2927, 0.04065073979606351), (2086, 0.04060775044762932), (1161, 0.04055700466127789), (1412, 0.04039718274586966), (2580, 0.04038854341334176), (4455, 0.04036843310954065), (1682, 0.040311052250890524), (3728, 0.04023901251892061), (1705, 0.040226931677830854), (2940, 0.040152000809795606), (4091, 0.04013079983158359), (4570, 0.04009975791476742), (1524, 0.04009791879610578), (2722, 0.039950040752353366), (1926, 0.03991740033895723), (2844, 0.039896416716498975), (4037, 0.03989541595467337), (2675, 0.03986126685621013), (2507, 0.039853817439656464), (4557, 0.039848317821767607), (850, 0.039839909587929566), (674, 0.03983150718404538), (4341, 0.03979193930291988), (2056, 0.03977804513192382), (3530, 0.03964629495931953), (2181, 0.03963738946632624), (1306, 0.0396249979345933), (2183, 0.03961238899584063), (920, 0.03912107750349248), (3091, 0.039120281788751925), (306, 0.039104394281470466), (1182, 0.03890023011627623), (4749, 0.03885920663231283), (2377, 0.03885799414086791), (4380, 0.03880135520541071), (1758, 0.038790289919665356), (1568, 0.03866560715705086), (1196, 0.03858207349959627), (3047, 0.038475953119649506), (3739, 0.03844297279769502), (4526, 0.0382611571485306), (4197, 0.03825714042966316), (4601, 0.03822208565650369), (893, 0.03820658795070267), (3211, 0.03817610226693981), (2397, 0.03816655023235757), (807, 0.03803528867206647), (4669, 0.03803314410729808), (3658, 0.03800389992029125), (1999, 0.03789277253319934), (1231, 0.03786976013755582), (1515, 0.03781073093259542), (2599, 0.03774257464384416), (4207, 0.03767226847303846), (1694, 0.03761922249480906), (1867, 0.03755312161327296), (535, 0.037519380194189725), (542, 0.03751591516160514), (1474, 0.037410097570644), (4259, 0.03739557221721522), (708, 0.03730401023916047), (4329, 0.03729271389037551), (2440, 0.03725879953655512), (2981, 0.0372531206916564), (4708, 0.03724078665552781), (4034, 0.037215794800228165), (1460, 0.037136413195560936), (3328, 0.03712792098015637), (3735, 0.03712032803971051), (2049, 0.03711532688670333), (2539, 0.03699366762585629), (3589, 0.03697949877856897), (3260, 0.0369792451918436), (3444, 0.036976927842246175), (4058, 0.03689672695810717), (4464, 0.03681676513593395), (1690, 0.036749688449471046), (2279, 0.036723376231644164), (3628, 0.03668291624686665), (1578, 0.03666790956834938), (1974, 0.03664730166236207), (502, 0.03655791906721552), (4675, 0.03654977324064447), (2352, 0.0364197621054386), (4011, 0.036376302629314586), (256, 0.036296712897038674), (715, 0.03628600618116834), (2429, 0.03627625660504072), (560, 0.036266030112039195), (1458, 0.03624412849492683), (2098, 0.03624319066662724), (2171, 0.03623940734860927), (1640, 0.036231108291804856), (1949, 0.03620283966791278), (700, 0.03607720253081915), (4492, 0.03603538286736081), (1443, 0.03602839044949835), (2451, 0.03602816901147736), (1683, 0.036026075401872346), (2260, 0.03601436477662776), (4351, 0.03597386104836072), (1202, 0.03593964127961722), (228, 0.035918232966232935), (1256, 0.0359025254300158), (4347, 0.03589672164445659), (2603, 0.0358929435372251), (977, 0.03586368511722581), (2197, 0.035836236051350466), (4322, 0.035831504574754605), (73, 0.035813124979825355), (415, 0.03579255132038704), (2729, 0.03578812002855835), (1333, 0.03577239831540702), (652, 0.03571835227960827), (314, 0.03557812668044201), (3297, 0.03555805388994618), (1942, 0.03552797073285186), (1768, 0.03551185277876705), (1082, 0.0355103598872636), (4407, 0.03551008573621559), (2331, 0.03546307031705908), (957, 0.03546148540996473), (3427, 0.03518255412066323), (3281, 0.035122816641661246), (4070, 0.03505661244565905), (3871, 0.03501216854902456), (4215, 0.03499350433253667), (320, 0.03498640115125519), (2405, 0.03490859541500832), (417, 0.03489390458401799), (1841, 0.0348896541720701), (4704, 0.03479565120839704), (4148, 0.034783896336257385), (1165, 0.0347479318692881), (4127, 0.03474100730912618), (115, 0.03471223206138556), (3139, 0.03467952022016447), (3287, 0.034678660398523506), (4287, 0.034675748167034025), (517, 0.03466961686958967), (1442, 0.03457181015961669), (151, 0.03447394372135627), (949, 0.03444133351484415), (443, 0.034310008393422825), (2484, 0.03428641318587073), (1085, 0.03419791174107877), (1143, 0.03417295703882032), (4613, 0.0341673864346254), (2430, 0.034157138019112056), (4529, 0.03415056707843324), (1495, 0.03412832191978714), (1790, 0.03411859585292772), (4210, 0.03402515680236597), (1472, 0.03395417395089692), (480, 0.03393660981878832), (2694, 0.033927947188708694), (2045, 0.03391595586023641), (909, 0.0339044357337148), (479, 0.033846983501970046), (1903, 0.033822756720307275), (3482, 0.033750666295941895), (2153, 0.03372863990954503), (662, 0.03365605990758475), (2893, 0.03363919661639788), (1610, 0.03362692239315015), (3569, 0.03355255234174042), (2060, 0.03354290196988305), (4099, 0.03353642740477279), (4195, 0.033524902987189825), (1152, 0.03352087792557468), (2857, 0.03351095607932522), (1044, 0.03345951725700888), (3805, 0.033447730032775326), (4457, 0.033421642113929464), (1954, 0.03338705181942633), (2521, 0.03338481095555613), (3742, 0.03336098162010938), (2019, 0.03331520264025496), (2250, 0.033289684862842145), (871, 0.03328706213097914), (1007, 0.033280916266261645), (1198, 0.033205359975925386), (2563, 0.033165280366992345), (2353, 0.033146942728493556), (38, 0.03309047142279048), (3794, 0.03307527477991568), (1538, 0.032917874677390144), (3291, 0.032916292513182975), (1344, 0.03290021829878892), (2987, 0.03285355411060843), (968, 0.03285120352624181), (391, 0.03284196082788203), (3186, 0.03283153173730188), (1366, 0.032798518878455876), (2646, 0.032771004308228824), (4519, 0.03276792114762858), (2504, 0.0327520745659971), (4112, 0.032743342993245154), (1928, 0.03273520623488349), (1496, 0.032715331936389244), (4350, 0.032687705184995794), (1607, 0.03266751433920326), (724, 0.032656143457839015), (824, 0.032633298174061194), (3399, 0.03262499620388689), (2525, 0.03262070516357751), (939, 0.03257847409028264), (2838, 0.03255055529228057), (813, 0.03252105662536975), (139, 0.03248732422113195), (2150, 0.03248466984617392), (40, 0.03248081888074335), (2867, 0.03241777660058165), (3366, 0.03239740980560758), (570, 0.032385829952486005), (1079, 0.03238188416098608), (815, 0.0323021785847924), (1459, 0.03226655462664994), (444, 0.03226265062714774), (478, 0.032207086866170596), (895, 0.032179392236355873), (3495, 0.032151038458842436), (562, 0.03214440137943622), (915, 0.032113047763356245), (2715, 0.032086736297212065), (4399, 0.03208300171413747), (310, 0.03206386093642059), (3321, 0.0319581943552987), (1979, 0.03193980264324288), (1510, 0.03191882769027781), (2706, 0.03190914121680562), (1327, 0.031899086713518154), (2384, 0.03187599774362419), (14, 0.03185761864211252), (2753, 0.031852685371705235), (3574, 0.03183279809905286), (4311, 0.03179433477524185), (1371, 0.03179272553542349), (1664, 0.03177051482663388), (1391, 0.03174884548898029), (1714, 0.031736817337657014), (2135, 0.03165504466603576), (3991, 0.03163509026265615), (4732, 0.03158187399008664), (3300, 0.03154163384775195), (493, 0.03149510548016142), (1786, 0.03147800915401178), (2574, 0.03146203595122459), (2985, 0.031437888122034845), (2884, 0.031339010653987205), (364, 0.03128089095939025), (2084, 0.031249068109008696), (3556, 0.03122353692694173), (3468, 0.03120660377744659), (810, 0.03116950315637276), (2254, 0.03107193792229893), (402, 0.031049923160989704), (2258, 0.031035327954367014), (1353, 0.031019683756109112), (1480, 0.031009021478314032), (316, 0.030929646183998932), (1875, 0.030915787188026914), (1114, 0.03089732130852823), (2845, 0.03089265334329591), (3510, 0.030854916951022625), (3607, 0.030811333814728642), (712, 0.030668252876721293), (3822, 0.030597258282890186), (3111, 0.030567137784466483), (1850, 0.03046077270587634), (2564, 0.03043027840314016), (930, 0.030378418718813326), (3675, 0.03036178246083024), (2438, 0.030339984731821566), (3213, 0.030308347244808548), (2323, 0.030288906128777375), (20, 0.030286359697542918), (220, 0.030258527373270526), (4096, 0.030253200696898835), (3591, 0.030220457776276938), (2545, 0.03016706033056504), (1964, 0.03015754044929514), (2854, 0.030150301112211102), (1016, 0.030131773130005896), (3397, 0.03010486944457312), (3770, 0.029929246502360805), (657, 0.029896430538558123), (3256, 0.029891999775500104), (1830, 0.02983055035802832), (3094, 0.02980243509193336), (3353, 0.0297551387617714), (4346, 0.029750097776782194), (1973, 0.02974287064178213), (703, 0.02972539218518624), (2320, 0.029609886444524308), (4010, 0.029588399328457353), (980, 0.02958029250833128), (1112, 0.029545036961786664), (3815, 0.02952090612639271), (2235, 0.02940966071985682), (2433, 0.029375898654353465), (3803, 0.029349687067525825), (1537, 0.029349595202433), (2494, 0.029269178863708133), (497, 0.02926213688042658), (2267, 0.02923842287549394), (2321, 0.029237814559987692), (1883, 0.029200247518781898), (2702, 0.029110828580107037), (1184, 0.02905735772711591), (3752, 0.029014230217883), (2986, 0.028973113270346094), (1521, 0.028971916499961052), (344, 0.028939598376467684), (955, 0.028880737641830436), (2822, 0.028862067184591153), (1021, 0.028842011887629745), (753, 0.028838834348400025), (343, 0.02883780012656814), (460, 0.028820831280317843), (1792, 0.028785232894016313), (1872, 0.028782915738419092), (1046, 0.028782343464840224), (2688, 0.028779534668029523), (1148, 0.028757735807890792), (1383, 0.028751682720564473), (2577, 0.028695843376978822), (3506, 0.028693095902291146), (3505, 0.028657300597577706), (3478, 0.02862082239735924), (2182, 0.028613410627547214), (891, 0.028596716378365757), (2372, 0.028514139084397858), (4002, 0.02844632902755046), (370, 0.02841181798307546), (4756, 0.02834773843872844), (348, 0.028332127106447166), (2287, 0.028318829955261707), (2157, 0.028222652528165346), (4460, 0.028200124006151055), (1422, 0.02819256468691856), (2463, 0.028132988625632994), (3056, 0.028123096374303574), (3816, 0.028082024995048277), (2717, 0.02805377604611009), (3639, 0.02803316515289227), (870, 0.027985904469101795), (1110, 0.027972305369392735), (4396, 0.027948473294356756), (802, 0.027946130982873033), (3181, 0.0279430824256995), (1958, 0.027876862253778018), (1805, 0.02775043975375738), (794, 0.02771232282352705), (1246, 0.02770215353497519), (503, 0.0276828771514133), (1389, 0.02763801173273154), (3943, 0.027563167988213295), (1668, 0.027556753220929004), (1618, 0.02755543706240407), (82, 0.027520228601113805), (2462, 0.027475306695497775), (2755, 0.027472268838851864), (3146, 0.02739823870707474), (2491, 0.027349417779337967), (1125, 0.027346586058754438), (3457, 0.027337945564326754), (2704, 0.02733323009960059), (696, 0.02732582802061595), (4167, 0.027322766571488084), (3539, 0.02731959383317138), (3273, 0.027269689760138677), (392, 0.027238958695424514), (2479, 0.027217046280967154), (2516, 0.027170340411683053), (1372, 0.02716194591380021), (2620, 0.027155380448188514), (1932, 0.02714712471237598), (2852, 0.027127862923474147), (2585, 0.027042465845869054), (2165, 0.027018103107925268), (4337, 0.026972764579479263), (587, 0.026938545288360764), (1336, 0.026925104301139063), (4027, 0.026895281065640396), (878, 0.02687886724038125), (3101, 0.026838030825405982), (1793, 0.026825243745279236), (3237, 0.026814139018155103), (59, 0.026767665555309114), (4263, 0.02675565120180572), (2316, 0.026752891017478728), (1693, 0.02671955885683699), (3493, 0.02665876983928921), (1330, 0.026649715459107378), (1881, 0.026640445289533864), (528, 0.026620162866059234), (1430, 0.02661273556908833), (1130, 0.026601985213860056), (227, 0.026587660520964708), (961, 0.026531160881548145), (1083, 0.02650086295203757), (3659, 0.026475699833249294), (4676, 0.02645582654282644), (899, 0.02638303871997781), (2647, 0.02631394081509191), (245, 0.02630301718118401), (1918, 0.02627829518780024), (3267, 0.026273414465696136), (4146, 0.026256063449947013), (2030, 0.026169169830074425), (1704, 0.026139491646137818), (1166, 0.026139107330524332), (2708, 0.026137876987706164), (1561, 0.026094211038516293), (1730, 0.026093203649217075), (1596, 0.026019029532829623), (2041, 0.02600605553642673), (2565, 0.02598387858460646), (2259, 0.025964942774813128), (421, 0.025943524181588278), (2104, 0.025943294400843846), (2652, 0.025924144672819862), (1769, 0.025913196993531906), (803, 0.025879544203950437), (2512, 0.025854465536112918), (1413, 0.02584935676574425), (447, 0.025832759680232867), (637, 0.025762431644157202), (2860, 0.02572545119620259), (2583, 0.025713190831876544), (1697, 0.025709182666708727), (2668, 0.025703169355940764), (848, 0.02568692711130683), (1382, 0.025678854493255462), (4323, 0.025672972836481674), (1734, 0.02566560179086094), (3667, 0.02566102805201982), (2998, 0.025632880350528575), (2492, 0.02562978371394669), (971, 0.02560730161841435), (2334, 0.025606410751707703), (2441, 0.02560291430278816), (1150, 0.025574361141289637), (4218, 0.025572796682721454), (814, 0.025555872560825733), (3845, 0.02554889846631376), (2601, 0.02554519782750788), (2582, 0.025484661784458008), (3870, 0.02548091764747608), (4106, 0.02547801111799658), (1431, 0.02547484586243975), (2099, 0.02547024834991271), (423, 0.02545125716069867), (2421, 0.025448135066833848), (784, 0.025397545381985905), (2408, 0.02539221972197691), (1837, 0.025391294263578418), (2671, 0.025368955583126802), (4433, 0.025344294682752417), (2841, 0.025329180416339993), (2999, 0.02532594382893577), (3198, 0.02530371900474106), (2549, 0.025296850999741192), (3476, 0.025289498849655003), (2299, 0.025279748061378657), (2145, 0.025274108946584904), (3512, 0.025256921052729264), (1592, 0.025256220734001758), (3265, 0.025242615151107782), (4125, 0.02523040395743445), (3142, 0.02522050721577327), (208, 0.025173054727894426), (50, 0.025153338083657443), (4402, 0.02510277219650498), (1401, 0.02503761424663821), (1067, 0.02503260803503521), (390, 0.025005673910614687), (3033, 0.024966426410658018), (3968, 0.024899554771954442), (3563, 0.024891455361294897), (1603, 0.02488283941375298), (4555, 0.02482426134449791), (45, 0.02481232640085035), (55, 0.024775440845238854), (1001, 0.024761557606764167), (959, 0.024739473526689124), (2931, 0.024704979625499737), (2746, 0.02469951228061601), (398, 0.024664772497568457), (714, 0.02466166869493256), (3503, 0.02458909066182776), (2771, 0.024569525429086102), (1763, 0.024509266546969263), (272, 0.024487121365355576), (3664, 0.024482452143057797), (1691, 0.02442090054582363), (3121, 0.02441561416258168), (3731, 0.0244078953460083), (1541, 0.02437514961671056), (1045, 0.024313274481749594), (572, 0.02430732824275572), (1901, 0.02430045093545706), (4085, 0.024242052005020717), (2281, 0.024200702672369276), (1108, 0.024193204353155272), (3392, 0.024173001313394102), (4487, 0.024132207359315084), (818, 0.024062026402952397), (1295, 0.02405406296610112), (116, 0.024039038057795274), (836, 0.02402319063808709), (3520, 0.024003210158248155), (1308, 0.023985857904537243), (1611, 0.023962143832141493), (2311, 0.02395955126122488), (3400, 0.02395431500379594), (441, 0.023927739129771537), (3069, 0.023920050851991503), (154, 0.023908000734488122), (2131, 0.023898955804205917), (3402, 0.023869325407483787), (2885, 0.023850487089510958), (3219, 0.02383879141423896), (2297, 0.0238110086055369), (4328, 0.023794145279700692), (3928, 0.0237712702595252), (1291, 0.023753058100030637), (264, 0.02374360060396181), (2759, 0.023670681502551884), (984, 0.02366425687733064), (2003, 0.023663981969708568), (2653, 0.023636808626750466), (4342, 0.023629828822679486), (923, 0.023588695204214905), (2666, 0.02357283529363991), (2850, 0.023565977402022934), (2972, 0.02354664699113978), (3839, 0.023493060045176345), (1012, 0.023488890135568395), (2207, 0.023476387718646526), (4509, 0.023470561679466068), (1451, 0.023464595763055332), (936, 0.02337658055378494), (1206, 0.023348428749679902), (2447, 0.023336048902436873), (1582, 0.023321512766465137), (553, 0.02331192906273894), (1320, 0.023286010675887255), (1086, 0.023236492323657643), (4191, 0.02322765988379994), (962, 0.023226026952026226), (2070, 0.023220808478281053), (373, 0.02321391332641004), (659, 0.023173801954986296), (1180, 0.023172838762925637), (1457, 0.023168425806953972), (3342, 0.02309769453358513), (789, 0.023097248192172466), (1871, 0.02304607488380107), (3138, 0.023021182641310645), (3633, 0.02296601648729095), (1647, 0.022962908554029913), (1157, 0.02282651622629879), (3485, 0.02278670659836693), (1797, 0.022777115953213765), (0, 0.022721584417971258), (1301, 0.022697974151433556), (4447, 0.022663636312832004), (242, 0.022635356837069385), (4104, 0.022576653292495738), (1379, 0.02257144308351715), (4066, 0.022519437249441807), (1562, 0.022500730163412714), (3024, 0.022457530027204804), (3751, 0.022447533403056927), (2548, 0.02244611466860227), (2851, 0.022443201860150988), (3537, 0.022423427428267473), (1061, 0.022397011446226307), (776, 0.022356297707556445), (2767, 0.022329130014144632), (821, 0.022322024952890155), (3360, 0.022185994025321034), (4114, 0.02216633019603905), (565, 0.022146207626741667), (1695, 0.022105475170813082), (515, 0.02207898219031112), (129, 0.022078358859576187), (1316, 0.022040657861572936), (1008, 0.021973149500058492), (2756, 0.021959550835452153), (4518, 0.0219460507264771), (917, 0.021924794202332707), (35, 0.021878739597670525), (177, 0.02186017974221666), (953, 0.02185824928103624), (77, 0.021822876125842113), (4304, 0.02180243454335076), (3215, 0.02177874270958769), (1707, 0.021761463671667754), (2530, 0.021701216388977845), (510, 0.02170032383199238), (2920, 0.021694643768468806), (3956, 0.021651572917091938), (1221, 0.021650140939393298), (4035, 0.021646781552303186), (882, 0.021605396510057585), (3481, 0.021581505590247154), (1288, 0.02157371650733332), (4532, 0.02144139466273141), (64, 0.02139124161243229), (4610, 0.021376454506913962), (1014, 0.0212525414314302), (2269, 0.02117126957760366), (1397, 0.021077223528716334), (4151, 0.02104240871458522), (4194, 0.02091274212073463), (1115, 0.020875970540908596), (3669, 0.02075790272868558), (1194, 0.020716319220821254), (4144, 0.020493549052815238), (692, 0.020493267008462344), (4562, 0.020461832156448104), (1367, 0.020455097689480704), (4372, 0.02044959310539663), (4445, 0.02042570358275946), (2481, 0.02039813703209714), (3129, 0.02037142091088871), (889, 0.020345221795512153), (4745, 0.020326898077501182), (2592, 0.020307828186968815), (155, 0.02030340367076628), (4515, 0.020298468247867907), (2508, 0.02027487422720174), (44, 0.02022150241048923), (2227, 0.020185557887208206), (57, 0.020101420528803888), (153, 0.020067635536887167), (4140, 0.020042803212633253), (2526, 0.02004115750806874), (4258, 0.019986919482114864), (719, 0.019986587489531873), (4031, 0.019959499271784392), (3578, 0.01994842518925483), (3813, 0.019903289755928498), (4726, 0.01987863999151802), (2626, 0.019841041478682767), (1121, 0.019805764475981064), (3249, 0.01977208586655535), (4516, 0.01957902933895092), (1586, 0.01956900203610992), (405, 0.019555685366988457), (728, 0.01949867741296638), (2393, 0.01946683836574644), (1390, 0.019449830298982177), (4752, 0.019446187835722793), (2555, 0.01941619468535439), (991, 0.019405771717462713), (1713, 0.01938827427202408), (2588, 0.019364096867062325), (1116, 0.01932486771669211), (4169, 0.0193219297128568), (2196, 0.019290255715192446), (622, 0.019274250151222874), (3710, 0.019219361629718545), (3358, 0.019192307091948985), (3189, 0.019165075948629276), (4045, 0.019163164629079455), (4160, 0.019143444188276133), (2672, 0.019137497569566838), (3905, 0.019122936017188397), (2381, 0.019036626640505074), (475, 0.019023639550394506), (3984, 0.019012506369341424), (2531, 0.019010857164042917), (4497, 0.018990690149085776), (2650, 0.018952353867065168), (686, 0.018870613769569312), (4262, 0.01883181715092198), (3666, 0.018770965105619392), (1557, 0.018744174072410247), (1542, 0.01871740765129031), (2988, 0.018708322067184875), (1554, 0.0186860171123788), (2210, 0.01865072660347897), (3912, 0.018636281102066957), (1777, 0.01863521419574582), (956, 0.018594704838977086), (2092, 0.018571318341683147), (1425, 0.018556848777536238), (2635, 0.018523388468395595), (4739, 0.018494627905083362), (3303, 0.018458951216641283), (3060, 0.0184382047649092), (750, 0.0184177691525147), (2155, 0.018394365626480863), (2449, 0.01835957355067753), (4214, 0.018311807642323347), (1731, 0.018305560067632468), (4113, 0.018294541515601646), (3926, 0.018270748500989566), (1298, 0.018242228006340833), (346, 0.01822764742494977), (4427, 0.018220963639500643), (2283, 0.01819558892896247), (3807, 0.01814579250631889), (2337, 0.018076947246168228), (2026, 0.018063970198886305), (3343, 0.01806005592078382), (1013, 0.018041227931824985), (1678, 0.018035385391315696), (3106, 0.01802109560974447), (4335, 0.018006531906420462), (1328, 0.01800542669070796), (1913, 0.018001440999897134), (3557, 0.017988471103458935), (2208, 0.017988064988230138), (684, 0.017973683208903097), (2051, 0.01796117616592161), (3270, 0.017960792135296232), (4688, 0.017950634334475527), (2330, 0.017944265730582633), (1955, 0.017934781245310356), (3515, 0.01790767317055325), (1225, 0.017904298724342377), (681, 0.01789321357193139), (1084, 0.017874230154518), (2595, 0.01786498929746188), (683, 0.017846811365103944), (3090, 0.017837062470028045), (404, 0.01780180576951478), (2740, 0.01779498266607631), (1127, 0.017793540728090695), (3906, 0.017786844494557506), (1023, 0.0177700149983781), (1780, 0.017749129990757066), (922, 0.01773629290122818), (1716, 0.017729280857568874), (2401, 0.017728239531921236), (596, 0.01771282841769052), (995, 0.01771020524996148), (3370, 0.017706389587704336), (2461, 0.017686623926181023), (3849, 0.017627685325815205), (2612, 0.01761736863321621), (557, 0.017616892374538458), (1961, 0.017589594301378672), (358, 0.017582461789078185), (918, 0.01756366432537344), (2843, 0.017550479990841517), (101, 0.01752375982697968), (4438, 0.017488437330584194), (472, 0.017472539273783314), (3298, 0.017463235957277754), (4168, 0.017462456706514376), (1936, 0.017450603757298004), (2159, 0.017432176368651436), (1767, 0.01742478163037616), (2662, 0.01742353611423889), (1744, 0.01740196923202928), (371, 0.017395683475501997), (1919, 0.017388332987418775), (3390, 0.017380232285174935), (1878, 0.01732008598687531), (3429, 0.017317368569436886), (401, 0.017304987409017314), (2887, 0.017300661466908708), (4587, 0.01728787942191), (253, 0.017283945819232052), (1587, 0.01727586223483904), (2711, 0.01725960864435196), (798, 0.017252170819446314), (673, 0.017251380130978038), (1915, 0.01725038037750738), (4501, 0.017250287538921313), (3646, 0.017248476186908467), (1522, 0.017241731574470603), (4133, 0.017237581182735037), (54, 0.017235670923177557), (2554, 0.017224624544084355), (2618, 0.01721776739337584), (2097, 0.01720296373303443), (1428, 0.017194669257988175), (1511, 0.01716635395898352), (4250, 0.017165023715257827), (2130, 0.0171559021330287), (4722, 0.01713825659369748), (4364, 0.017090453823704096), (3449, 0.017082764251934404), (3517, 0.017054251681644716), (3137, 0.017025587757683362), (2327, 0.01700730082890266), (1914, 0.01699044652844682), (3071, 0.016989988719581496), (1798, 0.016966830231421884), (4356, 0.016964697604677434), (3781, 0.016938250435941576), (4482, 0.01693458153237285), (2594, 0.016933111686597852), (1604, 0.016928677414833372), (3058, 0.016921272218416272), (1721, 0.01691676102470042), (4128, 0.016909843774747867), (2496, 0.01690641147694431), (2170, 0.016906288173653007), (3753, 0.016898695673410475), (1598, 0.016854743788567522), (2200, 0.016831737224370598), (3973, 0.016831389778279936), (1358, 0.016827637534769742), (1205, 0.01682068082985805), (1558, 0.016805243585925337), (4655, 0.016733133583973825), (322, 0.016712368724268203), (1452, 0.016709556159919734), (2616, 0.016694381363097113), (4063, 0.01668394307774481), (2763, 0.016674681441417892), (1400, 0.016664074411043263), (2809, 0.016639943943340344), (599, 0.01662711197311809), (511, 0.016613169204513077), (3306, 0.01657388904795902), (3437, 0.01654958099522391), (1373, 0.016541495077482225), (1846, 0.016533162042932134), (1445, 0.016517405754411938), (1840, 0.01650386119930036), (302, 0.01648632956556666), (321, 0.016472976954104462), (3902, 0.01644850653205248), (2904, 0.016442726588857908), (2976, 0.016432521154120083), (1048, 0.016427792136051382), (588, 0.016427197384032442), (720, 0.016421519405221206), (3826, 0.016414741831297118), (179, 0.016411785300397073), (1237, 0.016410770481172732), (1124, 0.01638958076280906), (774, 0.016380084262326036), (2117, 0.01637783647365347), (2123, 0.016362972459515245), (563, 0.01635633504959881), (1093, 0.016339673350006443), (1552, 0.016324680469905036), (1118, 0.016307003368101133), (1816, 0.016296366413197882), (1717, 0.016281172287145707), (2050, 0.016280732924777483), (498, 0.016277661416182424), (2473, 0.0162609695387223), (1946, 0.016244817758221487), (1207, 0.016213946136013936), (3801, 0.016196938151239484), (4152, 0.016192490817397584), (4358, 0.016184431599995677), (1009, 0.01618245776841979), (53, 0.016179380444905092), (1585, 0.016177061396940164), (4189, 0.016170487732983924), (4678, 0.01615744727883329), (3699, 0.01614688939723229), (1266, 0.016124157026803785), (238, 0.016123712623461753), (2617, 0.016082686119097005), (4057, 0.01606898852752493), (3063, 0.016040984844971407), (1652, 0.016035548085376376), (2366, 0.016032473508705264), (132, 0.016027724719004925), (83, 0.01601976069739805), (1751, 0.015994448245741196), (1138, 0.015991560045625196), (1895, 0.015987776276881537), (1410, 0.015977602506717675), (1898, 0.015965391024424975), (1722, 0.01596394983092121), (2443, 0.01595374124013593), (3133, 0.01595242808770543), (1482, 0.015944545514976538), (1217, 0.015925451384219688), (2192, 0.015920170230314303), (2606, 0.0159178362107979), (697, 0.015874741053346714), (2472, 0.01585477135609379), (646, 0.015839426637662107), (1925, 0.01583466905431777), (1649, 0.015817102374121646), (226, 0.01580648872784398), (1501, 0.015788643859510797), (745, 0.015786477927615165), (2212, 0.01577438519310796), (1285, 0.015769201484967212), (1018, 0.01576479564038112), (1638, 0.015747341966842243), (3718, 0.01573759278227178), (1249, 0.015725848306404153), (4060, 0.015706175909402244), (9, 0.015705797273654034), (2093, 0.01569645126071321), (3923, 0.01568853361053021), (65, 0.015672790152196213), (457, 0.015670907778782783), (1438, 0.01565595583335701), (357, 0.01565284124238156), (1699, 0.015641261618133194), (1831, 0.015630810284155545), (247, 0.015626818753667143), (2825, 0.015617058553542352), (2125, 0.015615872654803478), (174, 0.015614994521142168), (819, 0.015611591411082672), (1546, 0.015604592679782205), (374, 0.01559723500334553), (1523, 0.015584148715548104), (867, 0.015580144807200286), (1987, 0.015578971537722537), (861, 0.015567715120130216), (569, 0.015550738698161093), (3644, 0.015531986116754113), (4405, 0.015517600823523877), (1807, 0.015506358139596806), (150, 0.015471112385802163), (1627, 0.015453508624054774), (2749, 0.015446034075296164), (4743, 0.015424823676867492), (1300, 0.015424477577108874), (1310, 0.015410365642518173), (3726, 0.015400801851468374), (4615, 0.015399594154158557), (1408, 0.01539258486165151), (2622, 0.015389380471918816), (432, 0.015379558116929265), (2741, 0.015373449966806894), (2035, 0.015366544182767394), (273, 0.01534086148509999), (2038, 0.015332958799361704), (72, 0.015331720443437691), (643, 0.015319011223112517), (1671, 0.015305465479026625), (4217, 0.015268817987596255), (19, 0.015248691005814705), (195, 0.015246431632116938), (196, 0.015235699961050493), (2389, 0.015230187056702026), (2877, 0.015228497388769373), (1219, 0.015225492422282251), (3327, 0.015223133886355066), (112, 0.015219534726640997), (1230, 0.01517372178822347), (1062, 0.015166805477757742), (1632, 0.015157133301919184), (1981, 0.01514808749963628), (4177, 0.015139150777211443), (2876, 0.015098744449291926), (3099, 0.015096013664318484), (3785, 0.015090818574673386), (519, 0.015075647822914758), (3733, 0.015056255963719485), (2068, 0.015021921887097984), (3465, 0.015015692607746751), (741, 0.015010892416426584), (2751, 0.014991296769546955), (649, 0.014982352053430523), (698, 0.014956966149389123), (738, 0.014942902514991818), (1171, 0.014920059756561176), (545, 0.014909134335242208), (257, 0.014907359502617238), (4257, 0.014892206464547073), (1090, 0.014889507595500088), (2665, 0.014886045889134395), (3466, 0.014882393336942659), (1788, 0.014861775347431248), (236, 0.014849318952734022), (3232, 0.014838793598452018), (307, 0.014828437846440333), (661, 0.01482616097131559), (2697, 0.0148000078101947), (279, 0.014799411550403443), (975, 0.014799325492214771), (212, 0.014794472820590487), (471, 0.014763002442913828), (2018, 0.01474574941743243), (944, 0.014728608952328285), (1764, 0.014711373858120732), (3829, 0.014695087294625306), (2446, 0.014683009525427016), (1650, 0.014655330937621296), (1149, 0.01457361022884342), (2006, 0.014561239449717368), (1745, 0.01452655646830477), (1309, 0.014525370214325473), (725, 0.01452469945987174), (36, 0.014442860173421813), (1038, 0.01443800820865424), (288, 0.014413133907118469), (2036, 0.01439073666835362), (1236, 0.01437686008407062), (1039, 0.014371927718154123), (1200, 0.014369079044118084), (130, 0.01434803921428586), (2296, 0.014342918754437245), (1865, 0.01434149874131375), (1216, 0.01433527412686134), (1677, 0.014270668178060405), (75, 0.014254852103526634), (2285, 0.014221332181328475), (640, 0.01420803453549584), (1569, 0.014194079828126403), (1323, 0.014151775111453763), (3070, 0.01412149311697138), (1934, 0.01411194575241582), (2724, 0.01404753409279718), (3199, 0.014046726734193484), (469, 0.014025741541380296), (2034, 0.013982625554770485), (1199, 0.013945525362238382), (2760, 0.0139224228777003), (3626, 0.013916395476576351), (756, 0.013878261744444306), (851, 0.013848955761001366), (237, 0.013768872499032987), (2364, 0.013728022746231515), (2398, 0.013649105841151433), (3630, 0.013640992706983213), (3144, 0.013582170308520703), (2291, 0.01354383966483341), (294, 0.013513336693816113), (190, 0.013490497976194397), (1743, 0.01345616535135314), (2064, 0.013315796566087897), (78, 0.013285128530858266), (926, 0.013237236866667714), (2379, 0.013236816296373048), (2358, 0.013216479423981383), (3222, 0.013180727727479188), (555, 0.013002793827449526), (843, 0.013000550749142943), (816, 0.012866832155198479), (1037, 0.01285976522618265), (3875, 0.012849349812065187), (4021, 0.012819119683877946), (3796, 0.01268546680265797), (1153, 0.012675432316744626), (1576, 0.01266232051143639), (3990, 0.012659900769345686), (477, 0.012606937936379278), (1701, 0.012483235872720301), (1040, 0.012347239012430773), (2275, 0.012282060089810339), (3204, 0.01227784255216879), (641, 0.012226829724528706), (4500, 0.012121290095463342), (1774, 0.012070583354074746), (1861, 0.011982819652649851), (2448, 0.011978276348820155), (2199, 0.011939274953241817), (3276, 0.011928854028300328), (3892, 0.01192318430137576), (4740, 0.011907338984074489), (2643, 0.01186208862891984), (2257, 0.011808695747840934), (3078, 0.011785939941912993), (2901, 0.011775925706836936), (2154, 0.011748281705803772), (1362, 0.01174777465446437), (3472, 0.011619904688693724), (2656, 0.011580420279109088), (2423, 0.011558898642081667), (4242, 0.011394530830444415), (2937, 0.011347390172360297), (3613, 0.011312964280453421), (4271, 0.011222421442655364), (2568, 0.011217574204228116), (3620, 0.011168588568826176), (3089, 0.011143823250042177), (3554, 0.011102835662423307), (2488, 0.011083938245123473), (4725, 0.011071449349432605), (2188, 0.01106860453187054), (1168, 0.011013916882497345), (2351, 0.010947786509219853), (4483, 0.010941218074676747), (4190, 0.01093882545521243), (4730, 0.010925960028370051), (2772, 0.010864841961782353), (4711, 0.010825199137147083), (3763, 0.010809378154937746), (3081, 0.010794106280967433), (3524, 0.010791278257728805), (4490, 0.010755746911380981), (2273, 0.010704708023628887), (627, 0.010700383894286401), (3540, 0.010697605470618531), (3635, 0.01068398774771433), (2406, 0.010653241871163678), (1968, 0.010650939637495338), (2261, 0.010631450477217391), (1940, 0.0106000689708338), (2468, 0.010596880232337456), (508, 0.010546150273910834), (4599, 0.010520854566568287), (679, 0.01045240121836345), (2223, 0.010428552417461321), (2873, 0.010417270377777564), (2187, 0.010408990400680534), (1843, 0.010402898527601474), (4737, 0.010399651012021602), (3117, 0.010397206594007467), (2559, 0.010388120574096115), (4418, 0.010378558000044032), (576, 0.010339376188232715), (2982, 0.010321435538492183), (4187, 0.010290832591601939), (4718, 0.010286611231663514), (2579, 0.01028080812748042), (2810, 0.010279376161208154), (2916, 0.01027357779142144), (2799, 0.010265614068714495), (3221, 0.010258419295084668), (2400, 0.010258096329221115), (308, 0.01025634402967489), (3439, 0.010249679508853714), (3593, 0.01023863047599683), (4699, 0.010232964512397559), (3080, 0.0102233213914303), (2782, 0.010209863156617243), (4397, 0.010207684293418146), (4333, 0.010205457280554817), (2324, 0.010195808998470508), (1489, 0.010191085646654547), (3003, 0.010188841751613316), (3682, 0.010183805836793814), (2921, 0.010148331458789057), (4142, 0.010103132194489594), (3581, 0.010082609715939507), (3116, 0.010078845061573851), (2390, 0.010054741154188357), (3001, 0.010050606739876533), (385, 0.010040006609123525), (3234, 0.010025430859667225), (2112, 0.010010207499819231), (2493, 0.010009646354556053), (2604, 0.009981530946427543), (2375, 0.00996374140772684), (2614, 0.009959037681062924), (2082, 0.009950216917464819), (3938, 0.00994467862483534), (4097, 0.009932050379910068), (3704, 0.009911672544552694), (896, 0.009907776865546903), (4240, 0.009900796713981752), (146, 0.009893477712202), (341, 0.009875727592760928), (3516, 0.00986372463390427), (3112, 0.009862672993456171), (3638, 0.009852386628618787), (1520, 0.009845888902224821), (4371, 0.009835546705622302), (3642, 0.009834881094386173), (3269, 0.009810581154846598), (1141, 0.009801783129124624), (3086, 0.009797494060178383), (413, 0.009794019447908899), (4659, 0.009787069604465081), (914, 0.009784341721046991), (1518, 0.009767874498211678), (3236, 0.009755030999608125), (2661, 0.009736140728203224), (3084, 0.0097278412172634), (485, 0.009719346357647528), (1140, 0.009710945930765538), (4574, 0.009710917892581224), (1531, 0.009691006936169299), (2391, 0.009686722352646795), (2963, 0.009683741561737725), (3780, 0.009683723822736166), (1119, 0.009683211318889896), (1737, 0.009674490447628128), (470, 0.009673485392246916), (2817, 0.009670880574955578), (1051, 0.009664464435336221), (842, 0.009662549472927528), (1670, 0.009653545252301037), (3187, 0.00965188679907463), (2419, 0.009636047435201515), (612, 0.009629337500653031), (2147, 0.009626685108888517), (384, 0.009624232723384722), (3744, 0.009617235426577773), (3464, 0.009612074284705218), (456, 0.00960902016253882), (1142, 0.009608705767907745), (205, 0.009603640084115062), (752, 0.009598037690174739), (4286, 0.009588929816226437), (3448, 0.009586242227575214), (4033, 0.0095680635923256), (3259, 0.009564870139182675), (717, 0.009564788862416363), (3206, 0.009560991365509062), (1258, 0.00955969302658655), (3388, 0.009555727330201996), (1513, 0.009554422060816508), (1613, 0.009540236103823487), (2790, 0.00953584949494128), (751, 0.009535812104225596), (656, 0.009528298055254885), (2319, 0.009528199349411843), (3229, 0.009525713588451246), (4757, 0.009524310863620327), (2054, 0.009523252032798992), (3242, 0.00952203278625686), (3536, 0.009516718174511399), (1402, 0.009510384570700069), (1233, 0.009502750296255871), (845, 0.009494938029276504), (4639, 0.009490221002560749), (4340, 0.009486112550667409), (368, 0.009485454215932661), (204, 0.009475157225446436), (3018, 0.009471531284180745), (2456, 0.00946648327537277), (120, 0.009459258237638723), (2895, 0.009458832805710417), (730, 0.009444083059398537), (4089, 0.009443376740082391), (1534, 0.009438859990223992), (3722, 0.009430256865772242), (2466, 0.009419434976021657), (1726, 0.009411909338102374), (987, 0.009407024106779559), (1525, 0.009403985179603952), (3701, 0.00940293347413364), (2511, 0.009400798805083054), (11, 0.009391839510572673), (2567, 0.009377424914071947), (3632, 0.009374978756951173), (2290, 0.009359593694974848), (806, 0.009359517474718387), (3606, 0.009351716768036788), (3153, 0.009339224108123363), (137, 0.009337551940840828), (4388, 0.009326734310576425), (743, 0.009319750555977085), (3643, 0.009317732536533903), (1361, 0.009316799629398747), (2896, 0.009314045430259838), (865, 0.009312559536898331), (1204, 0.009305826893417697), (3289, 0.009294676364430212), (846, 0.009286781486682391), (42, 0.009276879958357676), (3209, 0.009275583350259794), (2707, 0.009274609609563477), (1435, 0.00927235083924764), (3335, 0.009267103092744108), (908, 0.009265320561381366), (4684, 0.009255313422498825), (2335, 0.00925296759938191), (4589, 0.009249326434864273), (3377, 0.009247058082795486), (491, 0.009238304015800593), (312, 0.0092353910924345), (1122, 0.009233576901525181), (3792, 0.009223245054400841), (2798, 0.009209806183882624), (1547, 0.0092037521583647), (3172, 0.009201470879175153), (2487, 0.009191529277450868), (131, 0.009188681993399513), (1476, 0.009188632714487308), (2427, 0.00917908537547245), (4330, 0.009177042299685186), (1461, 0.009170989940042583), (1930, 0.009168361608672479), (931, 0.009165595230785487), (2046, 0.009160493712343204), (1335, 0.009159816119285812), (4137, 0.009152757724228985), (2396, 0.009151939236177601), (1398, 0.00914784891644012), (4503, 0.00914686322878109), (3673, 0.009134781607921886), (3419, 0.00911951684370681), (188, 0.009112054293067018), (451, 0.009108685639317068), (822, 0.009107884049361387), (1191, 0.009105278530603177), (3564, 0.009104697272843519), (3545, 0.009103748386278093), (2839, 0.009099113634955018), (5, 0.009096494957801845), (1321, 0.009094728398108664), (938, 0.009091010100182208), (490, 0.009082324222349416), (4310, 0.00907869798463035), (785, 0.00907488391885895), (1304, 0.00907252327981488), (1381, 0.009068361775682132), (3188, 0.009059172558038628), (2435, 0.009057014096314217), (66, 0.009051818445701982), (3903, 0.009051443688437414), (3972, 0.009051069155618879), (3350, 0.009048535426859837), (3330, 0.009038622905662222), (3594, 0.009033679348659961), (117, 0.009032925492123874), (3746, 0.009028893853719952), (689, 0.009019765618142848), (259, 0.009017579043312992), (439, 0.009016134541574721), (4020, 0.008998077169931817), (2980, 0.008995324333078552), (537, 0.008995098308236894), (105, 0.008994830541521255), (3477, 0.008993294511801326), (3379, 0.008992233980969535), (1891, 0.008990816411385988), (1634, 0.008988981187530718), (4157, 0.008988015318480418), (459, 0.008985630310964604), (894, 0.008984311549513048), (2111, 0.008984281310397805), (3596, 0.008975800000761312), (1842, 0.008974029350213884), (424, 0.00897254902909163), (2087, 0.008970790549695762), (4542, 0.008966826457586344), (466, 0.008966532722655584), (464, 0.008964766282986977), (425, 0.008964764344874077), (1411, 0.008962198047476324), (1437, 0.00895439028467606), (2909, 0.008945222743917005), (1771, 0.00894204879182547), (1257, 0.008937173961502372), (1757, 0.008934418776829243), (1857, 0.008928579889932052), (215, 0.008910122367332483), (1235, 0.008907781254358147), (1026, 0.008899676482442375), (666, 0.008892325257296595), (2066, 0.008889711755867946), (1589, 0.008884154214174851), (773, 0.008872721602338063), (3469, 0.008849598735842417), (2164, 0.008845015970591816), (2956, 0.008844932329104303), (4535, 0.008844816798711519), (4314, 0.008843914206251845), (1069, 0.008841423771426167), (4073, 0.00883981986620375), (2356, 0.008833901691843863), (4401, 0.008829004278439589), (1284, 0.008828726958894093), (2178, 0.008821717535560826), (1035, 0.008810803976074384), (3877, 0.008798376498522494), (2830, 0.008794788711568111), (41, 0.008793063571185542), (49, 0.008790982014032498), (2808, 0.008788187329379209), (2367, 0.008779618497235636), (3348, 0.008777104670341717), (4742, 0.008772972354579757), (2752, 0.008772500104998249), (4472, 0.008767062587175694), (556, 0.008767061561538201), (2571, 0.008762470137762808), (3062, 0.008760984268684414), (2245, 0.0087599448517887), (1839, 0.008758914460009752), (1240, 0.008757929231894845), (3011, 0.008757920324932075), (1854, 0.008757048310505744), (3149, 0.00874813888402418), (1421, 0.00874331709597406), (3151, 0.008736911266149847), (1597, 0.008736565446258377), (1725, 0.00873622188029772), (550, 0.00872848500004348), (3387, 0.008726399704517178), (4252, 0.00872606909785247), (2428, 0.008720875799592609), (2517, 0.008719033966120589), (3533, 0.008712952666122275), (4181, 0.00871051201099026), (4077, 0.008707246639706864), (437, 0.008702899003479992), (1487, 0.008696043671179775), (3246, 0.008694613897662079), (1034, 0.008685467957353818), (591, 0.00867826645593084), (69, 0.008676758000816655), (875, 0.008673156529470476), (52, 0.008671764008652109), (2143, 0.008671300589780061), (3985, 0.008670097125287506), (1416, 0.008666942845388381), (4155, 0.008664490990094437), (3315, 0.008663938539933969), (3869, 0.00866258417810399), (677, 0.008660295217037853), (1654, 0.008657170357317777), (854, 0.008655516737022516), (3787, 0.008651353773970256), (1091, 0.008651258008957422), (1663, 0.008640623240495898), (4130, 0.00863717511908516), (2575, 0.00863709987941616), (4321, 0.008634571015560024), (635, 0.008627567177826805), (1255, 0.008617420639955742), (2898, 0.008611536879301837), (2892, 0.008609160369257204), (4374, 0.008609128163727182), (360, 0.00860581735662365), (827, 0.008603991611732833), (767, 0.008603370240838336), (3163, 0.008601150527257784), (4491, 0.008598367897771126), (1818, 0.008594485312823962), (3202, 0.008591852526690666), (1787, 0.008590038863170649), (2271, 0.008583163699172284), (325, 0.00857038563852131), (2136, 0.008564419654686585), (3819, 0.008563325479191022), (1894, 0.008563238059483273), (2888, 0.008560059977745161), (578, 0.00855975872488567), (4493, 0.008558112799119758), (1036, 0.00855389353395664), (2052, 0.008553715294074364), (1555, 0.008538393344424784), (3977, 0.00853475459236706), (2201, 0.008532150035009796), (1041, 0.008513320152409081), (4076, 0.008513223371879203), (549, 0.00850975084856467), (232, 0.008508221734916315), (3586, 0.008504442277937405), (6, 0.008502299535677863), (4159, 0.008499894742643434), (2205, 0.008489455338096157), (702, 0.008485371454709616), (4059, 0.008481502586327003), (1228, 0.008480005246870584), (4269, 0.008476287856086433), (1992, 0.008473044907077213), (4703, 0.008469608401434797), (655, 0.00846936479715975), (3782, 0.008464548240694718), (2699, 0.008461269445622824), (1477, 0.008459810422864948), (3966, 0.008458564130132164), (3834, 0.008455181191473947), (1899, 0.008455006121334109), (3131, 0.008454429946962886), (2120, 0.008451265826622227), (2725, 0.008451250159093055), (3732, 0.008449708401901818), (1673, 0.008443334315054932), (3147, 0.008443230058318773), (1812, 0.008441571513935882), (3438, 0.00843619774895368), (3389, 0.008435493177396489), (4348, 0.008434713221844605), (1324, 0.00842943679234302), (2609, 0.008428775558688515), (826, 0.00842774462630465), (710, 0.008425593741445045), (111, 0.008425071489036623), (2522, 0.008422065007301891), (1456, 0.008418214104918123), (1280, 0.008414742598195801), (524, 0.008414093974078243), (183, 0.00841171376492637), (4289, 0.008410787138695855), (1572, 0.008408409117286181), (463, 0.008405358950854142), (603, 0.008405071510616072), (2129, 0.008403864144017047), (240, 0.008394756159487735), (17, 0.008394333652737935), (2777, 0.008391961761271067), (2317, 0.008391738712287123), (2868, 0.00839097572571135), (3979, 0.008389913210957133), (978, 0.008388852846955916), (239, 0.008381959693979842), (3993, 0.008379586229278198), (3132, 0.008378176777009212), (199, 0.00836310394951909), (1436, 0.008361191960501944), (2315, 0.008359565821119595), (324, 0.008359217466722448), (638, 0.008359017662546415), (418, 0.008358695292750544), (1357, 0.008357980987187805), (1904, 0.008357046566690533), (1543, 0.008355871260999107), (3747, 0.008346306834165668), (2274, 0.008345041363049257), (1197, 0.00833888349788852), (3459, 0.008334158631210497), (1380, 0.008334036995366258), (829, 0.008331512312891969), (2265, 0.008326462544649131), (1185, 0.008325460302281072), (3876, 0.008325215810838843), (2236, 0.008322876971029574), (4274, 0.008316242819674847), (600, 0.008315131913724162), (1270, 0.008314587341837118), (1570, 0.008310641735818554), (3244, 0.008308178621647056), (801, 0.008307862964639178), (4277, 0.008307265214412923), (4186, 0.008302185171519063), (4600, 0.008299879805695165), (2203, 0.00829897609742412), (231, 0.008286564569781215), (124, 0.008281486298372288), (2007, 0.008278375888113454), (338, 0.008274566759942429), (2640, 0.008268271169719827), (4354, 0.008266659213565604), (2249, 0.008264086213817056), (1396, 0.008264067248595467), (2262, 0.008263080028630077), (2728, 0.008255311288346074), (1965, 0.008254112360567814), (3027, 0.008253449378288421), (2015, 0.008251545367622222), (2605, 0.008249161967240131), (3134, 0.00824774458709942), (597, 0.008244846508417418), (201, 0.008244727087446078), (3716, 0.00824344795563679), (4419, 0.008238167676670124), (1475, 0.00823801564830275), (586, 0.00823162826112868), (2591, 0.00822862900882662), (4466, 0.008228599848223639), (3841, 0.008225238439568698), (583, 0.008222007728320043), (2691, 0.00822143113148103), (2402, 0.008213549369180869), (2043, 0.008212912647951844), (793, 0.008206831792712855), (4109, 0.008206339470367847), (3124, 0.008204352628244153), (2016, 0.008203589859407154), (3247, 0.0082026571281621), (1827, 0.008201392399980452), (3907, 0.008198605554247066), (3798, 0.008196847435483807), (1657, 0.008191181762614639), (615, 0.008185872334311497), (189, 0.008183167919339308), (1470, 0.008179500390409449), (2944, 0.008179415900320208), (1539, 0.008178498110442507), (3743, 0.008176541620479365), (383, 0.008174357259892429), (3318, 0.008174046299187207), (898, 0.008170176150563882), (981, 0.008165070849084553), (3974, 0.008163090949134744), (4467, 0.008162699036983523), (334, 0.008160957329833799), (2457, 0.008158399640566857), (4437, 0.008158146531259593), (2005, 0.008155200650604941), (1739, 0.008154843277495855), (4366, 0.008154830449676742), (161, 0.00815215420282695), (3463, 0.008151715261706539), (1244, 0.008151086252556903), (1423, 0.008140004789419964), (4456, 0.008138140546548935), (95, 0.008128789083473342), (4643, 0.008128566552386994), (1394, 0.008126130725031681), (631, 0.008125067152541686), (577, 0.008122824454426658), (3167, 0.0081222222236191), (4590, 0.008121222454690474), (3948, 0.008109428276412948), (902, 0.008106213734476496), (3840, 0.008100900861347774), (1254, 0.008098956379061684), (4294, 0.008093509149502224), (2163, 0.008092587622193366), (2172, 0.008092549857836952), (191, 0.008092034899767042), (2929, 0.008088887374977798), (1318, 0.008088558639971218), (4533, 0.00808758164620785), (3597, 0.00808747960743161), (4663, 0.008086099002152437), (1978, 0.008083490940742788), (1686, 0.00807892236390506), (3690, 0.008075770194026265), (1111, 0.008075253173444012), (1931, 0.008073926966297674), (1384, 0.008071964358294144), (2955, 0.008069652584767772), (3486, 0.008068482067301649), (333, 0.00806715277736391), (3082, 0.00806645421315841), (2444, 0.008060651815985549), (2960, 0.00805979624844634), (4110, 0.008049315811637103), (56, 0.008045668283932564), (3894, 0.0080439787173916), (3404, 0.008040000111894546), (4288, 0.008039773833151421), (1684, 0.0080342017579541), (1386, 0.008033952507484317), (1087, 0.008033900097205806), (919, 0.008030580494276497), (2551, 0.008029290320596813), (592, 0.008026129369188144), (1440, 0.008024303457449552), (2047, 0.008014406463981574), (820, 0.008011448249118694), (2277, 0.008010473417582454), (2074, 0.008006691738292864), (3467, 0.008003323450530734), (2502, 0.00800194360546094), (945, 0.00800157994435631), (4041, 0.00799275458290152), (3830, 0.00799034977898682), (1943, 0.007983295196200668), (4581, 0.007975914941601612), (1175, 0.007975010016911067), (4679, 0.007973536434646909), (1405, 0.007973450989819907), (4247, 0.007971406369564865), (2721, 0.00796962307053143), (2975, 0.00796791660244692), (182, 0.007965323226429784), (4300, 0.007964078991024075), (1186, 0.007963580748945601), (1945, 0.007962296737118457), (2240, 0.007958947372386288), (4609, 0.007956631920249984), (258, 0.007956228572315571), (2067, 0.00794982104171319), (1346, 0.007947455403426677), (2826, 0.00794450606380881), (317, 0.007941472816993768), (2501, 0.007940317443237246), (1388, 0.00793671901594026), (39, 0.007934745782148991), (2506, 0.007927969219952449), (520, 0.007924481525945694), (1151, 0.007923787337486483), (1863, 0.007921269001486056), (4468, 0.0079187540585897), (3367, 0.00791473980231759), (1385, 0.007912248574012506), (1566, 0.007908655170346796), (1370, 0.007908462653486496), (2804, 0.007904727105303433), (2460, 0.007903957354214551), (1179, 0.007901214250283903), (3982, 0.007900328849811997), (4473, 0.007898950701566087), (849, 0.007897097677454362), (305, 0.007894640911375945), (3655, 0.007892949359540541), (3492, 0.00789258645143656), (1269, 0.007889566556515182), (965, 0.007885029442101024), (3525, 0.00788481309783248), (241, 0.00788289711029786), (3346, 0.007881303553530748), (1262, 0.007881246753786948), (4016, 0.00788055378782094), (79, 0.007877669465890793), (4353, 0.007876215925408662), (3684, 0.007871055479166689), (1022, 0.00786616734064589), (2014, 0.007859613615537012), (4056, 0.007859609076806337), (892, 0.00785710017230706), (610, 0.00785690353721539), (4188, 0.007851712347433445), (1238, 0.00784844107593271), (733, 0.007847185857488158), (3963, 0.007843157320718282), (2842, 0.007841374919685014), (1088, 0.007840527488242823), (1698, 0.007833965151759265), (642, 0.00783391430532544), (2569, 0.007808426710942557), (1126, 0.007803199427768743), (2847, 0.007802068745153489), (3937, 0.00779900807061749), (2298, 0.007797972596227329), (1263, 0.007792742453803704), (467, 0.007789752267168305), (2758, 0.007789639524816042), (613, 0.007789110572787287), (1272, 0.007786134437551353), (445, 0.007764131376721459), (1215, 0.007763168237756533), (4211, 0.007757111290180001), (119, 0.0077528825703631525), (394, 0.007750822511176768), (3579, 0.0077415502472447505), (2713, 0.0077414667141536405), (539, 0.007732809123810982), (3454, 0.007729987315712324), (3773, 0.007728868252468652), (4224, 0.007728320704873254), (90, 0.007727436888242659), (4036, 0.007721268382028661), (3709, 0.007702189719597633), (2933, 0.007702132709947525), (1350, 0.007697539793376409), (2541, 0.007696410038488148), (3855, 0.0076955922906092695), (2103, 0.007694691922562146), (1222, 0.007688868938185424), (1315, 0.007686474554361965), (1639, 0.0076779211578660855), (152, 0.007674103046510782), (621, 0.0076735935132350025), (1845, 0.00766959523797372), (292, 0.007666943368941957), (3555, 0.007658889286635412), (1365, 0.007658680235078093), (1312, 0.007653738323041162), (4588, 0.007653125975254795), (1279, 0.007635963599910632), (2114, 0.007635443681188898), (1063, 0.007635216767248818), (1645, 0.007634100579612973), (1113, 0.007628589522481146), (261, 0.007624215810173366), (2642, 0.007613535396478692), (1287, 0.0076135319880735065), (3582, 0.00761269027282444), (3156, 0.007611115648610256), (4564, 0.007608826230509877), (3212, 0.0076034867548104915), (3917, 0.007601625456806543), (1293, 0.007595486186652925), (2770, 0.007584582778369162), (3786, 0.007582201791973071), (2132, 0.007576959751403065), (1042, 0.0075747086847852835), (2641, 0.007572432697895069), (3567, 0.007571136555844451), (93, 0.007568749760190495), (1912, 0.007565752770475494), (4523, 0.007559409378920063), (852, 0.007559157114779647), (1490, 0.0075503226462393545), (3965, 0.007547042394685561), (3105, 0.00754587837751377), (3484, 0.00754245708192824), (284, 0.007536271841054015), (1273, 0.007520771634905983), (2950, 0.007509600536399934), (3700, 0.007506046462717047), (4428, 0.007503651992134782), (25, 0.00750228927860584), (1738, 0.0075018716597577825), (171, 0.007501148931646401), (1571, 0.007498336618396729), (4272, 0.007496827537039582), (260, 0.007495270478745063), (2025, 0.007481567314929799), (3361, 0.0074804972333477986), (263, 0.007478159697454829), (966, 0.0074611779021433264), (1296, 0.0074542424558332225), (3783, 0.007453172432966459), (4292, 0.007445393761349362), (1579, 0.00742792574907648), (3193, 0.0074232333520254734), (3566, 0.00742290430088555), (433, 0.007418803707781928), (2139, 0.007416597494167745), (3254, 0.007415636367787573), (691, 0.007412944724233504), (548, 0.007410346693270778), (645, 0.007407446881668391), (903, 0.007407372915481285), (3135, 0.007401419416406433), (76, 0.007400229660273254), (366, 0.007396239125887254), (468, 0.007394694396806949), (426, 0.007391338268062603), (3100, 0.007381598855882141), (3136, 0.0073702794026372425), (407, 0.007359247432680087), (921, 0.00735455142482172), (3426, 0.007351048298067431), (935, 0.007350146916766327), (506, 0.007349741791751114), (2442, 0.007349320263165469), (1317, 0.007348353072618247), (46, 0.007344775327112245), (1268, 0.007342752491377632), (1963, 0.007337919410799058), (1135, 0.007333103747516665), (568, 0.007329158630502509), (1514, 0.007313333359919745), (1144, 0.007312473595519704), (4236, 0.007308218217864123), (3114, 0.0073053328145193264), (1646, 0.007297401218439095), (1789, 0.007297100306430847), (540, 0.007293310710039084), (706, 0.007284947274180539), (2766, 0.00727773163720996), (379, 0.007277449001735016), (382, 0.007268280748140125), (4439, 0.007262920033622551), (94, 0.007256879192914257), (80, 0.007240647426021097), (1982, 0.0072380923014204014), (1242, 0.00722910566085361), (397, 0.007225266368288663), (218, 0.007214443836890966), (37, 0.007213893987401522), (309, 0.007213637326888945), (2078, 0.007213043752357407), (2734, 0.007208481096115214), (4153, 0.0072012243934272925), (1675, 0.0071989809533864624), (609, 0.0071960653611419685), (2022, 0.0071927529725919264), (2803, 0.007191427110873842), (4193, 0.007186490368803271), (67, 0.007165754060612544), (1503, 0.00716476865819296), (608, 0.007163222415141098), (1567, 0.007158308506757587), (1173, 0.007151306218729817), (1809, 0.007141699321726707), (428, 0.007134478766553562), (4055, 0.007127565050513939), (3600, 0.007125683548810454), (1134, 0.007123085401594791), (2426, 0.007122672770549742), (2326, 0.007121648802825025), (4074, 0.007111524229450491), (699, 0.0071064310111280836), (2065, 0.007099597519246754), (327, 0.007088825375417456), (2185, 0.007079294997098423), (3231, 0.007076448751938036), (3795, 0.007068837718651785), (323, 0.007068658454940171), (594, 0.007063220037919197), (954, 0.0070626236335780395), (1, 0.007058324671908095), (856, 0.007053724716084821), (252, 0.006999738456520411), (351, 0.006997614608295011), (3598, 0.006995316189205156), (1283, 0.006949403800373209), (2237, 0.006934152132447894), (32, 0.006929852621823838), (2718, 0.006896121161848879), (3394, 0.006891600188113599), (1772, 0.006857339187419678), (3356, 0.006840516929546622), (165, 0.006831242153366312), (2636, 0.00680905535284009), (234, 0.006801115089434706), (3983, 0.006794569811071988), (2177, 0.006793642959924462), (286, 0.00678112189854757), (1833, 0.0067666524702189165), (496, 0.006746595237602738), (601, 0.006741314297554978), (1050, 0.006732173996360262), (1802, 0.006730660284975547), (3405, 0.00671646101562774), (1352, 0.006712522020613426), (3065, 0.006712183165405776), (1351, 0.0066885099471773474), (561, 0.00668789177561907), (639, 0.006672853152257022), (951, 0.0066710354362768225), (3657, 0.006668641020145569), (2127, 0.00663394073220956), (2814, 0.006561824534840871), (929, 0.006542424046583053), (1341, 0.0064857791651531495), (1530, 0.006471545265248476), (602, 0.006451967199478772), (1326, 0.0064509153410795056), (290, 0.006448415322368693), (295, 0.006444439053086017), (940, 0.006419034318609938), (2028, 0.00641857350100223), (4171, 0.006409783050283789), (4626, 0.006388952816218735), (243, 0.006385211342808372), (1989, 0.006347031120967241), (289, 0.006342392664986143), (2774, 0.006314581296702539), (63, 0.0062891853082263135), (1886, 0.006280927227893766), (3421, 0.006274592917261635), (330, 0.006266664162721395), (2010, 0.006240568508152725), (3458, 0.006213565152744972), (1506, 0.006210918443689084), (3456, 0.006194195629357966), (3152, 0.006166572232786428), (3750, 0.006133097690258768), (1418, 0.006074210744019444), (2474, 0.006062786572191669), (775, 0.006045541844334601), (452, 0.005951770658646568), (202, 0.005951162691308844), (2660, 0.005922191175016596), (3546, 0.005895729207480486), (3205, 0.005878052937155396), (283, 0.005782928269412782), (336, 0.0056674348993035325), (2118, 0.0056406344797538845), (787, 0.005547555174306821), (1948, 0.005414812383634546), (3, 0.0), (4, 0.0), (7, 0.0), (8, 0.0), (10, 0.0), (12, 0.0), (13, 0.0), (15, 0.0), (16, 0.0), (18, 0.0), (21, 0.0), (22, 0.0), (23, 0.0), (24, 0.0), (26, 0.0), (28, 0.0), (29, 0.0), (30, 0.0), (31, 0.0), (33, 0.0), (34, 0.0), (43, 0.0), (47, 0.0), (48, 0.0), (51, 0.0), (60, 0.0), (61, 0.0), (62, 0.0), (68, 0.0), (70, 0.0), (71, 0.0), (74, 0.0), (81, 0.0), (84, 0.0), (85, 0.0), (86, 0.0), (87, 0.0), (88, 0.0), (89, 0.0), (92, 0.0), (96, 0.0), (97, 0.0), (98, 0.0), (99, 0.0), (100, 0.0), (102, 0.0), (103, 0.0), (104, 0.0), (107, 0.0), (108, 0.0), (109, 0.0), (110, 0.0), (113, 0.0), (114, 0.0), (121, 0.0), (122, 0.0), (123, 0.0), (125, 0.0), (126, 0.0), (127, 0.0), (128, 0.0), (133, 0.0), (134, 0.0), (135, 0.0), (136, 0.0), (138, 0.0), (140, 0.0), (141, 0.0), (142, 0.0), (143, 0.0), (144, 0.0), (145, 0.0), (147, 0.0), (148, 0.0), (149, 0.0), (156, 0.0), (157, 0.0), (158, 0.0), (159, 0.0), (160, 0.0), (162, 0.0), (163, 0.0), (164, 0.0), (166, 0.0), (167, 0.0), (168, 0.0), (169, 0.0), (170, 0.0), (172, 0.0), (173, 0.0), (175, 0.0), (176, 0.0), (178, 0.0), (180, 0.0), (181, 0.0), (184, 0.0), (186, 0.0), (187, 0.0), (192, 0.0), (194, 0.0), (197, 0.0), (198, 0.0), (200, 0.0), (203, 0.0), (206, 0.0), (207, 0.0), (209, 0.0), (210, 0.0), (211, 0.0), (213, 0.0), (214, 0.0), (216, 0.0), (221, 0.0), (222, 0.0), (223, 0.0), (224, 0.0), (225, 0.0), (229, 0.0), (230, 0.0), (233, 0.0), (244, 0.0), (246, 0.0), (248, 0.0), (251, 0.0), (254, 0.0), (255, 0.0), (262, 0.0), (266, 0.0), (267, 0.0), (268, 0.0), (269, 0.0), (271, 0.0), (274, 0.0), (275, 0.0), (276, 0.0), (278, 0.0), (280, 0.0), (281, 0.0), (282, 0.0), (287, 0.0), (291, 0.0), (293, 0.0), (296, 0.0), (303, 0.0), (304, 0.0), (311, 0.0), (313, 0.0), (318, 0.0), (319, 0.0), (326, 0.0), (328, 0.0), (329, 0.0), (331, 0.0), (332, 0.0), (337, 0.0), (339, 0.0), (342, 0.0), (347, 0.0), (349, 0.0), (350, 0.0), (352, 0.0), (353, 0.0), (354, 0.0), (355, 0.0), (356, 0.0), (359, 0.0), (367, 0.0), (369, 0.0), (372, 0.0), (375, 0.0), (376, 0.0), (378, 0.0), (380, 0.0), (386, 0.0), (387, 0.0), (388, 0.0), (389, 0.0), (393, 0.0), (395, 0.0), (396, 0.0), (399, 0.0), (400, 0.0), (403, 0.0), (406, 0.0), (408, 0.0), (411, 0.0), (412, 0.0), (414, 0.0), (416, 0.0), (420, 0.0), (422, 0.0), (427, 0.0), (429, 0.0), (430, 0.0), (431, 0.0), (434, 0.0), (435, 0.0), (436, 0.0), (438, 0.0), (442, 0.0), (446, 0.0), (448, 0.0), (449, 0.0), (450, 0.0), (453, 0.0), (455, 0.0), (458, 0.0), (462, 0.0), (465, 0.0), (473, 0.0), (474, 0.0), (476, 0.0), (481, 0.0), (482, 0.0), (483, 0.0), (484, 0.0), (487, 0.0), (488, 0.0), (489, 0.0), (494, 0.0), (495, 0.0), (499, 0.0), (500, 0.0), (504, 0.0), (505, 0.0), (507, 0.0), (509, 0.0), (513, 0.0), (514, 0.0), (516, 0.0), (518, 0.0), (521, 0.0), (523, 0.0), (525, 0.0), (526, 0.0), (529, 0.0), (530, 0.0), (531, 0.0), (532, 0.0), (533, 0.0), (534, 0.0), (536, 0.0), (538, 0.0), (541, 0.0), (543, 0.0), (544, 0.0), (547, 0.0), (551, 0.0), (552, 0.0), (554, 0.0), (558, 0.0), (559, 0.0), (564, 0.0), (566, 0.0), (571, 0.0), (575, 0.0), (579, 0.0), (580, 0.0), (581, 0.0), (582, 0.0), (584, 0.0), (585, 0.0), (589, 0.0), (590, 0.0), (593, 0.0), (595, 0.0), (598, 0.0), (604, 0.0), (605, 0.0), (606, 0.0), (607, 0.0), (611, 0.0), (614, 0.0), (616, 0.0), (617, 0.0), (618, 0.0), (619, 0.0), (620, 0.0), (623, 0.0), (625, 0.0), (626, 0.0), (628, 0.0), (629, 0.0), (630, 0.0), (632, 0.0), (633, 0.0), (634, 0.0), (636, 0.0), (644, 0.0), (647, 0.0), (648, 0.0), (651, 0.0), (653, 0.0), (654, 0.0), (660, 0.0), (663, 0.0), (664, 0.0), (667, 0.0), (668, 0.0), (669, 0.0), (670, 0.0), (671, 0.0), (672, 0.0), (675, 0.0), (676, 0.0), (680, 0.0), (682, 0.0), (685, 0.0), (687, 0.0), (693, 0.0), (694, 0.0), (695, 0.0), (701, 0.0), (704, 0.0), (705, 0.0), (707, 0.0), (711, 0.0), (721, 0.0), (722, 0.0), (723, 0.0), (727, 0.0), (729, 0.0), (731, 0.0), (732, 0.0), (734, 0.0), (735, 0.0), (737, 0.0), (739, 0.0), (742, 0.0), (744, 0.0), (746, 0.0), (747, 0.0), (748, 0.0), (749, 0.0), (754, 0.0), (755, 0.0), (757, 0.0), (758, 0.0), (759, 0.0), (760, 0.0), (761, 0.0), (762, 0.0), (763, 0.0), (764, 0.0), (765, 0.0), (766, 0.0), (768, 0.0), (769, 0.0), (770, 0.0), (771, 0.0), (777, 0.0), (778, 0.0), (779, 0.0), (780, 0.0), (782, 0.0), (783, 0.0), (788, 0.0), (790, 0.0), (791, 0.0), (792, 0.0), (795, 0.0), (796, 0.0), (799, 0.0), (800, 0.0), (804, 0.0), (808, 0.0), (811, 0.0), (812, 0.0), (817, 0.0), (823, 0.0), (825, 0.0), (828, 0.0), (830, 0.0), (831, 0.0), (832, 0.0), (833, 0.0), (834, 0.0), (835, 0.0), (837, 0.0), (838, 0.0), (839, 0.0), (840, 0.0), (841, 0.0), (844, 0.0), (847, 0.0), (857, 0.0), (858, 0.0), (860, 0.0), (862, 0.0), (863, 0.0), (864, 0.0), (866, 0.0), (868, 0.0), (869, 0.0), (873, 0.0), (874, 0.0), (876, 0.0), (877, 0.0), (879, 0.0), (880, 0.0), (883, 0.0), (884, 0.0), (885, 0.0), (886, 0.0), (887, 0.0), (888, 0.0), (890, 0.0), (897, 0.0), (900, 0.0), (901, 0.0), (904, 0.0), (905, 0.0), (906, 0.0), (907, 0.0), (910, 0.0), (913, 0.0), (916, 0.0), (924, 0.0), (925, 0.0), (927, 0.0), (928, 0.0), (932, 0.0), (933, 0.0), (934, 0.0), (937, 0.0), (941, 0.0), (942, 0.0), (943, 0.0), (947, 0.0), (948, 0.0), (950, 0.0), (952, 0.0), (960, 0.0), (963, 0.0), (964, 0.0), (967, 0.0), (969, 0.0), (970, 0.0), (972, 0.0), (973, 0.0), (974, 0.0), (976, 0.0), (979, 0.0), (982, 0.0), (983, 0.0), (985, 0.0), (986, 0.0), (988, 0.0), (989, 0.0), (992, 0.0), (993, 0.0), (994, 0.0), (996, 0.0), (997, 0.0), (998, 0.0), (999, 0.0), (1000, 0.0), (1002, 0.0), (1003, 0.0), (1004, 0.0), (1005, 0.0), (1006, 0.0), (1015, 0.0), (1017, 0.0), (1019, 0.0), (1020, 0.0), (1024, 0.0), (1027, 0.0), (1028, 0.0), (1029, 0.0), (1030, 0.0), (1031, 0.0), (1032, 0.0), (1033, 0.0), (1043, 0.0), (1047, 0.0), (1049, 0.0), (1052, 0.0), (1053, 0.0), (1054, 0.0), (1055, 0.0), (1056, 0.0), (1058, 0.0), (1059, 0.0), (1060, 0.0), (1064, 0.0), (1065, 0.0), (1066, 0.0), (1068, 0.0), (1070, 0.0), (1071, 0.0), (1072, 0.0), (1073, 0.0), (1074, 0.0), (1075, 0.0), (1077, 0.0), (1078, 0.0), (1081, 0.0), (1089, 0.0), (1092, 0.0), (1094, 0.0), (1095, 0.0), (1096, 0.0), (1097, 0.0), (1098, 0.0), (1100, 0.0), (1101, 0.0), (1102, 0.0), (1103, 0.0), (1104, 0.0), (1105, 0.0), (1106, 0.0), (1107, 0.0), (1109, 0.0), (1117, 0.0), (1120, 0.0), (1123, 0.0), (1128, 0.0), (1129, 0.0), (1131, 0.0), (1133, 0.0), (1136, 0.0), (1139, 0.0), (1145, 0.0), (1146, 0.0), (1147, 0.0), (1154, 0.0), (1156, 0.0), (1158, 0.0), (1159, 0.0), (1160, 0.0), (1162, 0.0), (1163, 0.0), (1164, 0.0), (1167, 0.0), (1169, 0.0), (1170, 0.0), (1172, 0.0), (1174, 0.0), (1176, 0.0), (1177, 0.0), (1181, 0.0), (1183, 0.0), (1187, 0.0), (1188, 0.0), (1189, 0.0), (1190, 0.0), (1192, 0.0), (1193, 0.0), (1201, 0.0), (1203, 0.0), (1208, 0.0), (1209, 0.0), (1211, 0.0), (1212, 0.0), (1213, 0.0), (1214, 0.0), (1220, 0.0), (1224, 0.0), (1227, 0.0), (1232, 0.0), (1239, 0.0), (1241, 0.0), (1243, 0.0), (1245, 0.0), (1247, 0.0), (1248, 0.0), (1250, 0.0), (1252, 0.0), (1253, 0.0), (1259, 0.0), (1260, 0.0), (1261, 0.0), (1264, 0.0), (1265, 0.0), (1267, 0.0), (1271, 0.0), (1275, 0.0), (1276, 0.0), (1277, 0.0), (1278, 0.0), (1281, 0.0), (1286, 0.0), (1289, 0.0), (1290, 0.0), (1292, 0.0), (1294, 0.0), (1297, 0.0), (1299, 0.0), (1302, 0.0), (1303, 0.0), (1305, 0.0), (1311, 0.0), (1313, 0.0), (1319, 0.0), (1322, 0.0), (1325, 0.0), (1329, 0.0), (1331, 0.0), (1332, 0.0), (1334, 0.0), (1337, 0.0), (1338, 0.0), (1339, 0.0), (1340, 0.0), (1342, 0.0), (1343, 0.0), (1345, 0.0), (1347, 0.0), (1348, 0.0), (1349, 0.0), (1355, 0.0), (1356, 0.0), (1359, 0.0), (1360, 0.0), (1363, 0.0), (1364, 0.0), (1369, 0.0), (1375, 0.0), (1376, 0.0), (1377, 0.0), (1378, 0.0), (1392, 0.0), (1393, 0.0), (1395, 0.0), (1399, 0.0), (1403, 0.0), (1404, 0.0), (1406, 0.0), (1407, 0.0), (1409, 0.0), (1414, 0.0), (1415, 0.0), (1417, 0.0), (1419, 0.0), (1420, 0.0), (1424, 0.0), (1426, 0.0), (1427, 0.0), (1429, 0.0), (1432, 0.0), (1433, 0.0), (1434, 0.0), (1439, 0.0), (1441, 0.0), (1444, 0.0), (1446, 0.0), (1447, 0.0), (1448, 0.0), (1449, 0.0), (1453, 0.0), (1455, 0.0), (1462, 0.0), (1464, 0.0), (1465, 0.0), (1467, 0.0), (1469, 0.0), (1471, 0.0), (1478, 0.0), (1479, 0.0), (1483, 0.0), (1484, 0.0), (1485, 0.0), (1486, 0.0), (1488, 0.0), (1491, 0.0), (1493, 0.0), (1494, 0.0), (1498, 0.0), (1499, 0.0), (1500, 0.0), (1502, 0.0), (1504, 0.0), (1507, 0.0), (1508, 0.0), (1509, 0.0), (1512, 0.0), (1516, 0.0), (1517, 0.0), (1519, 0.0), (1527, 0.0), (1528, 0.0), (1532, 0.0), (1533, 0.0), (1535, 0.0), (1536, 0.0), (1540, 0.0), (1545, 0.0), (1548, 0.0), (1549, 0.0), (1551, 0.0), (1556, 0.0), (1559, 0.0), (1560, 0.0), (1563, 0.0), (1564, 0.0), (1565, 0.0), (1573, 0.0), (1574, 0.0), (1575, 0.0), (1580, 0.0), (1583, 0.0), (1584, 0.0), (1588, 0.0), (1590, 0.0), (1591, 0.0), (1593, 0.0), (1594, 0.0), (1595, 0.0), (1599, 0.0), (1605, 0.0), (1608, 0.0), (1609, 0.0), (1612, 0.0), (1614, 0.0), (1616, 0.0), (1617, 0.0), (1619, 0.0), (1620, 0.0), (1621, 0.0), (1622, 0.0), (1623, 0.0), (1625, 0.0), (1626, 0.0), (1629, 0.0), (1630, 0.0), (1631, 0.0), (1633, 0.0), (1635, 0.0), (1636, 0.0), (1637, 0.0), (1641, 0.0), (1642, 0.0), (1643, 0.0), (1644, 0.0), (1648, 0.0), (1651, 0.0), (1653, 0.0), (1655, 0.0), (1656, 0.0), (1658, 0.0), (1659, 0.0), (1660, 0.0), (1661, 0.0), (1662, 0.0), (1665, 0.0), (1666, 0.0), (1667, 0.0), (1669, 0.0), (1672, 0.0), (1674, 0.0), (1679, 0.0), (1680, 0.0), (1681, 0.0), (1685, 0.0), (1687, 0.0), (1688, 0.0), (1689, 0.0), (1692, 0.0), (1696, 0.0), (1702, 0.0), (1703, 0.0), (1708, 0.0), (1709, 0.0), (1710, 0.0), (1712, 0.0), (1715, 0.0), (1718, 0.0), (1719, 0.0), (1723, 0.0), (1724, 0.0), (1727, 0.0), (1728, 0.0), (1729, 0.0), (1732, 0.0), (1733, 0.0), (1735, 0.0), (1736, 0.0), (1740, 0.0), (1741, 0.0), (1742, 0.0), (1746, 0.0), (1747, 0.0), (1748, 0.0), (1749, 0.0), (1750, 0.0), (1752, 0.0), (1753, 0.0), (1754, 0.0), (1756, 0.0), (1759, 0.0), (1760, 0.0), (1761, 0.0), (1762, 0.0), (1765, 0.0), (1770, 0.0), (1773, 0.0), (1775, 0.0), (1776, 0.0), (1778, 0.0), (1779, 0.0), (1781, 0.0), (1782, 0.0), (1785, 0.0), (1791, 0.0), (1794, 0.0), (1795, 0.0), (1796, 0.0), (1799, 0.0), (1801, 0.0), (1803, 0.0), (1806, 0.0), (1808, 0.0), (1811, 0.0), (1813, 0.0), (1814, 0.0), (1815, 0.0), (1817, 0.0), (1819, 0.0), (1821, 0.0), (1823, 0.0), (1825, 0.0), (1826, 0.0), (1828, 0.0), (1829, 0.0), (1832, 0.0), (1834, 0.0), (1835, 0.0), (1836, 0.0), (1838, 0.0), (1847, 0.0), (1848, 0.0), (1851, 0.0), (1852, 0.0), (1853, 0.0), (1856, 0.0), (1858, 0.0), (1859, 0.0), (1860, 0.0), (1862, 0.0), (1864, 0.0), (1866, 0.0), (1868, 0.0), (1869, 0.0), (1870, 0.0), (1873, 0.0), (1874, 0.0), (1876, 0.0), (1877, 0.0), (1879, 0.0), (1880, 0.0), (1882, 0.0), (1884, 0.0), (1885, 0.0), (1887, 0.0), (1888, 0.0), (1890, 0.0), (1892, 0.0), (1893, 0.0), (1896, 0.0), (1897, 0.0), (1900, 0.0), (1905, 0.0), (1906, 0.0), (1907, 0.0), (1909, 0.0), (1910, 0.0), (1916, 0.0), (1917, 0.0), (1920, 0.0), (1921, 0.0), (1922, 0.0), (1924, 0.0), (1927, 0.0), (1929, 0.0), (1935, 0.0), (1937, 0.0), (1941, 0.0), (1947, 0.0), (1951, 0.0), (1952, 0.0), (1953, 0.0), (1956, 0.0), (1957, 0.0), (1959, 0.0), (1960, 0.0), (1966, 0.0), (1967, 0.0), (1970, 0.0), (1975, 0.0), (1976, 0.0), (1977, 0.0), (1980, 0.0), (1983, 0.0), (1984, 0.0), (1985, 0.0), (1988, 0.0), (1990, 0.0), (1991, 0.0), (1993, 0.0), (1994, 0.0), (1995, 0.0), (1996, 0.0), (1997, 0.0), (1998, 0.0), (2000, 0.0), (2001, 0.0), (2002, 0.0), (2004, 0.0), (2008, 0.0), (2009, 0.0), (2011, 0.0), (2012, 0.0), (2017, 0.0), (2020, 0.0), (2023, 0.0), (2024, 0.0), (2027, 0.0), (2029, 0.0), (2031, 0.0), (2032, 0.0), (2033, 0.0), (2037, 0.0), (2039, 0.0), (2040, 0.0), (2042, 0.0), (2044, 0.0), (2053, 0.0), (2057, 0.0), (2058, 0.0), (2059, 0.0), (2061, 0.0), (2062, 0.0), (2063, 0.0), (2069, 0.0), (2071, 0.0), (2072, 0.0), (2073, 0.0), (2077, 0.0), (2080, 0.0), (2081, 0.0), (2083, 0.0), (2085, 0.0), (2088, 0.0), (2089, 0.0), (2090, 0.0), (2091, 0.0), (2094, 0.0), (2096, 0.0), (2102, 0.0), (2105, 0.0), (2106, 0.0), (2107, 0.0), (2108, 0.0), (2109, 0.0), (2110, 0.0), (2113, 0.0), (2115, 0.0), (2116, 0.0), (2119, 0.0), (2121, 0.0), (2122, 0.0), (2124, 0.0), (2126, 0.0), (2128, 0.0), (2133, 0.0), (2134, 0.0), (2137, 0.0), (2138, 0.0), (2140, 0.0), (2141, 0.0), (2142, 0.0), (2144, 0.0), (2146, 0.0), (2148, 0.0), (2149, 0.0), (2151, 0.0), (2152, 0.0), (2156, 0.0), (2158, 0.0), (2160, 0.0), (2161, 0.0), (2162, 0.0), (2166, 0.0), (2167, 0.0), (2168, 0.0), (2169, 0.0), (2173, 0.0), (2174, 0.0), (2175, 0.0), (2179, 0.0), (2180, 0.0), (2184, 0.0), (2186, 0.0), (2189, 0.0), (2190, 0.0), (2191, 0.0), (2193, 0.0), (2194, 0.0), (2195, 0.0), (2202, 0.0), (2204, 0.0), (2206, 0.0), (2211, 0.0), (2213, 0.0), (2214, 0.0), (2215, 0.0), (2217, 0.0), (2219, 0.0), (2220, 0.0), (2221, 0.0), (2222, 0.0), (2224, 0.0), (2225, 0.0), (2226, 0.0), (2228, 0.0), (2229, 0.0), (2230, 0.0), (2232, 0.0), (2234, 0.0), (2238, 0.0), (2241, 0.0), (2242, 0.0), (2243, 0.0), (2244, 0.0), (2246, 0.0), (2248, 0.0), (2251, 0.0), (2252, 0.0), (2253, 0.0), (2255, 0.0), (2256, 0.0), (2266, 0.0), (2268, 0.0), (2270, 0.0), (2272, 0.0), (2276, 0.0), (2278, 0.0), (2280, 0.0), (2286, 0.0), (2288, 0.0), (2289, 0.0), (2292, 0.0), (2293, 0.0), (2294, 0.0), (2295, 0.0), (2300, 0.0), (2302, 0.0), (2303, 0.0), (2304, 0.0), (2305, 0.0), (2306, 0.0), (2307, 0.0), (2309, 0.0), (2312, 0.0), (2313, 0.0), (2314, 0.0), (2318, 0.0), (2325, 0.0), (2328, 0.0), (2333, 0.0), (2336, 0.0), (2338, 0.0), (2339, 0.0), (2340, 0.0), (2341, 0.0), (2342, 0.0), (2343, 0.0), (2344, 0.0), (2345, 0.0), (2346, 0.0), (2347, 0.0), (2348, 0.0), (2349, 0.0), (2350, 0.0), (2354, 0.0), (2355, 0.0), (2357, 0.0), (2359, 0.0), (2361, 0.0), (2362, 0.0), (2363, 0.0), (2368, 0.0), (2369, 0.0), (2370, 0.0), (2373, 0.0), (2374, 0.0), (2376, 0.0), (2378, 0.0), (2380, 0.0), (2382, 0.0), (2383, 0.0), (2385, 0.0), (2386, 0.0), (2387, 0.0), (2388, 0.0), (2392, 0.0), (2394, 0.0), (2395, 0.0), (2399, 0.0), (2403, 0.0), (2404, 0.0), (2407, 0.0), (2411, 0.0), (2412, 0.0), (2415, 0.0), (2416, 0.0), (2417, 0.0), (2418, 0.0), (2420, 0.0), (2422, 0.0), (2424, 0.0), (2425, 0.0), (2431, 0.0), (2432, 0.0), (2434, 0.0), (2436, 0.0), (2437, 0.0), (2439, 0.0), (2452, 0.0), (2453, 0.0), (2454, 0.0), (2455, 0.0), (2458, 0.0), (2459, 0.0), (2464, 0.0), (2465, 0.0), (2467, 0.0), (2469, 0.0), (2470, 0.0), (2471, 0.0), (2475, 0.0), (2476, 0.0), (2477, 0.0), (2478, 0.0), (2480, 0.0), (2482, 0.0), (2483, 0.0), (2486, 0.0), (2489, 0.0), (2495, 0.0), (2497, 0.0), (2498, 0.0), (2499, 0.0), (2500, 0.0), (2503, 0.0), (2505, 0.0), (2509, 0.0), (2510, 0.0), (2513, 0.0), (2514, 0.0), (2515, 0.0), (2518, 0.0), (2519, 0.0), (2520, 0.0), (2523, 0.0), (2524, 0.0), (2527, 0.0), (2528, 0.0), (2529, 0.0), (2533, 0.0), (2534, 0.0), (2535, 0.0), (2536, 0.0), (2537, 0.0), (2538, 0.0), (2540, 0.0), (2542, 0.0), (2543, 0.0), (2544, 0.0), (2546, 0.0), (2547, 0.0), (2550, 0.0), (2552, 0.0), (2553, 0.0), (2556, 0.0), (2557, 0.0), (2558, 0.0), (2560, 0.0), (2561, 0.0), (2566, 0.0), (2572, 0.0), (2576, 0.0), (2578, 0.0), (2581, 0.0), (2586, 0.0), (2587, 0.0), (2596, 0.0), (2598, 0.0), (2600, 0.0), (2602, 0.0), (2607, 0.0), (2608, 0.0), (2610, 0.0), (2611, 0.0), (2613, 0.0), (2619, 0.0), (2623, 0.0), (2624, 0.0), (2625, 0.0), (2627, 0.0), (2628, 0.0), (2629, 0.0), (2630, 0.0), (2631, 0.0), (2632, 0.0), (2633, 0.0), (2634, 0.0), (2638, 0.0), (2639, 0.0), (2644, 0.0), (2645, 0.0), (2648, 0.0), (2649, 0.0), (2651, 0.0), (2655, 0.0), (2657, 0.0), (2658, 0.0), (2659, 0.0), (2663, 0.0), (2664, 0.0), (2667, 0.0), (2669, 0.0), (2670, 0.0), (2673, 0.0), (2674, 0.0), (2676, 0.0), (2677, 0.0), (2678, 0.0), (2679, 0.0), (2680, 0.0), (2681, 0.0), (2682, 0.0), (2683, 0.0), (2684, 0.0), (2685, 0.0), (2686, 0.0), (2687, 0.0), (2689, 0.0), (2690, 0.0), (2692, 0.0), (2693, 0.0), (2695, 0.0), (2696, 0.0), (2698, 0.0), (2700, 0.0), (2701, 0.0), (2703, 0.0), (2705, 0.0), (2709, 0.0), (2712, 0.0), (2714, 0.0), (2716, 0.0), (2723, 0.0), (2726, 0.0), (2727, 0.0), (2730, 0.0), (2731, 0.0), (2732, 0.0), (2733, 0.0), (2735, 0.0), (2736, 0.0), (2737, 0.0), (2738, 0.0), (2739, 0.0), (2742, 0.0), (2743, 0.0), (2744, 0.0), (2745, 0.0), (2748, 0.0), (2750, 0.0), (2754, 0.0), (2757, 0.0), (2761, 0.0), (2764, 0.0), (2765, 0.0), (2768, 0.0), (2769, 0.0), (2773, 0.0), (2775, 0.0), (2776, 0.0), (2778, 0.0), (2779, 0.0), (2780, 0.0), (2783, 0.0), (2784, 0.0), (2785, 0.0), (2786, 0.0), (2787, 0.0), (2788, 0.0), (2789, 0.0), (2791, 0.0), (2792, 0.0), (2793, 0.0), (2794, 0.0), (2796, 0.0), (2797, 0.0), (2800, 0.0), (2801, 0.0), (2802, 0.0), (2805, 0.0), (2807, 0.0), (2811, 0.0), (2815, 0.0), (2816, 0.0), (2818, 0.0), (2819, 0.0), (2820, 0.0), (2821, 0.0), (2823, 0.0), (2827, 0.0), (2828, 0.0), (2829, 0.0), (2832, 0.0), (2834, 0.0), (2836, 0.0), (2837, 0.0), (2840, 0.0), (2846, 0.0), (2849, 0.0), (2853, 0.0), (2855, 0.0), (2858, 0.0), (2859, 0.0), (2861, 0.0), (2862, 0.0), (2863, 0.0), (2864, 0.0), (2865, 0.0), (2866, 0.0), (2869, 0.0), (2870, 0.0), (2871, 0.0), (2872, 0.0), (2874, 0.0), (2875, 0.0), (2878, 0.0), (2879, 0.0), (2881, 0.0), (2882, 0.0), (2883, 0.0), (2886, 0.0), (2889, 0.0), (2890, 0.0), (2891, 0.0), (2894, 0.0), (2897, 0.0), (2899, 0.0), (2900, 0.0), (2902, 0.0), (2903, 0.0), (2905, 0.0), (2906, 0.0), (2907, 0.0), (2908, 0.0), (2910, 0.0), (2911, 0.0), (2912, 0.0), (2913, 0.0), (2914, 0.0), (2915, 0.0), (2917, 0.0), (2918, 0.0), (2919, 0.0), (2922, 0.0), (2923, 0.0), (2924, 0.0), (2925, 0.0), (2926, 0.0), (2928, 0.0), (2930, 0.0), (2932, 0.0), (2934, 0.0), (2935, 0.0), (2939, 0.0), (2941, 0.0), (2942, 0.0), (2943, 0.0), (2945, 0.0), (2946, 0.0), (2947, 0.0), (2948, 0.0), (2949, 0.0), (2951, 0.0), (2953, 0.0), (2954, 0.0), (2957, 0.0), (2958, 0.0), (2959, 0.0), (2961, 0.0), (2962, 0.0), (2964, 0.0), (2966, 0.0), (2967, 0.0), (2968, 0.0), (2969, 0.0), (2970, 0.0), (2971, 0.0), (2973, 0.0), (2974, 0.0), (2977, 0.0), (2978, 0.0), (2983, 0.0), (2984, 0.0), (2989, 0.0), (2990, 0.0), (2991, 0.0), (2992, 0.0), (2993, 0.0), (2994, 0.0), (2995, 0.0), (2996, 0.0), (2997, 0.0), (3000, 0.0), (3002, 0.0), (3004, 0.0), (3005, 0.0), (3006, 0.0), (3007, 0.0), (3008, 0.0), (3009, 0.0), (3010, 0.0), (3012, 0.0), (3013, 0.0), (3014, 0.0), (3015, 0.0), (3016, 0.0), (3017, 0.0), (3019, 0.0), (3020, 0.0), (3021, 0.0), (3022, 0.0), (3023, 0.0), (3025, 0.0), (3026, 0.0), (3028, 0.0), (3029, 0.0), (3030, 0.0), (3031, 0.0), (3032, 0.0), (3034, 0.0), (3035, 0.0), (3036, 0.0), (3037, 0.0), (3038, 0.0), (3040, 0.0), (3041, 0.0), (3042, 0.0), (3043, 0.0), (3044, 0.0), (3045, 0.0), (3046, 0.0), (3048, 0.0), (3049, 0.0), (3050, 0.0), (3051, 0.0), (3052, 0.0), (3053, 0.0), (3054, 0.0), (3055, 0.0), (3057, 0.0), (3059, 0.0), (3061, 0.0), (3064, 0.0), (3067, 0.0), (3068, 0.0), (3072, 0.0), (3073, 0.0), (3074, 0.0), (3075, 0.0), (3076, 0.0), (3077, 0.0), (3079, 0.0), (3083, 0.0), (3085, 0.0), (3087, 0.0), (3088, 0.0), (3093, 0.0), (3095, 0.0), (3097, 0.0), (3098, 0.0), (3102, 0.0), (3104, 0.0), (3107, 0.0), (3108, 0.0), (3110, 0.0), (3113, 0.0), (3115, 0.0), (3118, 0.0), (3119, 0.0), (3120, 0.0), (3122, 0.0), (3123, 0.0), (3125, 0.0), (3127, 0.0), (3128, 0.0), (3130, 0.0), (3140, 0.0), (3143, 0.0), (3145, 0.0), (3148, 0.0), (3150, 0.0), (3154, 0.0), (3155, 0.0), (3157, 0.0), (3158, 0.0), (3159, 0.0), (3160, 0.0), (3161, 0.0), (3162, 0.0), (3164, 0.0), (3165, 0.0), (3166, 0.0), (3168, 0.0), (3169, 0.0), (3170, 0.0), (3171, 0.0), (3173, 0.0), (3174, 0.0), (3175, 0.0), (3176, 0.0), (3177, 0.0), (3178, 0.0), (3179, 0.0), (3180, 0.0), (3182, 0.0), (3183, 0.0), (3184, 0.0), (3185, 0.0), (3190, 0.0), (3191, 0.0), (3192, 0.0), (3194, 0.0), (3195, 0.0), (3196, 0.0), (3197, 0.0), (3200, 0.0), (3201, 0.0), (3203, 0.0), (3207, 0.0), (3210, 0.0), (3214, 0.0), (3216, 0.0), (3217, 0.0), (3218, 0.0), (3220, 0.0), (3223, 0.0), (3224, 0.0), (3225, 0.0), (3226, 0.0), (3227, 0.0), (3228, 0.0), (3233, 0.0), (3235, 0.0), (3239, 0.0), (3240, 0.0), (3241, 0.0), (3243, 0.0), (3245, 0.0), (3248, 0.0), (3250, 0.0), (3251, 0.0), (3252, 0.0), (3253, 0.0), (3255, 0.0), (3257, 0.0), (3258, 0.0), (3261, 0.0), (3262, 0.0), (3263, 0.0), (3264, 0.0), (3266, 0.0), (3268, 0.0), (3271, 0.0), (3274, 0.0), (3275, 0.0), (3277, 0.0), (3278, 0.0), (3279, 0.0), (3280, 0.0), (3282, 0.0), (3284, 0.0), (3285, 0.0), (3288, 0.0), (3290, 0.0), (3292, 0.0), (3293, 0.0), (3294, 0.0), (3295, 0.0), (3296, 0.0), (3299, 0.0), (3301, 0.0), (3302, 0.0), (3304, 0.0), (3305, 0.0), (3307, 0.0), (3308, 0.0), (3309, 0.0), (3310, 0.0), (3311, 0.0), (3312, 0.0), (3313, 0.0), (3314, 0.0), (3316, 0.0), (3317, 0.0), (3320, 0.0), (3322, 0.0), (3323, 0.0), (3324, 0.0), (3325, 0.0), (3326, 0.0), (3329, 0.0), (3332, 0.0), (3333, 0.0), (3334, 0.0), (3336, 0.0), (3337, 0.0), (3338, 0.0), (3339, 0.0), (3340, 0.0), (3341, 0.0), (3344, 0.0), (3345, 0.0), (3347, 0.0), (3349, 0.0), (3352, 0.0), (3354, 0.0), (3355, 0.0), (3357, 0.0), (3359, 0.0), (3362, 0.0), (3363, 0.0), (3364, 0.0), (3365, 0.0), (3368, 0.0), (3369, 0.0), (3371, 0.0), (3372, 0.0), (3373, 0.0), (3374, 0.0), (3375, 0.0), (3376, 0.0), (3378, 0.0), (3380, 0.0), (3381, 0.0), (3382, 0.0), (3383, 0.0), (3384, 0.0), (3385, 0.0), (3386, 0.0), (3391, 0.0), (3393, 0.0), (3396, 0.0), (3398, 0.0), (3401, 0.0), (3403, 0.0), (3406, 0.0), (3407, 0.0), (3408, 0.0), (3409, 0.0), (3410, 0.0), (3411, 0.0), (3412, 0.0), (3413, 0.0), (3414, 0.0), (3416, 0.0), (3417, 0.0), (3418, 0.0), (3420, 0.0), (3422, 0.0), (3423, 0.0), (3424, 0.0), (3425, 0.0), (3428, 0.0), (3430, 0.0), (3431, 0.0), (3432, 0.0), (3433, 0.0), (3434, 0.0), (3435, 0.0), (3436, 0.0), (3440, 0.0), (3441, 0.0), (3442, 0.0), (3443, 0.0), (3445, 0.0), (3446, 0.0), (3447, 0.0), (3450, 0.0), (3451, 0.0), (3452, 0.0), (3453, 0.0), (3455, 0.0), (3460, 0.0), (3462, 0.0), (3471, 0.0), (3474, 0.0), (3475, 0.0), (3479, 0.0), (3480, 0.0), (3483, 0.0), (3487, 0.0), (3488, 0.0), (3489, 0.0), (3490, 0.0), (3491, 0.0), (3494, 0.0), (3496, 0.0), (3498, 0.0), (3500, 0.0), (3502, 0.0), (3504, 0.0), (3507, 0.0), (3508, 0.0), (3509, 0.0), (3511, 0.0), (3513, 0.0), (3514, 0.0), (3518, 0.0), (3519, 0.0), (3521, 0.0), (3522, 0.0), (3523, 0.0), (3526, 0.0), (3527, 0.0), (3528, 0.0), (3529, 0.0), (3531, 0.0), (3534, 0.0), (3538, 0.0), (3541, 0.0), (3542, 0.0), (3543, 0.0), (3544, 0.0), (3547, 0.0), (3548, 0.0), (3549, 0.0), (3550, 0.0), (3551, 0.0), (3552, 0.0), (3553, 0.0), (3558, 0.0), (3561, 0.0), (3565, 0.0), (3570, 0.0), (3571, 0.0), (3572, 0.0), (3573, 0.0), (3575, 0.0), (3576, 0.0), (3577, 0.0), (3580, 0.0), (3583, 0.0), (3584, 0.0), (3585, 0.0), (3588, 0.0), (3590, 0.0), (3592, 0.0), (3595, 0.0), (3599, 0.0), (3601, 0.0), (3602, 0.0), (3603, 0.0), (3605, 0.0), (3608, 0.0), (3611, 0.0), (3612, 0.0), (3614, 0.0), (3615, 0.0), (3617, 0.0), (3618, 0.0), (3619, 0.0), (3621, 0.0), (3622, 0.0), (3623, 0.0), (3624, 0.0), (3625, 0.0), (3627, 0.0), (3634, 0.0), (3636, 0.0), (3637, 0.0), (3640, 0.0), (3645, 0.0), (3647, 0.0), (3648, 0.0), (3649, 0.0), (3651, 0.0), (3652, 0.0), (3653, 0.0), (3654, 0.0), (3656, 0.0), (3660, 0.0), (3661, 0.0), (3662, 0.0), (3663, 0.0), (3665, 0.0), (3668, 0.0), (3670, 0.0), (3672, 0.0), (3674, 0.0), (3676, 0.0), (3677, 0.0), (3678, 0.0), (3679, 0.0), (3680, 0.0), (3681, 0.0), (3683, 0.0), (3686, 0.0), (3687, 0.0), (3688, 0.0), (3689, 0.0), (3691, 0.0), (3692, 0.0), (3694, 0.0), (3696, 0.0), (3702, 0.0), (3703, 0.0), (3705, 0.0), (3706, 0.0), (3707, 0.0), (3708, 0.0), (3711, 0.0), (3712, 0.0), (3713, 0.0), (3714, 0.0), (3715, 0.0), (3717, 0.0), (3719, 0.0), (3720, 0.0), (3721, 0.0), (3723, 0.0), (3724, 0.0), (3725, 0.0), (3727, 0.0), (3729, 0.0), (3730, 0.0), (3734, 0.0), (3736, 0.0), (3737, 0.0), (3738, 0.0), (3740, 0.0), (3741, 0.0), (3745, 0.0), (3748, 0.0), (3749, 0.0), (3754, 0.0), (3755, 0.0), (3756, 0.0), (3757, 0.0), (3758, 0.0), (3759, 0.0), (3760, 0.0), (3761, 0.0), (3762, 0.0), (3764, 0.0), (3765, 0.0), (3766, 0.0), (3767, 0.0), (3768, 0.0), (3769, 0.0), (3771, 0.0), (3772, 0.0), (3775, 0.0), (3776, 0.0), (3777, 0.0), (3778, 0.0), (3779, 0.0), (3784, 0.0), (3788, 0.0), (3789, 0.0), (3791, 0.0), (3793, 0.0), (3797, 0.0), (3799, 0.0), (3800, 0.0), (3802, 0.0), (3804, 0.0), (3806, 0.0), (3808, 0.0), (3809, 0.0), (3810, 0.0), (3811, 0.0), (3814, 0.0), (3818, 0.0), (3820, 0.0), (3821, 0.0), (3823, 0.0), (3824, 0.0), (3825, 0.0), (3827, 0.0), (3828, 0.0), (3831, 0.0), (3832, 0.0), (3833, 0.0), (3835, 0.0), (3836, 0.0), (3837, 0.0), (3838, 0.0), (3842, 0.0), (3844, 0.0), (3848, 0.0), (3850, 0.0), (3851, 0.0), (3852, 0.0), (3853, 0.0), (3854, 0.0), (3856, 0.0), (3857, 0.0), (3859, 0.0), (3861, 0.0), (3862, 0.0), (3863, 0.0), (3864, 0.0), (3866, 0.0), (3867, 0.0), (3872, 0.0), (3873, 0.0), (3874, 0.0), (3878, 0.0), (3879, 0.0), (3880, 0.0), (3881, 0.0), (3882, 0.0), (3883, 0.0), (3884, 0.0), (3885, 0.0), (3886, 0.0), (3887, 0.0), (3888, 0.0), (3889, 0.0), (3890, 0.0), (3891, 0.0), (3893, 0.0), (3895, 0.0), (3896, 0.0), (3897, 0.0), (3898, 0.0), (3899, 0.0), (3900, 0.0), (3901, 0.0), (3904, 0.0), (3908, 0.0), (3909, 0.0), (3910, 0.0), (3911, 0.0), (3913, 0.0), (3914, 0.0), (3915, 0.0), (3916, 0.0), (3918, 0.0), (3919, 0.0), (3920, 0.0), (3921, 0.0), (3922, 0.0), (3924, 0.0), (3925, 0.0), (3927, 0.0), (3929, 0.0), (3930, 0.0), (3931, 0.0), (3932, 0.0), (3933, 0.0), (3934, 0.0), (3935, 0.0), (3936, 0.0), (3939, 0.0), (3940, 0.0), (3941, 0.0), (3944, 0.0), (3945, 0.0), (3946, 0.0), (3947, 0.0), (3949, 0.0), (3950, 0.0), (3951, 0.0), (3952, 0.0), (3954, 0.0), (3955, 0.0), (3957, 0.0), (3958, 0.0), (3959, 0.0), (3960, 0.0), (3961, 0.0), (3962, 0.0), (3964, 0.0), (3967, 0.0), (3969, 0.0), (3970, 0.0), (3971, 0.0), (3975, 0.0), (3976, 0.0), (3981, 0.0), (3986, 0.0), (3987, 0.0), (3988, 0.0), (3989, 0.0), (3992, 0.0), (3994, 0.0), (3995, 0.0), (3996, 0.0), (3997, 0.0), (3998, 0.0), (3999, 0.0), (4000, 0.0), (4001, 0.0), (4004, 0.0), (4005, 0.0), (4006, 0.0), (4007, 0.0), (4008, 0.0), (4012, 0.0), (4013, 0.0), (4014, 0.0), (4015, 0.0), (4017, 0.0), (4018, 0.0), (4019, 0.0), (4022, 0.0), (4023, 0.0), (4024, 0.0), (4025, 0.0), (4026, 0.0), (4028, 0.0), (4029, 0.0), (4030, 0.0), (4032, 0.0), (4038, 0.0), (4039, 0.0), (4040, 0.0), (4042, 0.0), (4043, 0.0), (4044, 0.0), (4046, 0.0), (4047, 0.0), (4048, 0.0), (4049, 0.0), (4050, 0.0), (4051, 0.0), (4052, 0.0), (4053, 0.0), (4054, 0.0), (4061, 0.0), (4062, 0.0), (4064, 0.0), (4065, 0.0), (4067, 0.0), (4068, 0.0), (4069, 0.0), (4071, 0.0), (4072, 0.0), (4075, 0.0), (4078, 0.0), (4079, 0.0), (4080, 0.0), (4081, 0.0), (4082, 0.0), (4083, 0.0), (4084, 0.0), (4087, 0.0), (4088, 0.0), (4090, 0.0), (4092, 0.0), (4093, 0.0), (4094, 0.0), (4095, 0.0), (4098, 0.0), (4100, 0.0), (4101, 0.0), (4102, 0.0), (4105, 0.0), (4107, 0.0), (4108, 0.0), (4111, 0.0), (4115, 0.0), (4116, 0.0), (4117, 0.0), (4119, 0.0), (4120, 0.0), (4121, 0.0), (4122, 0.0), (4123, 0.0), (4124, 0.0), (4126, 0.0), (4129, 0.0), (4131, 0.0), (4132, 0.0), (4134, 0.0), (4139, 0.0), (4141, 0.0), (4143, 0.0), (4145, 0.0), (4147, 0.0), (4149, 0.0), (4150, 0.0), (4154, 0.0), (4156, 0.0), (4158, 0.0), (4161, 0.0), (4162, 0.0), (4163, 0.0), (4164, 0.0), (4165, 0.0), (4166, 0.0), (4170, 0.0), (4172, 0.0), (4175, 0.0), (4176, 0.0), (4178, 0.0), (4179, 0.0), (4180, 0.0), (4182, 0.0), (4183, 0.0), (4184, 0.0), (4185, 0.0), (4192, 0.0), (4198, 0.0), (4200, 0.0), (4201, 0.0), (4202, 0.0), (4203, 0.0), (4204, 0.0), (4206, 0.0), (4208, 0.0), (4209, 0.0), (4212, 0.0), (4213, 0.0), (4216, 0.0), (4219, 0.0), (4220, 0.0), (4221, 0.0), (4222, 0.0), (4223, 0.0), (4225, 0.0), (4226, 0.0), (4227, 0.0), (4228, 0.0), (4229, 0.0), (4230, 0.0), (4231, 0.0), (4232, 0.0), (4234, 0.0), (4235, 0.0), (4239, 0.0), (4241, 0.0), (4243, 0.0), (4244, 0.0), (4245, 0.0), (4246, 0.0), (4248, 0.0), (4249, 0.0), (4251, 0.0), (4253, 0.0), (4254, 0.0), (4255, 0.0), (4256, 0.0), (4260, 0.0), (4261, 0.0), (4264, 0.0), (4265, 0.0), (4266, 0.0), (4267, 0.0), (4268, 0.0), (4273, 0.0), (4275, 0.0), (4276, 0.0), (4278, 0.0), (4279, 0.0), (4280, 0.0), (4281, 0.0), (4282, 0.0), (4284, 0.0), (4285, 0.0), (4290, 0.0), (4291, 0.0), (4293, 0.0), (4295, 0.0), (4296, 0.0), (4297, 0.0), (4298, 0.0), (4299, 0.0), (4301, 0.0), (4302, 0.0), (4305, 0.0), (4306, 0.0), (4307, 0.0), (4308, 0.0), (4309, 0.0), (4312, 0.0), (4313, 0.0), (4315, 0.0), (4316, 0.0), (4317, 0.0), (4318, 0.0), (4319, 0.0), (4320, 0.0), (4325, 0.0), (4326, 0.0), (4327, 0.0), (4331, 0.0), (4332, 0.0), (4334, 0.0), (4336, 0.0), (4339, 0.0), (4343, 0.0), (4344, 0.0), (4345, 0.0), (4349, 0.0), (4352, 0.0), (4355, 0.0), (4357, 0.0), (4359, 0.0), (4360, 0.0), (4361, 0.0), (4362, 0.0), (4363, 0.0), (4365, 0.0), (4367, 0.0), (4368, 0.0), (4369, 0.0), (4370, 0.0), (4373, 0.0), (4375, 0.0), (4376, 0.0), (4377, 0.0), (4378, 0.0), (4379, 0.0), (4381, 0.0), (4382, 0.0), (4383, 0.0), (4384, 0.0), (4385, 0.0), (4386, 0.0), (4387, 0.0), (4389, 0.0), (4390, 0.0), (4391, 0.0), (4392, 0.0), (4393, 0.0), (4394, 0.0), (4398, 0.0), (4400, 0.0), (4403, 0.0), (4404, 0.0), (4406, 0.0), (4408, 0.0), (4409, 0.0), (4410, 0.0), (4411, 0.0), (4412, 0.0), (4413, 0.0), (4414, 0.0), (4415, 0.0), (4417, 0.0), (4420, 0.0), (4421, 0.0), (4422, 0.0), (4423, 0.0), (4424, 0.0), (4425, 0.0), (4426, 0.0), (4429, 0.0), (4430, 0.0), (4431, 0.0), (4432, 0.0), (4434, 0.0), (4435, 0.0), (4436, 0.0), (4440, 0.0), (4441, 0.0), (4442, 0.0), (4443, 0.0), (4444, 0.0), (4446, 0.0), (4448, 0.0), (4449, 0.0), (4450, 0.0), (4451, 0.0), (4452, 0.0), (4453, 0.0), (4458, 0.0), (4459, 0.0), (4461, 0.0), (4462, 0.0), (4463, 0.0), (4465, 0.0), (4469, 0.0), (4470, 0.0), (4471, 0.0), (4474, 0.0), (4475, 0.0), (4476, 0.0), (4477, 0.0), (4479, 0.0), (4480, 0.0), (4481, 0.0), (4484, 0.0), (4485, 0.0), (4486, 0.0), (4488, 0.0), (4489, 0.0), (4494, 0.0), (4495, 0.0), (4496, 0.0), (4498, 0.0), (4499, 0.0), (4502, 0.0), (4504, 0.0), (4506, 0.0), (4507, 0.0), (4508, 0.0), (4510, 0.0), (4511, 0.0), (4512, 0.0), (4513, 0.0), (4514, 0.0), (4517, 0.0), (4520, 0.0), (4521, 0.0), (4522, 0.0), (4524, 0.0), (4525, 0.0), (4527, 0.0), (4530, 0.0), (4531, 0.0), (4534, 0.0), (4536, 0.0), (4537, 0.0), (4538, 0.0), (4539, 0.0), (4540, 0.0), (4541, 0.0), (4543, 0.0), (4544, 0.0), (4545, 0.0), (4546, 0.0), (4547, 0.0), (4548, 0.0), (4549, 0.0), (4551, 0.0), (4552, 0.0), (4553, 0.0), (4556, 0.0), (4558, 0.0), (4560, 0.0), (4561, 0.0), (4563, 0.0), (4565, 0.0), (4566, 0.0), (4567, 0.0), (4568, 0.0), (4571, 0.0), (4572, 0.0), (4573, 0.0), (4575, 0.0), (4576, 0.0), (4577, 0.0), (4578, 0.0), (4579, 0.0), (4580, 0.0), (4582, 0.0), (4583, 0.0), (4584, 0.0), (4585, 0.0), (4586, 0.0), (4591, 0.0), (4592, 0.0), (4593, 0.0), (4594, 0.0), (4595, 0.0), (4596, 0.0), (4597, 0.0), (4602, 0.0), (4603, 0.0), (4606, 0.0), (4607, 0.0), (4608, 0.0), (4611, 0.0), (4612, 0.0), (4614, 0.0), (4616, 0.0), (4617, 0.0), (4618, 0.0), (4619, 0.0), (4620, 0.0), (4621, 0.0), (4622, 0.0), (4623, 0.0), (4624, 0.0), (4625, 0.0), (4627, 0.0), (4628, 0.0), (4629, 0.0), (4630, 0.0), (4631, 0.0), (4632, 0.0), (4633, 0.0), (4634, 0.0), (4635, 0.0), (4636, 0.0), (4637, 0.0), (4638, 0.0), (4640, 0.0), (4641, 0.0), (4642, 0.0), (4644, 0.0), (4645, 0.0), (4646, 0.0), (4647, 0.0), (4648, 0.0), (4649, 0.0), (4650, 0.0), (4651, 0.0), (4652, 0.0), (4653, 0.0), (4654, 0.0), (4656, 0.0), (4657, 0.0), (4658, 0.0), (4660, 0.0), (4664, 0.0), (4665, 0.0), (4666, 0.0), (4667, 0.0), (4668, 0.0), (4670, 0.0), (4671, 0.0), (4672, 0.0), (4673, 0.0), (4674, 0.0), (4677, 0.0), (4680, 0.0), (4681, 0.0), (4682, 0.0), (4683, 0.0), (4685, 0.0), (4686, 0.0), (4687, 0.0), (4689, 0.0), (4690, 0.0), (4691, 0.0), (4692, 0.0), (4693, 0.0), (4694, 0.0), (4695, 0.0), (4696, 0.0), (4697, 0.0), (4698, 0.0), (4700, 0.0), (4701, 0.0), (4702, 0.0), (4705, 0.0), (4706, 0.0), (4707, 0.0), (4709, 0.0), (4710, 0.0), (4712, 0.0), (4713, 0.0), (4714, 0.0), (4715, 0.0), (4716, 0.0), (4717, 0.0), (4719, 0.0), (4720, 0.0), (4721, 0.0), (4723, 0.0), (4724, 0.0), (4727, 0.0), (4728, 0.0), (4729, 0.0), (4731, 0.0), (4733, 0.0), (4734, 0.0), (4735, 0.0), (4736, 0.0), (4738, 0.0), (4741, 0.0), (4744, 0.0), (4746, 0.0), (4747, 0.0), (4748, 0.0), (4750, 0.0), (4751, 0.0), (4753, 0.0), (4755, 0.0), (4759, 0.0)]\n"
          ]
        }
      ]
    },
    {
      "cell_type": "code",
      "source": [
        "#print the name of similar movies based on the index\n",
        "print(\"Top 30 Movies Suggest for you: \\n\")\n",
        "i=1\n",
        "\n",
        "for movie in Sorted_Similar_Score:\n",
        "  index=movie[0]\n",
        "  title_from_index=df[df.index==index]['Movie_Title'].values[0]\n",
        "  if(i<31):\n",
        "    print(i,'.',title_from_index)\n",
        "    i+=1"
      ],
      "metadata": {
        "colab": {
          "base_uri": "https://localhost:8080/"
        },
        "id": "vMqjrWwVc8iy",
        "outputId": "06ec417b-f182-4c0d-a78b-8ee264f3a5a8"
      },
      "execution_count": 36,
      "outputs": [
        {
          "output_type": "stream",
          "name": "stdout",
          "text": [
            "Top 30 Movies Suggest for you: \n",
            "\n",
            "1 . Tangled\n",
            "2 . Pan\n",
            "3 . Maleficent\n",
            "4 . Shrek\n",
            "5 . Racing Stripes\n",
            "6 . Alvin and the Chipmunks: The Squeakquel\n",
            "7 . Snow White: A Tale of Terror\n",
            "8 . Street Fighter\n",
            "9 . Aladdin\n",
            "10 . Snow White and the Huntsman\n",
            "11 . The Lizzie McGuire Movie\n",
            "12 . Mallrats\n",
            "13 . Cinderella\n",
            "14 . The Negotiator\n",
            "15 . Puss in Boots\n",
            "16 . Hotel Transylvania 2\n",
            "17 . Happily N'Ever After\n",
            "18 . The Joneses\n",
            "19 . Fantasia 2000\n",
            "20 . The Road to El Dorado\n",
            "21 . Enchanted\n",
            "22 . Into the Woods\n",
            "23 . Big Momma's House 2\n",
            "24 . Dr. Dolittle 2\n",
            "25 . Romance & Cigarettes\n",
            "26 . Zoom\n",
            "27 . American Dreamz\n",
            "28 . The Huntsman: Winter's War\n",
            "29 . Mirror Mirror\n",
            "30 . Hellboy\n"
          ]
        }
      ]
    },
    {
      "cell_type": "markdown",
      "source": [
        "#Top 100 Movie Recommendation System"
      ],
      "metadata": {
        "id": "2Csx8wX1d_Mz"
      }
    },
    {
      "cell_type": "code",
      "source": [
        "import difflib\n",
        "\n",
        "Movie_Name = input('Enter your favourite movie name: ')\n",
        "list_of_all_titles = df['Movie_Title'].tolist()\n",
        "\n",
        "# Find the closest match to the input movie name\n",
        "find_close_match = difflib.get_close_matches(Movie_Name, list_of_all_titles)\n",
        "\n",
        "# Check if any matches were found to avoid IndexError\n",
        "if len(find_close_match) > 0:\n",
        "    Close_Match = find_close_match[0]\n",
        "    Index_of_Movie = df[df['Movie_Title'] == Close_Match].index.values[0]\n",
        "\n",
        "    # Generate recommendation score based on similarity score\n",
        "    Recommendation_Score = list(enumerate(Similarity_Score[Index_of_Movie]))\n",
        "    sorted_movies = sorted(Recommendation_Score, key=lambda x: x[1], reverse=True)\n",
        "\n",
        "    print(\"Top 10 Movies suggested for you:\\n\")\n",
        "\n",
        "    i = 1\n",
        "\n",
        "    # Loop through sorted recommendations and print the top 10\n",
        "    for movie in sorted_movies:\n",
        "        index = movie[0]  # Correctly fetch the index from each movie\n",
        "\n",
        "        # Check if the movie ID exists in the DataFrame\n",
        "        result = df[df.Movie_ID == index]\n",
        "        if not result.empty:  # Ensure the result is not empty before accessing .values[0]\n",
        "            title_from_index = result['Movie_Title'].values[0]\n",
        "            if i <= 10:\n",
        "                print(f\"{i}. {title_from_index}\")\n",
        "                i += 1\n",
        "else:\n",
        "    print(\"Sorry, no close match found for the movie name you entered.\")\n"
      ],
      "metadata": {
        "colab": {
          "base_uri": "https://localhost:8080/"
        },
        "id": "P3JyEOp0eF66",
        "outputId": "351aab67-f793-414a-d41a-6e9a72303457"
      },
      "execution_count": 45,
      "outputs": [
        {
          "output_type": "stream",
          "name": "stdout",
          "text": [
            "Enter your favourite movie name: avtaar\n",
            "Top 10 Movies suggested for you:\n",
            "\n",
            "1. Jennifer's Body\n",
            "2. Seven Samurai\n",
            "3. Pearl Harbor\n",
            "4. White House Down\n",
            "5. Zulu\n",
            "6. Trippin'\n",
            "7. Do the Right Thing\n",
            "8. Barbarella\n",
            "9. On the Line\n",
            "10. Something Borrowed\n"
          ]
        }
      ]
    },
    {
      "cell_type": "code",
      "source": [],
      "metadata": {
        "id": "HE78PHOqe--R"
      },
      "execution_count": 40,
      "outputs": []
    }
  ]
}